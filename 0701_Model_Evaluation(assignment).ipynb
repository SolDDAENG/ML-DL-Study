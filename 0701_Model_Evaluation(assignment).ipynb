{
 "cells": [
  {
   "cell_type": "markdown",
   "metadata": {
    "colab_type": "text",
    "id": "IL6dIhEak3HO"
   },
   "source": [
    "# 딥러닝 온라인 심화반 <Level 7>에 오신 것을 환영합니다!"
   ]
  },
  {
   "cell_type": "markdown",
   "metadata": {
    "colab_type": "text",
    "id": "R89aOZHjk3HS"
   },
   "source": [
    "지금까지 퍼셉트론, 다층 퍼셉트론 등 많은 알고리즘을 다뤘지만, 현업에서, 그리고 실제 연구에서 이 알고리즘을 사용하기 위해서는 알고리즘의 성능을 정량적으로 측정하고 그 성능을 분석하는게 중요합니다. 이번 시간에는 구현한 딥러닝 모델의 성능을 평가하는 다양한 방법에 대해 살펴볼 것입니다. 마지막 과제로는 우편번호 손글씨 이미지(MNIST)로 학습한 다층 퍼셉트론의 성능을 평가하고, 이 모델을 활용하여 데이터 사이언스 경진대회 [캐글(Kaggle)](https://kaggle.com)에 도전하는 시간을 가져볼 것입니다."
   ]
  },
  {
   "cell_type": "markdown",
   "metadata": {
    "colab_type": "text",
    "id": "vgQVsAt8k3HU"
   },
   "source": [
    "## Overfitting(과대적합)과 Underfitting(과소적합)"
   ]
  },
  {
   "cell_type": "markdown",
   "metadata": {},
   "source": [
    "선형 회귀 분석과 같은 통계적 모델을 사용할 때, 새로운 데이터에 대해 예측하기 위한 훈련 세트에 모형을 적합시킵니다. 이때 Overfitting과 Underfitting의 두 가지 문제가 발생할 수 있습니다. Overfitting과 Underfitting이 무엇인지 알아봅시다.\n",
    "\n",
    "<img src=\"http://drive.google.com/uc?export=view&id=1f9BP-G9nW2yaaCvb4eAtXWdmNOCw0607\" width=\"800\">\n"
   ]
  },
  {
   "cell_type": "markdown",
   "metadata": {
    "colab_type": "text",
    "id": "lL-JyvFwk3HW"
   },
   "source": [
    "### Overfitting(과대적합)"
   ]
  },
  {
   "cell_type": "markdown",
   "metadata": {
    "colab_type": "text",
    "id": "Wx2uiDHTk3HX"
   },
   "source": [
    "Overfitting은 모델이 Training Data에 너무 잘 맞아서 일반성이 떨어지게 되는 문제입니다. 즉 Training Data를 너무 과하게 학습해 학습되지 않은 데이터가 들어오면 분류하지 못하게 되는 문제를 일으킵니다. 위의 오른쪽 그림에서 볼 수 있듯이 Training Data를 거의 다 거치거나 분류해내며 굉장히 높은 성능을 보여주고 있지만, 새로운 변수에 대응하기 어렵습니다. Overfitting은 보통 모델이 너무 복잡할 때 발생합니다. 특히 딥러닝은 학습 단계에서 입력, 은닉층, 출력층의 노드들에 상당히 많은 변수들이 투입되기 때문에 Overfitting이 발생할 위험이 큽니다. Overfitting이 발생하면 이 모델은 Training Data에 대해서는 매우 정확하지만 훈련되지 않은 새로운 데이터에 대해서는 정확성이 떨어집니다. "
   ]
  },
  {
   "cell_type": "markdown",
   "metadata": {
    "colab_type": "text",
    "id": "BXuSxBWZk3HY"
   },
   "source": [
    "### Underfitting(과소적합)"
   ]
  },
  {
   "cell_type": "markdown",
   "metadata": {
    "colab_type": "text",
    "id": "YCw6lXwDk3HZ"
   },
   "source": [
    "Overfitting과 반대로, Underfitting은 모델이 Training Data에 잘 맞지 않아서 데이터의 내재된 구조를 학습하지 못할 때 발생하는 문제입니다. Underfitting도 Overfitting과 마찬가지로 새로운 데이터에 일반화될 수 없습니다. 보통 모델이 너무 단순할 때 발생합니다. 예를 들어, 위의 왼쪽 그림처럼 선형이 아닌 데이터에 대해 선형 모델을 학습시킬 때 Underfitting이 발생할 수 있습니다. <br>\n",
    "\n",
    "그렇다면 Overfitting과 Underfitting을 방지하려면 어떻게 해야 할까요? "
   ]
  },
  {
   "cell_type": "markdown",
   "metadata": {
    "colab_type": "text",
    "id": "cGnFHXUmk3Ha"
   },
   "source": [
    "## Bias(편향)와 Variance(분산)"
   ]
  },
  {
   "cell_type": "markdown",
   "metadata": {
    "colab_type": "text",
    "id": "2lbFpiDok3Hb"
   },
   "source": [
    "모델 예측을 논의할 때, Bias와 Variance를 이해하는 것이 중요합니다. Bias와 Variance는 Trade-off 관계에 있기 때문에 이 둘을 모두 최소화시키는 것은 불가능합니다. 이 두 가지 에러를 적절히 이해하면 정확한 모델을 만들 수 있을 뿐만 아니라 Overfitting과 Underfitting을 피할 수 있습니다. <br>\n",
    "\n",
    "머신러닝/딥러닝 모델에서 이 두 가지 에러의 개념과 차이를 살펴봅시다. <br>\n",
    "<img src=\"http://drive.google.com/uc?export=view&id=1xrQc3y3HPtm3bJlBiG8OGWBCjuOv1BOg\" width=\"600\"> <br>\n",
    "\n",
    "우리가 예측하고자 하는 변수를 Y라고 하고 학습에 사용되는 데이터인 독립변수(Feature)을 X라고 합시다. 두 변수 사이에는 다음과 같은 관계가 존재한다고 가정합니다. <br>\n",
    "$$ Y=f(X) + e $$ <br>\n",
    "여기서 e는 에러 항을 의미하며, e는 평균이 0인 정규분포를 따릅니다. <br>\n",
    "따라서 x에서의 Total Error는 다음과 같습니다. 여기서 $\\hat{f}(x)$ 은 예측값을 의미합니다.<br>\n",
    "$$ Total Error(x) = E[(Y-\\hat{f}(x))^2] $$ <br>\n",
    "Total Error(x)는 다음과 같이 분해될 수 있습니다. <br>\n",
    "$$ Total Error(x) = (E[\\hat{f}(x)]-f(x))^2 + E[(\\hat{f}(x)-E[\\hat{f}(x)])^2] + \\sigma_{e}^2$$ \n",
    "$$ Total Error(x) = Bias^2 + Variance + Irreducible Error $$ <br>\n",
    "Irreducible Error는 좋은 모델을 생성함으로써 줄일 수 없는 에러입니다. 이는 데이터가 가진 noise에 대한 척도입니다. 모델의 적합성에 관계없이 데이터는 특정량의 noise(또는 Irreducible Error)를 가지고 있습니다."
   ]
  },
  {
   "cell_type": "markdown",
   "metadata": {
    "colab_type": "text",
    "id": "kYOaOvp7k3Hc"
   },
   "source": [
    "### Bias(편향)"
   ]
  },
  {
   "cell_type": "markdown",
   "metadata": {
    "colab_type": "text",
    "id": "35THTJjwk3He"
   },
   "source": [
    "Bias는 모델의 예측값과 실제값의 차이를 의미합니다. 즉, 위의 그림에서 볼 수 있듯이 예측값이 실제값에 얼마나 가까운지를 나타냅니다. 높은 Bias를 가진 모델은 Training Data에 거의 관심을 기울이지 않고 모델을 지나치게 단순화합니다. 이는 항상 훈련 데이터와 테스트 데이터에서 높은 에러를 초래합니다."
   ]
  },
  {
   "cell_type": "markdown",
   "metadata": {
    "colab_type": "text",
    "id": "OR6FFBXFk3Hf"
   },
   "source": [
    "### Variance(분산)"
   ]
  },
  {
   "cell_type": "markdown",
   "metadata": {
    "colab_type": "text",
    "id": "9jgTdCOKk3Hg"
   },
   "source": [
    "Variance는 주어진 데이터에 대한 모델의 예측값들이 서로 얼마나 퍼져 있는지에 대한 척도입니다. 높은 Variance를 가진 모델은 Training Data에 너무 관심을 기울여서 전에 보지 못한 데이터들에 일반화할 수 없습니다. 결과적으로, 그러한 모델은 Training Data에 대해서는 성능이 좋지만, Testing Data에 대해서는 높은 에러를 보여줍니다."
   ]
  },
  {
   "cell_type": "markdown",
   "metadata": {
    "colab_type": "text",
    "id": "SBZ97b9Vk3Hh"
   },
   "source": [
    "### Bias와 Variance의 Tradeoff"
   ]
  },
  {
   "cell_type": "markdown",
   "metadata": {
    "colab_type": "text",
    "id": "bkYdtBXok3Hi"
   },
   "source": [
    "Bias-Variance Tradeoff라는 개념은 간단하게 말하면 Bias와 Variance는 어쩔 수 없이 서로 trade-off 관계를 가지고 있다는 의미입니다. 모델을 선택할 때, Training Data의 패턴을 정확하게 파악하는 것뿐만 아니라 새로운 데이터에까지 일반화될 수 있도록 하는 것이 가장 이상적인 바람입니다. 하지만 이 둘을 동시에 만족시키는 것은 사실상 불가능합니다. 모델이 너무 단순하거나 패러미터가 너무 적으면 높은 Bias와 낮은 Variance를 가질 것입니다. 반면 우리 모델이 패러미터가 많으면 높은 Variance와 낮은 Bias를 가질 것입니다. 위에서 구한 식에서도 Bias와 Variance 중 하나가 높으면 다른 하나는 낮을 수밖에 없습니다. 그래서 Bias와 Variance 사이의 균형점을 잘 찾는 것이 중요합니다."
   ]
  },
  {
   "cell_type": "markdown",
   "metadata": {
    "colab_type": "text",
    "id": "ZP93wHJDk3Hj"
   },
   "source": [
    "## Validation"
   ]
  },
  {
   "cell_type": "markdown",
   "metadata": {
    "colab_type": "text",
    "id": "-QUgRNkqk3Hk"
   },
   "source": [
    "### Validation Set"
   ]
  },
  {
   "cell_type": "markdown",
   "metadata": {
    "colab_type": "text",
    "id": "jqjVBT5ek3Hl"
   },
   "source": [
    "머신러닝/딥러닝의 모델에서는 전체 데이터를 Training Data로 학습한 뒤, Testing Data로 예측하는 과정을 거칩니다. <br>\n",
    "\n",
    "그렇다면 Validation Set은 무엇이며, 왜 필요할까요? Validation Set을 통해 우리는 모델의 성능을 대략적으로 파악할 수 있습니다. Training Data의 일부를 떼어낸 후, 남은 부분을 학습한 뒤, 모델을 통해 떼어낸 부분에 대한 예측을 도출합니다. 이 떼어낸 부분을 Validation Set이라고 합니다. 우리는 이 Validation Set 의 실제 값(정답)을 알고 있기 때문에 예측치와 비교하여 모델의 성능을 평가할 수 있습니다. 그러니 Validation Set은 모의고사 문제라고 보시면 됩니다. <br>\n",
    "<img src=\"http://drive.google.com/uc?export=view&id=1gbvCf6oCWmAVv4oMZVw46R3x6kcaEIB1\" width=\"600\">"
   ]
  },
  {
   "cell_type": "markdown",
   "metadata": {
    "colab_type": "text",
    "id": "z-ewqa1Tk3Hm"
   },
   "source": [
    "### 홀드아웃 검증(Hold-out Validation)"
   ]
  },
  {
   "cell_type": "markdown",
   "metadata": {
    "colab_type": "text",
    "id": "TMj1je0Sk3Hn"
   },
   "source": [
    "과대적합을 방지하기 위한 한 가지 방법으로, 먼저 학습을 위한 Training Data 중 일부를 Validation Set으로 떼어내어 모델의 예측력을 테스트하는 데 사용합니다. <br>\n",
    "\n",
    "이를 어떻게 사용하는지 살펴봅시다. 먼저 필요한 라이브러리들을 import합니다"
   ]
  },
  {
   "cell_type": "code",
   "execution_count": 1,
   "metadata": {
    "colab": {},
    "colab_type": "code",
    "id": "7Ofa75kUk3Ho"
   },
   "outputs": [],
   "source": [
    "import pandas as pd\n",
    "import numpy as np"
   ]
  },
  {
   "cell_type": "markdown",
   "metadata": {
    "colab_type": "text",
    "id": "jW4iVO9Sk3Hs"
   },
   "source": [
    "import한 라이브러리에 대해 빠르게 알아봅시다.\n",
    "- pandas: data 파일을 Pandas 데이터프레임으로 로드하고 분석합니다. Pandas에 대해 더 알아보고 싶다면 해당 [링크](https://pandas.pydata.org/pandas-docs/stable/)를 클릭하세요.\n",
    "- numpy: Numpy의 random 모듈을 이용하여 데이터를 랜덤하게 생성 또는 변형합니다. Numpy에 대해 더 알아보고 싶다면 해당 [링크](https://docs.scipy.org/doc/numpy/reference/)를 클릭하세요."
   ]
  },
  {
   "cell_type": "markdown",
   "metadata": {
    "colab_type": "text",
    "id": "qOArLLG6k3Ht"
   },
   "source": [
    "이번에 사용할 데이터셋은 **붓꽃(iris, 아이리스) 데이터셋**입니다. 이 데이터는 사이킷런(Scikit-learn, sklearn)의 datasets 모듈에 포함되어 있습니다. <br>\n",
    "\n",
    "붓꽃의 종류는 크게 **3가지**, **iris setosa** / **iris versicolor** / **iris virginica**가 존재하며, 주어진 꽃잎과 꽃받침의 길이와 너비를 활용해 해당 꽃의 종류를 구분합니다. 각 컬럼에 대한 설명은 다음과 같습니다.\n",
    "\n",
    "  * **sepal length (cm)**: 꽃받침의 길이\n",
    "  * **sepal width (cm)**: 꽃받침의 너비\n",
    "  * **petal length (cm)**: 꽃잎의 길이\n",
    "  * **petal width (cm)**: 꽃잎의 너비\n",
    "  * **species**: 붓꽃의 종류. iris setosa(0) / iris versicolor(1) / iris virginica(2) 의 세 종류가 있다.\n",
    "  \n",
    "이제 사이킷런의 load_iris 함수를 사용하여 데이터셋을 로드하겠습니다. load_iris가 반환한 iris 객체는 파이썬의 딕셔너리(Dictionary)와 유사한 Bunch 클래스의 객체입니다. 즉, 키와 값으로 구성되어 있습니다."
   ]
  },
  {
   "cell_type": "code",
   "execution_count": 2,
   "metadata": {
    "colab": {},
    "colab_type": "code",
    "id": "9AooYIjak3Hu",
    "outputId": "7382c0a8-4299-4d35-a847-2a6c9f160e46"
   },
   "outputs": [
    {
     "data": {
      "text/plain": [
       "dict_keys(['data', 'target', 'frame', 'target_names', 'DESCR', 'feature_names', 'filename'])"
      ]
     },
     "execution_count": 2,
     "metadata": {},
     "output_type": "execute_result"
    }
   ],
   "source": [
    "# 사이킷런의 load_iris를 불러옵니다.\n",
    "from sklearn.datasets import load_iris\n",
    "\n",
    "# load_iris를 이용하여 데이터를 가져옵니다.\n",
    "iris = load_iris()\n",
    "\n",
    "# keys()를 이용하여 iris 데이터에서 어떤 키들을 사용할 수 있는지 확인해봅시다.\n",
    "iris.keys()"
   ]
  },
  {
   "cell_type": "markdown",
   "metadata": {
    "colab_type": "text",
    "id": "_qyOUPWdk3Hy"
   },
   "source": [
    "target_names는 우리가 예측하려는 붓꽃 종류의 이름, feature_names는 각 feature, data는 꽃잎의 길이와 너비, 꽃받침의 길이와 너비를 수치값으로 가지고 있는 넘파이(Numpy) 배열입니다. target은 붓꽃의 종류를 0에서 2까지의 정수로 기록한 넘파이 배열입니다. 0은 setosa, 1은 versicolor, 2는 virginica입니다."
   ]
  },
  {
   "cell_type": "code",
   "execution_count": 3,
   "metadata": {
    "colab": {},
    "colab_type": "code",
    "id": "yjxJRwk8k3Hz",
    "outputId": "d61822ee-e5cd-4177-ffb1-bf490a586403",
    "scrolled": true
   },
   "outputs": [
    {
     "name": "stdout",
     "output_type": "stream",
     "text": [
      "target_names: ['setosa' 'versicolor' 'virginica']\n",
      "feature_names: ['sepal length (cm)', 'sepal width (cm)', 'petal length (cm)', 'petal width (cm)']\n",
      "data's shape: (150, 4)\n",
      "target's shape: (150,)\n"
     ]
    },
    {
     "data": {
      "text/html": [
       "<div>\n",
       "<style scoped>\n",
       "    .dataframe tbody tr th:only-of-type {\n",
       "        vertical-align: middle;\n",
       "    }\n",
       "\n",
       "    .dataframe tbody tr th {\n",
       "        vertical-align: top;\n",
       "    }\n",
       "\n",
       "    .dataframe thead th {\n",
       "        text-align: right;\n",
       "    }\n",
       "</style>\n",
       "<table border=\"1\" class=\"dataframe\">\n",
       "  <thead>\n",
       "    <tr style=\"text-align: right;\">\n",
       "      <th></th>\n",
       "      <th>sepal length (cm)</th>\n",
       "      <th>sepal width (cm)</th>\n",
       "      <th>petal length (cm)</th>\n",
       "      <th>petal width (cm)</th>\n",
       "      <th>species</th>\n",
       "      <th>species(humanized)</th>\n",
       "    </tr>\n",
       "  </thead>\n",
       "  <tbody>\n",
       "    <tr>\n",
       "      <th>0</th>\n",
       "      <td>5.1</td>\n",
       "      <td>3.5</td>\n",
       "      <td>1.4</td>\n",
       "      <td>0.2</td>\n",
       "      <td>0</td>\n",
       "      <td>setosa</td>\n",
       "    </tr>\n",
       "    <tr>\n",
       "      <th>1</th>\n",
       "      <td>4.9</td>\n",
       "      <td>3.0</td>\n",
       "      <td>1.4</td>\n",
       "      <td>0.2</td>\n",
       "      <td>0</td>\n",
       "      <td>setosa</td>\n",
       "    </tr>\n",
       "    <tr>\n",
       "      <th>2</th>\n",
       "      <td>4.7</td>\n",
       "      <td>3.2</td>\n",
       "      <td>1.3</td>\n",
       "      <td>0.2</td>\n",
       "      <td>0</td>\n",
       "      <td>setosa</td>\n",
       "    </tr>\n",
       "    <tr>\n",
       "      <th>3</th>\n",
       "      <td>4.6</td>\n",
       "      <td>3.1</td>\n",
       "      <td>1.5</td>\n",
       "      <td>0.2</td>\n",
       "      <td>0</td>\n",
       "      <td>setosa</td>\n",
       "    </tr>\n",
       "    <tr>\n",
       "      <th>4</th>\n",
       "      <td>5.0</td>\n",
       "      <td>3.6</td>\n",
       "      <td>1.4</td>\n",
       "      <td>0.2</td>\n",
       "      <td>0</td>\n",
       "      <td>setosa</td>\n",
       "    </tr>\n",
       "  </tbody>\n",
       "</table>\n",
       "</div>"
      ],
      "text/plain": [
       "   sepal length (cm)  sepal width (cm)  petal length (cm)  petal width (cm)  \\\n",
       "0                5.1               3.5                1.4               0.2   \n",
       "1                4.9               3.0                1.4               0.2   \n",
       "2                4.7               3.2                1.3               0.2   \n",
       "3                4.6               3.1                1.5               0.2   \n",
       "4                5.0               3.6                1.4               0.2   \n",
       "\n",
       "   species species(humanized)  \n",
       "0        0             setosa  \n",
       "1        0             setosa  \n",
       "2        0             setosa  \n",
       "3        0             setosa  \n",
       "4        0             setosa  "
      ]
     },
     "execution_count": 3,
     "metadata": {},
     "output_type": "execute_result"
    }
   ],
   "source": [
    "# target_names를 출력하여 예측하고자 하는 붓꽃 종류의 이름을 확인합니다.\n",
    "print('target_names:', iris['target_names'])\n",
    "\n",
    "# feature_names를 출력하여 예측을 위해 어떤 feature를 사용할 수 있는지 확인합니다.\n",
    "print('feature_names:', iris['feature_names'])\n",
    "\n",
    "# feature의 값들을 가지고 있는 data의 형태를 출력합니다.\n",
    "print('data\\'s shape:', iris['data'].shape)\n",
    "\n",
    "# 예측하고자 하는 target 값들의 형태를 출력합니다. \n",
    "print('target\\'s shape:', iris['target'].shape)\n",
    "\n",
    "# iris 데이터셋을 판다스의 DataFrame으로 출력합니다.\n",
    "iris_df = pd.DataFrame(iris['data'], columns=iris['feature_names'])\n",
    "\n",
    "# 종에 대한 정보를 species라는 컬럼에 추가합니다.\n",
    "iris_df['species'] = iris['target']\n",
    "\n",
    "# 0, 1, 2의 숫자로 기록된 붓꽃 종류에 대한 정보를 실제 붓꽃 종류의 이름으로 대체하여 출력합니다.\n",
    "iris_df['species(humanized)'] = iris_df['species'].replace(0, iris['target_names'][0]).replace(1, iris['target_names'][1]).replace(2, iris['target_names'][2])\n",
    "\n",
    "iris_df.head()"
   ]
  },
  {
   "cell_type": "markdown",
   "metadata": {
    "colab_type": "text",
    "id": "v4Cg2-Y8k3H2"
   },
   "source": [
    "예측에 필요한 feature를 X에, target을 y에 저장합니다."
   ]
  },
  {
   "cell_type": "code",
   "execution_count": 4,
   "metadata": {
    "colab": {},
    "colab_type": "code",
    "id": "MWmAajjMk3H3"
   },
   "outputs": [],
   "source": [
    "X = iris['data']\n",
    "y = iris['target']"
   ]
  },
  {
   "cell_type": "markdown",
   "metadata": {
    "colab_type": "text",
    "id": "vbrYRiYrk3H6"
   },
   "source": [
    "데이터셋으로부터 학습을 위한 Training Data와 최종적으로 성능을 평가할 Testing Data로 나누겠습니다."
   ]
  },
  {
   "cell_type": "code",
   "execution_count": 5,
   "metadata": {
    "colab": {},
    "colab_type": "code",
    "id": "R0t3575Tk3H7",
    "outputId": "27110040-64a0-4125-81c6-ad9939b37e43"
   },
   "outputs": [
    {
     "name": "stdout",
     "output_type": "stream",
     "text": [
      "(120, 4) (120,)\n",
      "(30, 4) (30,)\n"
     ]
    }
   ],
   "source": [
    "# 총 범주의 수를 가져옵니다. 150이 될 것입니다.\n",
    "n_samples = len(X)\n",
    "\n",
    "# 데이터의 index로 사용할 Numpy 배열을 정의합니다. \n",
    "indices = np.arange(n_samples)\n",
    "\n",
    "# 코드를 실행할 때마다 랜덤으로 값이 만들어지기 때문에 결과를 고정하기 위해 seed를 고정합니다.\n",
    "np.random.seed = 123\n",
    "\n",
    "# indices의 순서를 섞어줍니다.\n",
    "np.random.shuffle(indices)\n",
    "\n",
    "# Testing Data의 비율을 20%로 설정하겠습니다.\n",
    "test_ratio = 0.2\n",
    "train_size = int(n_samples * (1 - test_ratio))\n",
    "\n",
    "# Training Data로 사용할 index와 Testing Data로 사용할 index를 구분합니다.\n",
    "train_idx = indices[:train_size]\n",
    "test_idx = indices[train_size:]\n",
    "\n",
    "# 위에서 만든 index를 이용하여 Training Data와 Testing Data로 나누어줍니다.\n",
    "X_train = X[train_idx]\n",
    "y_train = y[train_idx]\n",
    "X_test = X[test_idx]\n",
    "y_test = y[test_idx]\n",
    "\n",
    "# 80:20으로 나눈 Training Data와 Testing Data의 형태를 출력하여 제대로 나누어졌는지 확인합니다.\n",
    "print(X_train.shape, y_train.shape)\n",
    "print(X_test.shape, y_test.shape)"
   ]
  },
  {
   "cell_type": "markdown",
   "metadata": {
    "colab_type": "text",
    "id": "BBG0Ubr1k3H-"
   },
   "source": [
    "#### Hold-out Validation 직접 짜보기"
   ]
  },
  {
   "cell_type": "code",
   "execution_count": 6,
   "metadata": {
    "colab": {},
    "colab_type": "code",
    "id": "WbWEyGYdk3H_",
    "outputId": "c355ecec-6e50-40d5-d2cd-09372f6b161a"
   },
   "outputs": [],
   "source": [
    "# Write your code!\n",
    "n_samples = len(X_train)\n",
    "\n",
    "indices = np.arange(n_samples)\n",
    "\n",
    "np.random.seed = 123\n",
    "\n",
    "np.random.shuffle(indices)"
   ]
  },
  {
   "cell_type": "code",
   "execution_count": 7,
   "metadata": {},
   "outputs": [],
   "source": [
    "validation_ratio = 0.2\n",
    "train_size = int(n_samples * (1 - validation_ratio))\n",
    "\n",
    "train_idx = indices[:train_size]\n",
    "validation_idx = indices[train_size:]\n",
    "\n",
    "X_train_fold = X_train[train_idx]\n",
    "y_train_fold = y_train[train_idx]\n",
    "X_validation_fold = X_train[validation_idx]\n",
    "y_validation_fold = y_train[validation_idx]"
   ]
  },
  {
   "cell_type": "code",
   "execution_count": 8,
   "metadata": {},
   "outputs": [
    {
     "name": "stdout",
     "output_type": "stream",
     "text": [
      "(96, 4) (96,)\n",
      "(24, 4) (24,)\n"
     ]
    }
   ],
   "source": [
    "print(X_train_fold.shape, y_train_fold.shape)\n",
    "print(X_validation_fold.shape, y_validation_fold.shape)"
   ]
  },
  {
   "cell_type": "markdown",
   "metadata": {
    "colab_type": "text",
    "id": "0wH7XujTk3IB"
   },
   "source": [
    "#### 사이킷런의 train_test_split 이용"
   ]
  },
  {
   "cell_type": "markdown",
   "metadata": {
    "colab_type": "text",
    "id": "wi-2wFHgk3IC"
   },
   "source": [
    "이제 사이킷런의 train_test_split 함수를 이용하여 dataset를 나누어봅시다. 함수 내 **test_size**는 원본 데이터로부터 떼어낼 데이터의 비율을 가리킵니다. 보통 82/20 또는 70/30을 사용하며, 아래에서는 Training Data를 80%, Testing Data를 20%로 설정하였습니다. 이렇게 만든 Training Data에서 Validation Set의 비율을 20%로 설정하였습니다. 이 함수를 여러 번 실행해도 결과가 똑같이 나오도록 random_state 매개변수를 123으로 고정합니다."
   ]
  },
  {
   "cell_type": "code",
   "execution_count": 9,
   "metadata": {
    "colab": {},
    "colab_type": "code",
    "id": "LWn9oZXXk3ID",
    "outputId": "60c2f854-7060-4b24-dfa8-4743866bc721"
   },
   "outputs": [],
   "source": [
    "# 사이킷런의 train_test_split를 불러옵니다. \n",
    "from sklearn.model_selection import train_test_split\n",
    "\n",
    "# train_test_split을 이용하여 iris 데이터를 Training Data와 Testing Data로 나누어줍니다.\n",
    "# Write your code!\n",
    "X_train, X_test, y_train, y_test = train_test_split(X, y, test_size = 0.2, random_state = 123)\n",
    "\n",
    "# train_test_split을 이용하여 Training Data에서 Validation Set을 떼어냅니다.\n",
    "# Write your code!\n",
    "X_train_fold, X_validation_fold, y_train_fold, y_validation_fold = train_test_split(X_train, y_train, test_size = 0.2)"
   ]
  },
  {
   "cell_type": "code",
   "execution_count": 10,
   "metadata": {},
   "outputs": [
    {
     "name": "stdout",
     "output_type": "stream",
     "text": [
      "(96, 4) (24, 4)\n"
     ]
    }
   ],
   "source": [
    "print(X_train_fold.shape, X_validation_fold.shape)"
   ]
  },
  {
   "cell_type": "markdown",
   "metadata": {
    "colab_type": "text",
    "id": "2mxIFgUFk3IG"
   },
   "source": [
    "### 교차 검증(Cross Validation)"
   ]
  },
  {
   "cell_type": "markdown",
   "metadata": {
    "colab_type": "text",
    "id": "SNuOtnPrk3IH"
   },
   "source": [
    "#### K-Fold Cross Validation"
   ]
  },
  {
   "cell_type": "markdown",
   "metadata": {
    "colab_type": "text",
    "id": "EWukIhMWk3II"
   },
   "source": [
    "K-Fold Cross Validation에서는 데이터를 k개의 서로 다른 subset(fold)들로 나눕니다. 그리고 k-1개의 subset들을 Training Set에 사용하고 나머지 subset 하나를 Validation Set으로 사용합니다. 그럼, 총 k 번 만큼 Model Evaluation을 진행할 수 있고, 총 k번의 Model Evaluation한 결과에 평균을 내면 이 모델의 성능을 측정할 수 있습니다. "
   ]
  },
  {
   "cell_type": "markdown",
   "metadata": {
    "colab_type": "text",
    "id": "fGn7u_jvk3IJ"
   },
   "source": [
    "#### K-Fold 직접 짜보기"
   ]
  },
  {
   "cell_type": "code",
   "execution_count": 11,
   "metadata": {},
   "outputs": [
    {
     "name": "stdout",
     "output_type": "stream",
     "text": [
      "120\n"
     ]
    },
    {
     "data": {
      "text/plain": [
       "array([ 40,  31,  66,  41, 115,  22,  39,  78,  82,  94,  69,  13,  43,\n",
       "        53,  49, 114,   8, 105,  56, 102,   5,  45,  85, 100,   9, 119,\n",
       "        42,  97,   6,  37,  54,  25,  51,  21,   7,  46,  33,  44,  86,\n",
       "        24,  88, 113,   2, 107,  27,  76,  71,  99,  77,  52,  14,  83,\n",
       "        16,  30, 117,  61,   0,  58,  96,  20,  19,  79, 103,  84,   4,\n",
       "        47,  80,  15,  48,  70,  74,  18,  62, 101,  93,  34, 104,   1,\n",
       "        65,  98,  72,  29, 106, 110,  55, 109,  12, 108,  81,  91, 112,\n",
       "        67,  36,  23,  38,  10,  35,  87,  60,  57,  64,  92, 116,  68,\n",
       "        50,  26,  63,  75,  28, 118,  95,  89, 111,  73,  11,   3,  32,\n",
       "        17,  90,  59])"
      ]
     },
     "execution_count": 11,
     "metadata": {},
     "output_type": "execute_result"
    }
   ],
   "source": [
    "# 총 범주의 수를 가져옵니다. 120이 될 것입니다.\n",
    "n_samples = len(X_train)\n",
    "print(n_samples)\n",
    "\n",
    "# Training Data의 index로 사용할 Numpy 배열을 정의합니다.\n",
    "indices = np.arange(n_samples)\n",
    "\n",
    "# 코드를 실행할 때마다 랜덤으로 값이 만들어지기 때문에 결과를 고정하기 위해 seed를 고정합니다.\n",
    "np.random.seed = 123\n",
    "\n",
    "# indices의 순서를 섞어줍니다.\n",
    "np.random.shuffle(indices)\n",
    "\n",
    "indices"
   ]
  },
  {
   "cell_type": "code",
   "execution_count": 12,
   "metadata": {
    "colab": {},
    "colab_type": "code",
    "id": "-nEa36FZk3IO",
    "outputId": "db0f97c5-2645-46d6-f41a-bfa71c721a63"
   },
   "outputs": [],
   "source": [
    "# Write your code!\n",
    "n_splits = 5"
   ]
  },
  {
   "cell_type": "code",
   "execution_count": 13,
   "metadata": {},
   "outputs": [
    {
     "data": {
      "text/plain": [
       "array([24, 24, 24, 24, 24])"
      ]
     },
     "execution_count": 13,
     "metadata": {},
     "output_type": "execute_result"
    }
   ],
   "source": [
    "fold_sizes = np.full(n_splits, n_samples // n_splits)\n",
    "fold_sizes"
   ]
  },
  {
   "cell_type": "code",
   "execution_count": 15,
   "metadata": {},
   "outputs": [],
   "source": [
    "fold_sizes[-1] += n_samples & n_splits  # 만약 n_samples의 개수가 121개라면 1개가 남기때문에 fold_size의 마지막에 나머지를 추가해준다."
   ]
  },
  {
   "cell_type": "code",
   "execution_count": 17,
   "metadata": {},
   "outputs": [],
   "source": [
    "fold_indices = []\n",
    "\n",
    "start_idx = 0\n",
    "\n",
    "for i in range(n_splits):  # 120개의 데이터를 indicies에서 24개씩 쪼갠 다음 fold_indices에 나누어 주기 위해 for문 사용\n",
    "    stop_idx = start_idx + fold_sizes[i]\n",
    "#     print(start_idx, stop_idx)\n",
    "    \n",
    "    fold_indices.append(indices[start_idx:stop_idx])\n",
    "    fold_indices[i].sort()\n",
    "    \n",
    "    start_idx += fold_sizes[i]"
   ]
  },
  {
   "cell_type": "code",
   "execution_count": 23,
   "metadata": {},
   "outputs": [
    {
     "name": "stdout",
     "output_type": "stream",
     "text": [
      "--------------------------------------------------\n",
      "train_fold 사이즈 ((96, 4), (96,))\n",
      "validation_fold 사이즈 ((24, 4), (24,))\n",
      "validation_fold 인덱스 [  5   8  13  22  31  39  40  41  43  45  49  53  56  66  69  78  82  85\n",
      "  94 100 102 105 114 115]\n",
      "--------------------------------------------------\n",
      "train_fold 사이즈 ((96, 4), (96,))\n",
      "validation_fold 사이즈 ((24, 4), (24,))\n",
      "validation_fold 인덱스 [  2   6   7   9  21  24  25  27  33  37  42  44  46  51  54  71  76  86\n",
      "  88  97  99 107 113 119]\n",
      "--------------------------------------------------\n",
      "train_fold 사이즈 ((96, 4), (96,))\n",
      "validation_fold 사이즈 ((24, 4), (24,))\n",
      "validation_fold 인덱스 [  0   4  14  15  16  18  19  20  30  47  48  52  58  61  70  74  77  79\n",
      "  80  83  84  96 103 117]\n",
      "--------------------------------------------------\n",
      "train_fold 사이즈 ((96, 4), (96,))\n",
      "validation_fold 사이즈 ((24, 4), (24,))\n",
      "validation_fold 인덱스 [  1  10  12  23  29  34  36  38  55  62  65  67  72  81  91  93  98 101\n",
      " 104 106 108 109 110 112]\n",
      "--------------------------------------------------\n",
      "train_fold 사이즈 ((96, 4), (96,))\n",
      "validation_fold 사이즈 ((24, 4), (24,))\n",
      "validation_fold 인덱스 [  3  11  17  26  28  32  35  50  57  59  60  63  64  68  73  75  87  89\n",
      "  90  92  95 111 116 118]\n"
     ]
    }
   ],
   "source": [
    "n_iter = 0\n",
    "\n",
    "for i in range(n_splits):\n",
    "    \n",
    "    validation_idx = fold_indices[i]\n",
    "    \n",
    "    train_idx = np.setdiff1d(indices, validation_idx)  # setdiff1d : 첫번째 배열엔 속하지만 두번째 배열엔 속하지 않는 값. \n",
    "                                                       #             첫번째 배열과 두번째 배열의 차집합\n",
    "    X_train_fold, X_validation_fold = X_train[train_idx], X_train[validation_idx]\n",
    "    y_train_fold, y_validation_fold = y_train[train_idx], y_train[validation_idx]\n",
    "    \n",
    "    n_iter += 1\n",
    "    \n",
    "    print('-----' * 10)\n",
    "    print(f'train_fold 사이즈 {X_train_fold.shape, y_train_fold.shape}')\n",
    "    print(f'validation_fold 사이즈 {X_validation_fold.shape, y_validation_fold.shape}')\n",
    "    print(f'validation_fold 인덱스 {validation_idx}')"
   ]
  },
  {
   "cell_type": "markdown",
   "metadata": {
    "colab_type": "text",
    "id": "7NK73TGfk3IS"
   },
   "source": [
    "#### 사이킷런의 KFold 이용"
   ]
  },
  {
   "cell_type": "markdown",
   "metadata": {
    "colab_type": "text",
    "id": "eFCiNMzzk3IT"
   },
   "source": [
    "사이킷런에서는 데이터셋을 k개의 연속적인 fold로 나누어주는 **KFold()**를 제공합니다. KFold의 파라미터로는 n_splits와 shuffle, random_state가 있습니다.\n",
    "- n_splits : fold의 개수. 2 이상의 정수를 입력해야 하며, 초기 설정값은 5입니다. \n",
    "- shuffle : 데이터셋을 나누기 전에 데이터를 섞을지를 결정하며, 초기 설정값은 False입니다. \n",
    "- random_state : shuffle 파라미터의 값을 True로 설정했을 때 랜덤 생성 seed를 설정할 수 있습니다. <br>\n",
    "\n",
    "KFold의 split() 함수는 파라미터로 입력한 데이터의 인덱스를 Training Set과 Testing Set으로 나누어줍니다. "
   ]
  },
  {
   "cell_type": "code",
   "execution_count": 25,
   "metadata": {
    "colab": {},
    "colab_type": "code",
    "id": "sHBn43sOk3IU",
    "outputId": "3d03cf3b-7f47-4eda-bf57-d49aa95fe9a2"
   },
   "outputs": [],
   "source": [
    "# 사이킷런의 KFold를 불러옵니다.\n",
    "from sklearn.model_selection import KFold\n",
    "\n",
    "# Write your code!\n",
    "kfold = KFold(n_splits=5, shuffle=True, random_state=123)"
   ]
  },
  {
   "cell_type": "code",
   "execution_count": 30,
   "metadata": {},
   "outputs": [
    {
     "name": "stdout",
     "output_type": "stream",
     "text": [
      "--------------------------------------------------\n",
      "train_fold 사이즈 ((96, 4), (96,))\n",
      "validation_fold 사이즈 ((24, 4), (24,))\n",
      "validation_fold 인덱스 [  0   4   5   8  13  16  24  29  31  33  35  51  56  62  65  72  77  85\n",
      "  87  94 104 110 112 117]\n",
      "--------------------------------------------------\n",
      "train_fold 사이즈 ((96, 4), (96,))\n",
      "validation_fold 사이즈 ((24, 4), (24,))\n",
      "validation_fold 인덱스 [  9  19  21  23  28  38  41  42  44  45  53  59  60  63  71  74  79  93\n",
      "  99 100 105 111 116 119]\n",
      "--------------------------------------------------\n",
      "train_fold 사이즈 ((96, 4), (96,))\n",
      "validation_fold 사이즈 ((24, 4), (24,))\n",
      "validation_fold 인덱스 [  1   6  11  12  14  15  18  20  22  26  30  37  43  50  54  70  82  88\n",
      "  89  90  95 101 114 115]\n",
      "--------------------------------------------------\n",
      "train_fold 사이즈 ((96, 4), (96,))\n",
      "validation_fold 사이즈 ((24, 4), (24,))\n",
      "validation_fold 인덱스 [  2   3   7  10  27  34  39  40  48  49  52  55  58  61  64  67  69  75\n",
      "  76  81  84  91 107 118]\n",
      "--------------------------------------------------\n",
      "train_fold 사이즈 ((96, 4), (96,))\n",
      "validation_fold 사이즈 ((24, 4), (24,))\n",
      "validation_fold 인덱스 [ 17  25  32  36  46  47  57  66  68  73  78  80  83  86  92  96  97  98\n",
      " 102 103 106 108 109 113]\n"
     ]
    }
   ],
   "source": [
    "for train_idx, validation_idx in kfold.split(X_train):  # index를 반환하기 때문에 꼭 y를 지정해줄 필요는 없다.\n",
    "    \n",
    "    X_train_fold, X_validation_fold = X_train[train_idx], X_train[validation_idx]\n",
    "    y_train_fold, y_validation_fold = y_train[train_idx], y_train[validation_idx]\n",
    "\n",
    "    print('-----' * 10)\n",
    "    print(f'train_fold 사이즈 {X_train_fold.shape, y_train_fold.shape}')\n",
    "    print(f'validation_fold 사이즈 {X_validation_fold.shape, y_validation_fold.shape}')\n",
    "    print(f'validation_fold 인덱스 {validation_idx}')"
   ]
  },
  {
   "cell_type": "markdown",
   "metadata": {
    "colab_type": "text",
    "id": "vza0x2Qek3IX"
   },
   "source": [
    "## 측정 공식 (성능 평가 지표, Evaluation Metric)"
   ]
  },
  {
   "cell_type": "markdown",
   "metadata": {
    "colab_type": "text",
    "id": "cCGHzn7ak3IY"
   },
   "source": [
    "## 1) 측정 공식 - 분류 모델"
   ]
  },
  {
   "cell_type": "markdown",
   "metadata": {
    "colab_type": "text",
    "id": "B2IwGwjJk3IZ"
   },
   "source": [
    "### 오차행렬(Confusion Matrix)"
   ]
  },
  {
   "cell_type": "markdown",
   "metadata": {
    "colab_type": "text",
    "id": "Rak6ez5fk3Ia"
   },
   "source": [
    "이진 분류 모델의 성능을 평가하는 방법으로 잘 활용되는 방법은 Confusion Matrix를 만들어보는 것입니다. Confusion Matrix는 다음과 같은 2x2 행렬에서 실제값과 예측값이 어떻게 매핑되는지를 나타냅니다. \n",
    "\n",
    "<img src=\"http://drive.google.com/uc?export=view&id=1bcJ-dYqnocfV7EOs7nXAJ9cWq1Oq5BWd\" width=\"800\">\n",
    "\n",
    "\n",
    "이진 분류에서 사용하는 용어 중 \"**positive**\"와 \"**negative**\"는 모델이 내놓은 예측값 기준으로 분류한 것이고, \"**true**\"와 \"**false**\"는 예측값과 실제값의 일치 여부를 기준으로 분류한 것입니다. 각 경우별로 살펴본다면 다음과 같습니다. <br>\n",
    "- True Negative(TN): 실제 False인 값을 False라고 예측 (정답)\n",
    "- False Positive(FP): 실제 False인 값을 True라고 예측 (오답)\n",
    "- False Negative(FN): 실제 True인 값을 False라고 예측 (오답)\n",
    "- True Positive(TP): 실제 True인 값을 True라고 예측 (정답) <br>"
   ]
  },
  {
   "cell_type": "markdown",
   "metadata": {
    "colab_type": "text",
    "id": "evnfPQSdk3Ib"
   },
   "source": [
    "우선, 분류 모델에 대한 측정 공식을 알아보기 위한 예제 데이터셋을 랜덤으로 생성합니다."
   ]
  },
  {
   "cell_type": "code",
   "execution_count": 41,
   "metadata": {
    "colab": {},
    "colab_type": "code",
    "id": "8btgwg9sk3Ic",
    "outputId": "52c039b3-967c-4eb3-f2fb-f5a5f39c2aae"
   },
   "outputs": [
    {
     "name": "stdout",
     "output_type": "stream",
     "text": [
      "(20,)\n",
      "(20,)\n",
      "[0 0 1 1 0 1 0 1 0 0 0 1 0 1 1 1 0 1 0 1]\n",
      "[1 0 0 0 0 1 1 1 0 0 1 0 0 1 1 0 0 0 0 0]\n"
     ]
    }
   ],
   "source": [
    "import numpy as np\n",
    "\n",
    "# numpy를 사용하여 랜덤한 값을 만들 것입니다. \n",
    "# numpy의 random(np.random)은 랜덤 값을 생성하는 기능들을 포함하고 있습니다. \n",
    "# 코드를 실행할 때마다 랜덤으로 값이 만들어지기 때문에 결과를 고정하기 위해 seed를 고정합니다.\n",
    "np.random.seed = 123\n",
    "\n",
    "# np.random.randint()는 최솟값(low), 최대값(high), 개수(size)를 입력받습니다. \n",
    "# 최솟값과 최댓값 사이에서 지정한 개수만큼 랜덤하게 정수(Integer)를 추출합니다.\n",
    "y_true = np.random.randint(low=0, high=2, size=20)\n",
    "y_pred = np.random.randint(low=0, high=2, size=20)\n",
    "\n",
    "# y_true와 y_pred의 shape를 확인합니다.\n",
    "# 20개가 잘 뽑혔다면 (20, 1) 또는 (20, )이 출력됩니다.\n",
    "print(y_true.shape)\n",
    "print(y_pred.shape)\n",
    "\n",
    "# y_true와 y_pred의 값을 확인합니다.\n",
    "print(y_true)\n",
    "print(y_pred)"
   ]
  },
  {
   "cell_type": "markdown",
   "metadata": {
    "colab_type": "text",
    "id": "6iBbXVU3k3If"
   },
   "source": [
    "사이킷런은 Confusion Matrix를 만드는 **confusion_matrix()** API를 제공합니다. 실제값인 y_true와 예측값인 y_pred를 confusion_matrix()의 인자로 입력합니다. "
   ]
  },
  {
   "cell_type": "code",
   "execution_count": 42,
   "metadata": {
    "colab": {},
    "colab_type": "code",
    "id": "qDilyGynk3If",
    "outputId": "91064f93-0946-4ad5-df12-d193320971b6"
   },
   "outputs": [
    {
     "data": {
      "text/plain": [
       "array([[7, 3],\n",
       "       [6, 4]])"
      ]
     },
     "execution_count": 42,
     "metadata": {},
     "output_type": "execute_result"
    }
   ],
   "source": [
    "# 사이킷런의 confusion_matrix를 불러옵니다.\n",
    "# Evaluation Metric과 관련된 함수는 사이킷런의 metrics에 포함되어 있습니다.\n",
    "\n",
    "from sklearn.metrics import confusion_matrix\n",
    "\n",
    "# Write your code!\n",
    "\n",
    "confusion_matrix(y_true, y_pred)"
   ]
  },
  {
   "cell_type": "markdown",
   "metadata": {
    "colab_type": "text",
    "id": "Xm7lf4Zwk3Ih"
   },
   "source": [
    "출력된 Confusion Matrix은 array 형태입니다. 이진 분류의 TN, FP, FN, TP는 위의 표에서와 위치가 같습니다. 즉, TN은 array[0,0], FP는 array[0,1], FN은 array[1,0], TP는 array[1,1]에 해당합니다."
   ]
  },
  {
   "cell_type": "code",
   "execution_count": 43,
   "metadata": {
    "colab": {},
    "colab_type": "code",
    "id": "vmoBpv3Uk3Ii",
    "outputId": "fbe8b8e1-c7e3-4361-c7a0-c828214ad5e8"
   },
   "outputs": [
    {
     "name": "stdout",
     "output_type": "stream",
     "text": [
      "7 3 6 4\n"
     ]
    }
   ],
   "source": [
    "# Confusion Matrix의 각 요소를 가져와봅시다. \n",
    "# Write your code!\n",
    "\n",
    "tn = confusion_matrix(y_true, y_pred)[0, 0]\n",
    "fp = confusion_matrix(y_true, y_pred)[0, 1]\n",
    "fn = confusion_matrix(y_true, y_pred)[1, 0]\n",
    "tp = confusion_matrix(y_true, y_pred)[1, 1]\n",
    "\n",
    "print(tn, fp, fn, tp)"
   ]
  },
  {
   "cell_type": "markdown",
   "metadata": {
    "colab_type": "text",
    "id": "VDRtvw22k3Il"
   },
   "source": [
    "### 정확도(Accuracy)"
   ]
  },
  {
   "cell_type": "markdown",
   "metadata": {
    "colab_type": "text",
    "id": "69RWG_2Ek3Il"
   },
   "source": [
    "Accuracy는 실제값과 예측값이 얼마나 같은지를 판단하는 지표입니다. 즉, Confusion Matrix에서 True에 해당하는 값인 **TN**과 **TP**에 좌우됩니다. Accuracy는 Confusion Matrix와 관련하여 다음과 같이 정의될 수 있습니다.\n",
    "$$ Accuracy = \\frac{예측값과 실제값이 일치하는 데이터 수}{전체 데이터 수} = \\frac{TN + TP}{TN + FP + FN + TP}$$ \n",
    "\n",
    "Accuracy를 구하는 기능은 다음과 같이 구현할 수 있습니다. "
   ]
  },
  {
   "cell_type": "code",
   "execution_count": 47,
   "metadata": {
    "colab": {},
    "colab_type": "code",
    "id": "PfBYrNZWk3Im",
    "outputId": "8bbc86eb-088a-4d1b-e4cf-9f531198788d"
   },
   "outputs": [
    {
     "data": {
      "text/plain": [
       "0.55"
      ]
     },
     "execution_count": 47,
     "metadata": {},
     "output_type": "execute_result"
    }
   ],
   "source": [
    "# Write your code!\n",
    "\n",
    "n_correct = sum(y_true == y_pred)\n",
    "\n",
    "accuracy_1 = n_correct / len(y_pred)\n",
    "accuracy_1"
   ]
  },
  {
   "cell_type": "markdown",
   "metadata": {
    "colab_type": "text",
    "id": "mx4J8ohsk3Iq"
   },
   "source": [
    "사이킷런은 Accuracy를 측정하는 **accuracy_score()** 함수를 제공합니다. 첫 번째 파라미터로 실제값, 두 번째 파라미터로 예측값을 입력하면 됩니다. "
   ]
  },
  {
   "cell_type": "code",
   "execution_count": 48,
   "metadata": {
    "colab": {},
    "colab_type": "code",
    "id": "zMz--Laqk3Ir",
    "outputId": "6c9221b5-85c1-493d-89a8-953748105ff1"
   },
   "outputs": [
    {
     "data": {
      "text/plain": [
       "0.55"
      ]
     },
     "execution_count": 48,
     "metadata": {},
     "output_type": "execute_result"
    }
   ],
   "source": [
    "# Write your code!\n",
    "\n",
    "from sklearn.metrics import accuracy_score\n",
    "\n",
    "accuracy_2 = accuracy_score(y_true, y_pred)\n",
    "accuracy_2"
   ]
  },
  {
   "cell_type": "code",
   "execution_count": 49,
   "metadata": {},
   "outputs": [
    {
     "data": {
      "text/plain": [
       "0.55"
      ]
     },
     "execution_count": 49,
     "metadata": {},
     "output_type": "execute_result"
    }
   ],
   "source": [
    "(y_true == y_pred).mean(axis=0)"
   ]
  },
  {
   "cell_type": "markdown",
   "metadata": {
    "colab_type": "text",
    "id": "2buV-dBfk3It"
   },
   "source": [
    "그러나, **불균형한 데이터 세트**에서는 Accuracy만으로는 모델 신뢰도가 떨어질 수 있습니다. 예를 들어, 전체 데이터가 100개라고 할 때 10개만 1, 나머지 90개는 0인 데이터 세트가 있다고 가정합시다. 이 데이터 세트에 모든 데이터를 0으로 예측하는 모델을 이용해 Accuracy를 측정하면 90%의 Accuracy를 나타냅니다. 적절하지 않은 모델을 사용하고도 높은 수치가 나타날 수 있다는 것이 Accuracy를 평가 지표로 사용할 때의 문제점입니다. <br>\n",
    "\n",
    "불균형한 데이터 세트에서 Accuracy의 이러한 **단점을 보완**할 수 있는 평가 지표로 정밀도(Precision)와 재현율(Recall)이 있습니다. Precision와 Recall은 \"**positive**\" 데이터 세트의 예측 성능에 좀더 초점을 맞춘 평가 지표입니다."
   ]
  },
  {
   "cell_type": "markdown",
   "metadata": {
    "colab_type": "text",
    "id": "cFiuz37xk3It"
   },
   "source": [
    "### 정밀도(Precision)"
   ]
  },
  {
   "cell_type": "markdown",
   "metadata": {
    "colab_type": "text",
    "id": "Ts_E-EY0k3Iu"
   },
   "source": [
    "Precision는 \"positive\"로 예측한 대상 중에 예측값과 실제값이 일치하는 데이터의 비율을 말합니다. 따라서 Precision이 높을수록 좋은 모형입니다. Precision는 Confusion Matrix와 관련하여 다음과 같이 정의될 수 있습니다. \n",
    "$$Precision = \\frac{TP}{FP + TP} $$\n",
    "\n",
    "Precision을 구하는 기능은 다음과 같이 구현할 수 있습니다. "
   ]
  },
  {
   "cell_type": "code",
   "execution_count": 50,
   "metadata": {
    "colab": {},
    "colab_type": "code",
    "id": "SKhibsP9k3Iw",
    "outputId": "ac6a0375-06c4-4f31-fc10-c118ec1ba21c"
   },
   "outputs": [
    {
     "data": {
      "text/plain": [
       "0.5714285714285714"
      ]
     },
     "execution_count": 50,
     "metadata": {},
     "output_type": "execute_result"
    }
   ],
   "source": [
    "# Write your code!\n",
    "\n",
    "precision = tp / (fp + tp)\n",
    "\n",
    "precision"
   ]
  },
  {
   "cell_type": "markdown",
   "metadata": {
    "colab_type": "text",
    "id": "pulF5OKMk3Iy"
   },
   "source": [
    "사이킷런은 Precision을 계산하는 **precision_score()** 함수를 제공합니다. 첫 번째 파라미터로 실제값, 두 번째 파라미터로 예측값을 입력하면 됩니다. "
   ]
  },
  {
   "cell_type": "code",
   "execution_count": 51,
   "metadata": {
    "colab": {},
    "colab_type": "code",
    "id": "sf27pc59k3Iz",
    "outputId": "9f04b980-348e-4948-c92b-8d15cdd61260"
   },
   "outputs": [
    {
     "data": {
      "text/plain": [
       "0.5714285714285714"
      ]
     },
     "execution_count": 51,
     "metadata": {},
     "output_type": "execute_result"
    }
   ],
   "source": [
    "# Write your code!\n",
    "\n",
    "from sklearn.metrics import precision_score\n",
    "\n",
    "precision_2 = precision_score(y_true, y_pred)\n",
    "precision_2"
   ]
  },
  {
   "cell_type": "markdown",
   "metadata": {
    "colab_type": "text",
    "id": "qhJ5ThJMk3I1"
   },
   "source": [
    "### 재현율(Recall)"
   ]
  },
  {
   "cell_type": "markdown",
   "metadata": {
    "colab_type": "text",
    "id": "m24LeOWbk3I2"
   },
   "source": [
    "Recall은 실제값이 \"positive\"인 대상 중에 예측값과 실제값이 일치하는 데이터의 비율을 말합니다. 따라서 Recall이 높을수록 좋은 모형입니다. Recall은 민감도(Sensitivity) 또는 TPR(True Positive Rate)라고도 불립니다. Recall은 Confusion Matrix와 관련하여 다음과 같이 정의될 수 있습니다.\n",
    "$$ Recall = \\frac{TP}{FN + TP} $$\n",
    "\n",
    "Recall을 구하는 기능은 다음과 같이 구현할 수 있습니다."
   ]
  },
  {
   "cell_type": "code",
   "execution_count": 52,
   "metadata": {
    "colab": {},
    "colab_type": "code",
    "id": "_L23CQYUk3I3",
    "outputId": "c591c941-c29b-423b-89bd-3b5697f4605a"
   },
   "outputs": [
    {
     "data": {
      "text/plain": [
       "0.4"
      ]
     },
     "execution_count": 52,
     "metadata": {},
     "output_type": "execute_result"
    }
   ],
   "source": [
    "# Write your code!\n",
    "\n",
    "recall = tp / (fn + tp)\n",
    "recall"
   ]
  },
  {
   "cell_type": "markdown",
   "metadata": {
    "colab_type": "text",
    "id": "YZ4kcreLk3I6"
   },
   "source": [
    "사이킷런은 재현율을 계산하는 **recall_score()** 함수를 제공합니다. 첫 번째 파라미터로 실제값, 두 번째 파라미터로 예측값을 입력하면 됩니다. "
   ]
  },
  {
   "cell_type": "code",
   "execution_count": 54,
   "metadata": {
    "colab": {},
    "colab_type": "code",
    "id": "Wt2x-CN0k3I7",
    "outputId": "e99f3862-db54-48d7-d61d-ba6b72a98621"
   },
   "outputs": [
    {
     "data": {
      "text/plain": [
       "0.4"
      ]
     },
     "execution_count": 54,
     "metadata": {},
     "output_type": "execute_result"
    }
   ],
   "source": [
    "# Write your code!\n",
    "\n",
    "from sklearn.metrics import recall_score\n",
    "\n",
    "recall_2 = recall_score(y_true, y_pred)\n",
    "recall_2"
   ]
  },
  {
   "cell_type": "markdown",
   "metadata": {
    "colab_type": "text",
    "id": "oBGFi1C4k3I-"
   },
   "source": [
    "상황에 따라 Precision이 더 중요할 수도 있고 Recall이 더 중요한 지표가 될 수도 있습니다. <br>\n",
    "\n",
    "실제 \"negative\"인 데이터를 \"positive\"로 잘못 판단했을 때 업무상 큰 영향을 주는 경우에는 Precision이 상대적으로 더 중요한 지표가 됩니다. 반대로 실제 \"positive\"인 데이터를 \"negative\"로 잘못 판단했을 때 업무상 큰 영향을 주는 경우에는 Recall이 상대적으로 더 중요한 지표가 됩니다. <br>\n",
    "\n",
    "예를 들어 스팸 메일 여부를 판단하는 모델의 경우, 실제 스팸 메일(positive)인데 일반 메일(negative)로 분류한다면 사용자는 불편함을 느끼는 정도일 것입니다. 그러나 실제로 중요한 일반 메일(negative)를 스팸 메일(positive)로 분류하는 경우 업무에 차질이 생기게 될 것입니다. 이때에는 Precision이 더 중요한 지표가 됩니다. <br>\n",
    "\n",
    "다른 예로, 암 환자를 판단하는 모델에서는 Recall이 더 중요한 지표가 됩니다. 실제로 암 환자(positive)인데 암 환자가 아니라고(negative) 판단하는 경우에 제때 치료를 받지 못하게 되므로 심각한 문제를 일으킬 수 있습니다. 반면 실제로 암 환자가 아닌(negative) 경우에 암 환자(positive)인 것으로 잘못 판단되는 경우에는 재검사 비용이 소모되기는 하겠지만 생명을 앗아가지는 않을 것입니다. <br>\n",
    "\n",
    "Precision와 Recall의 공식을 살펴보면, 두 지표 모두 TP를 높이는 데 동일하게 초점을 맞추지만, Precision은 FP를, Recall은 FN을 낮추는 데 초점을 맞춥니다. 이러한 특성 때문에 Precision와 Recall은 분류의 성능을 평가하는 데 있어서 서로 보완적으로 작용합니다. <br>\n",
    "\n",
    "따라서 Precision와 Recall 중 어느 하나만 매우 높고 다른 수치는 매우 낮은 결과를 나타내는 경우 바람직하지 않습니다."
   ]
  },
  {
   "cell_type": "markdown",
   "metadata": {
    "colab_type": "text",
    "id": "gLgjT_hnk3I-"
   },
   "source": [
    "### F1 스코어(F1 Score)"
   ]
  },
  {
   "cell_type": "markdown",
   "metadata": {
    "colab_type": "text",
    "id": "kka_TuTpk3I_"
   },
   "source": [
    "**F 스코어**는 **Precision**과 **Recall**의 **가중조화평균**으로, Precision에 주어지는 가중치를 베타(Beta)라고 합니다. Precision과 Recall을 결합한 지표로 분류의 종합적인 성능 평가에 사용될 수 있습니다. \n",
    "$$ F_β=\\frac{(1+β^2)(Precision*Recall)}{β^2Precision+Recall} $$\n",
    "\n",
    "베타가 1인 경우를 특별히 F1 스코어라고 합니다. F1 스코어는 Precision와 Recall이 어느 한쪽으로 치우치지 않을 때 상대적으로 높은 값을 가집니다. \n",
    "$$ F1 = \\frac{2}{\\frac{1}{Recall}+\\frac{1}{Precision}} = \\frac{2*Precision*Recall}{Precision + Recall} $$ \n",
    "\n",
    "f1 score을 구하는 기능은 다음과 같이 구현할 수 있습니다."
   ]
  },
  {
   "cell_type": "code",
   "execution_count": 55,
   "metadata": {
    "colab": {},
    "colab_type": "code",
    "id": "wc9ZmJXpk3JA",
    "outputId": "43eebe31-b6ec-45e2-fba0-799b9e129ecd"
   },
   "outputs": [
    {
     "data": {
      "text/plain": [
       "0.47058823529411764"
      ]
     },
     "execution_count": 55,
     "metadata": {},
     "output_type": "execute_result"
    }
   ],
   "source": [
    "# Write your code!\n",
    "\n",
    "f1_1 = (2 * precision * recall) / (precision + recall)\n",
    "f1_1"
   ]
  },
  {
   "cell_type": "markdown",
   "metadata": {
    "colab_type": "text",
    "id": "CdZ1RVcAk3JD"
   },
   "source": [
    "사이킷런은 F1 스코어를 구하는 **f1_score()**라는 API를 제공합니다. 첫 번째 파라미터로 실제값, 두 번째 파라미터로 예측값을 입력하면 됩니다. "
   ]
  },
  {
   "cell_type": "code",
   "execution_count": 56,
   "metadata": {
    "colab": {},
    "colab_type": "code",
    "id": "HdSKDqSBk3JE",
    "outputId": "a8ab1065-907f-4cf9-bdd4-57eb652abadb"
   },
   "outputs": [
    {
     "data": {
      "text/plain": [
       "0.47058823529411764"
      ]
     },
     "execution_count": 56,
     "metadata": {},
     "output_type": "execute_result"
    }
   ],
   "source": [
    "# Write your code!\n",
    "\n",
    "from sklearn.metrics import f1_score\n",
    "\n",
    "f1_2 = f1_score(y_true, y_pred)\n",
    "f1_2"
   ]
  },
  {
   "cell_type": "markdown",
   "metadata": {
    "colab_type": "text",
    "id": "Jlx6k_k0k3JG"
   },
   "source": [
    "사이킷런의 metrics 패키지에서는 Precision, Recall, F1 스코어를 포함한 주요 분류 측정 공식을 구하는 **classification_report()** 함수를 제공합니다. 이 함수는 딕셔너리 형태의 결과값을 반환합니다."
   ]
  },
  {
   "cell_type": "code",
   "execution_count": 57,
   "metadata": {
    "colab": {},
    "colab_type": "code",
    "id": "V6UzM04yk3JI",
    "outputId": "e40b13c6-61b7-43fd-ed9c-f4f5ff4acdcf"
   },
   "outputs": [
    {
     "name": "stdout",
     "output_type": "stream",
     "text": [
      "              precision    recall  f1-score   support\n",
      "\n",
      "           0       0.54      0.70      0.61        10\n",
      "           1       0.57      0.40      0.47        10\n",
      "\n",
      "    accuracy                           0.55        20\n",
      "   macro avg       0.55      0.55      0.54        20\n",
      "weighted avg       0.55      0.55      0.54        20\n",
      "\n"
     ]
    }
   ],
   "source": [
    "# Write your code!\n",
    "from sklearn.metrics import classification_report\n",
    "\n",
    "print(classification_report(y_true, y_pred))  # 1을 True값으로 보기 떄문에 1의 값을 보면 된다."
   ]
  },
  {
   "cell_type": "markdown",
   "metadata": {
    "colab_type": "text",
    "id": "1yQ-5vKqk3JL"
   },
   "source": [
    "### ROC 곡선과 AUC"
   ]
  },
  {
   "cell_type": "markdown",
   "metadata": {
    "colab_type": "text",
    "id": "Ri7_Iumok3JL"
   },
   "source": [
    "ROC 곡선과 AUC에 대해 설명하기 이전에 일단 다음 두 가지 개념에 대해 먼저 알아보겠습니다. <br>\n",
    "위에서 설명한 **재현율(Recall)**은 참 양성 비율(True Positive Rate, **TPR**)이라고도 하며, 다음과 같이 정의됩니다. \n",
    "$$ TPR = \\frac{TP}{FN + TP} $$\n",
    "\n",
    "거짓 양성 비율(False Positive Rate, **FPR**)은 다음과 같이 정의되며, TPR과 FPR은 서로 반비례 관계에 있습니다. \n",
    "$$ FPR = \\frac{FP}{TN + FP} $$\n",
    "\n",
    "ROC 곡선(Receiver Operation Characteristic Curve)은 FPR이 변할 때 TPR이 어떻게 변하는지를 나타내는 곡선입니다. FPR을 X축으로, TPR을 Y축으로 잡으면 FPR의 변화에 따른 TPR의 변화가 곡선으로 나타납니다. TPR과 FPR 모두 [0,1]의 범위이며, (0,0)에서 (1,1)을 잇는 곡선입니다. 이때 **ROC 곡선 아래 부분의 면적**을 **AUC(Area Under Curve)**라 하며, 일반적으로 1에 가까울수록 좋은 수치입니다. <br>\n",
    "\n",
    "사이킷런은 ROC AUC를 구해주는 **roc_auc_score()** API를 제공합니다. "
   ]
  },
  {
   "cell_type": "code",
   "execution_count": 60,
   "metadata": {
    "colab": {},
    "colab_type": "code",
    "id": "gV-t7Fi_k3JM",
    "outputId": "3774fba7-25b5-49e9-ff7d-7368fc9c16a6"
   },
   "outputs": [
    {
     "data": {
      "text/plain": [
       "0.5499999999999999"
      ]
     },
     "execution_count": 60,
     "metadata": {},
     "output_type": "execute_result"
    }
   ],
   "source": [
    "# Write your code!\n",
    "\n",
    "from sklearn.metrics import roc_auc_score\n",
    "\n",
    "roc_score = roc_auc_score(y_true, y_pred)  # y의 예측값이 아닌 예측 확률을 넣어도 된다.\n",
    "roc_score"
   ]
  },
  {
   "cell_type": "markdown",
   "metadata": {
    "colab_type": "text",
    "id": "V4ZH0Zfik3JP"
   },
   "source": [
    "사이킷런에서 **roc_curve()** 함수를 이용하여 ROC를 계산할 수 있습니다. 첫 번째 파라미터로 실제값을, 두 번째 파라미터로 예측값을 입력하면 됩니다. "
   ]
  },
  {
   "cell_type": "code",
   "execution_count": 61,
   "metadata": {},
   "outputs": [],
   "source": [
    "# matplotlib를 불러옵니다.\n",
    "import matplotlib.pyplot as plt\n",
    "\n",
    "# 사이킷런의 roc_curve를 불러옵니다.\n",
    "from sklearn.metrics import roc_curve\n",
    "\n",
    "%matplotlib inline"
   ]
  },
  {
   "cell_type": "code",
   "execution_count": 66,
   "metadata": {
    "colab": {},
    "colab_type": "code",
    "id": "DHncvH_1k3JQ",
    "outputId": "bc88dce0-0bea-4b44-9ee8-3d84eddd8d68"
   },
   "outputs": [
    {
     "name": "stdout",
     "output_type": "stream",
     "text": [
      "[0.  0.3 1. ] [0.  0.4 1. ] [2 1 0]\n"
     ]
    },
    {
     "data": {
      "text/plain": [
       "[<matplotlib.lines.Line2D at 0x14333bf10>]"
      ]
     },
     "execution_count": 66,
     "metadata": {},
     "output_type": "execute_result"
    },
    {
     "data": {
      "image/png": "[encoded data removed]",
      "text/plain": [
       "<Figure size 432x288 with 1 Axes>"
      ]
     },
     "metadata": {
      "needs_background": "light"
     },
     "output_type": "display_data"
    }
   ],
   "source": [
    "# Write your code!\n",
    "\n",
    "fpr, tpr, thersholds = roc_curve(y_true, y_pred)\n",
    "print(fpr, tpr, thersholds)\n",
    "\n",
    "plt.plot(fpr, tpr, label='ROC')\n",
    "\n",
    "plt.plot([0,1], [0,1], 'k--', label='Random')"
   ]
  },
  {
   "cell_type": "markdown",
   "metadata": {
    "colab_type": "text",
    "id": "DDQhMhM_k3JV"
   },
   "source": [
    "### Log Loss"
   ]
  },
  {
   "cell_type": "markdown",
   "metadata": {
    "colab_type": "text",
    "id": "SrsjEMY2k3JV"
   },
   "source": [
    "Log Loss는 이진 분류 모델을 측정하는 좋은 방법 중 하나이며, 로지스틱 회귀 및 신경망의 최적화 대상이기도 합니다. <br>\n",
    "\n",
    "Binary Log Loss의 공식은 다음과 같이 정의되며, p는 1을 예측할 확률을 나타냅니다. \n",
    "$$ log-loss = -\\frac{1}{n}\\sum_{i=1}^{n}\\log{p_{i}}+(1-y_{i})\\log{(1-p_{i})} $$ \n",
    "\n",
    "분류 모델의 결과가 예측 확률인 경우 Log Loss는 실제값과 얼마나 다른지에 따른 예측의 불확실성을 고려합니다. 이를 이용하여 모델의 성능을 향상시켜 볼 수 있습니다. 일반적으로 Log Loss를 최소화하면 분류 모델의 Accuracy가 높아집니다. <br>\n",
    "\n",
    "사이킷런은 Log Loss를 구하는 **log_loss()** 함수를 제공합니다. 첫 번째 파라미터로 실제값을, 두 번째 파라미터로 예측값을 입력하면 됩니다. "
   ]
  },
  {
   "cell_type": "code",
   "execution_count": 68,
   "metadata": {
    "colab": {},
    "colab_type": "code",
    "id": "1ycs0Qblk3JW",
    "outputId": "13ba872e-81df-4335-d89c-d816ead289f4"
   },
   "outputs": [
    {
     "data": {
      "text/plain": [
       "15.542569317324336"
      ]
     },
     "execution_count": 68,
     "metadata": {},
     "output_type": "execute_result"
    }
   ],
   "source": [
    "# Write your code!\n",
    "\n",
    "from sklearn.metrics import log_loss\n",
    "\n",
    "log_loss(y_true, y_pred)"
   ]
  },
  {
   "cell_type": "markdown",
   "metadata": {
    "colab_type": "text",
    "id": "T4vRX1lrk3JZ"
   },
   "source": [
    "## 2) 측정 공식 - 회귀 모델"
   ]
  },
  {
   "cell_type": "markdown",
   "metadata": {
    "colab_type": "text",
    "id": "clqY3SkFk3Ja"
   },
   "source": [
    "이번에는 회귀 모델의 성능을 평가하는 방법에 대해 알아보겠습니다. <br>\n",
    "\n",
    "수치(Float) 값을 예측하는 모델은 정확도 등의 분류 모델 평가 기준으로 평가하는 것이 애매합니다. 분류 모델은 맞게 분류했는지/아닌지만 평가하면 되지만, 회귀 모델은 정확하게 예측하지 못했더라도, 정답과 비슷하게 맞추면 성능이 좋다고 평가해야 합니다. 따라서 회귀의 평가를 위한 지표는 실제값과 예측값의 차이를 기반으로 합니다. <br>\n",
    "\n",
    "이때 실제값과 예측값의 차이를 그냥 더하면 +와 -가 섞여서 오류가 상쇄됩니다. 이 때문에 오류의 절댓값 평균이나 제곱, 또는 제곱한 뒤 다시 루트를 씌운 평균값을 구합니다. 일반적으로 회귀의 성능을 평가하는 지표로는 **MAE**, **MSE**, **RMSE**, **R^2**, **MSLE**, **RMSLE** 등이 있습니다. "
   ]
  },
  {
   "cell_type": "markdown",
   "metadata": {
    "colab_type": "text",
    "id": "qcYrsaYwk3Jb"
   },
   "source": [
    "우선, 회귀 모델에 대한 측정 공식을 알아보기 위한 예제 데이터셋을 랜덤으로 생성합니다"
   ]
  },
  {
   "cell_type": "code",
   "execution_count": 71,
   "metadata": {
    "colab": {},
    "colab_type": "code",
    "id": "fgZ2MAcnk3Jb",
    "outputId": "6b013ade-d184-47c4-f803-1e022e0f77df"
   },
   "outputs": [
    {
     "name": "stdout",
     "output_type": "stream",
     "text": [
      "(500,)\n",
      "(500,)\n"
     ]
    },
    {
     "data": {
      "text/html": [
       "<div>\n",
       "<style scoped>\n",
       "    .dataframe tbody tr th:only-of-type {\n",
       "        vertical-align: middle;\n",
       "    }\n",
       "\n",
       "    .dataframe tbody tr th {\n",
       "        vertical-align: top;\n",
       "    }\n",
       "\n",
       "    .dataframe thead th {\n",
       "        text-align: right;\n",
       "    }\n",
       "</style>\n",
       "<table border=\"1\" class=\"dataframe\">\n",
       "  <thead>\n",
       "    <tr style=\"text-align: right;\">\n",
       "      <th></th>\n",
       "      <th>y_true</th>\n",
       "      <th>y_pred</th>\n",
       "    </tr>\n",
       "  </thead>\n",
       "  <tbody>\n",
       "    <tr>\n",
       "      <th>0</th>\n",
       "      <td>476</td>\n",
       "      <td>475.0</td>\n",
       "    </tr>\n",
       "    <tr>\n",
       "      <th>1</th>\n",
       "      <td>861</td>\n",
       "      <td>859.0</td>\n",
       "    </tr>\n",
       "    <tr>\n",
       "      <th>3</th>\n",
       "      <td>44</td>\n",
       "      <td>42.5</td>\n",
       "    </tr>\n",
       "    <tr>\n",
       "      <th>4</th>\n",
       "      <td>33</td>\n",
       "      <td>25.8</td>\n",
       "    </tr>\n",
       "    <tr>\n",
       "      <th>5</th>\n",
       "      <td>687</td>\n",
       "      <td>683.8</td>\n",
       "    </tr>\n",
       "    <tr>\n",
       "      <th>7</th>\n",
       "      <td>834</td>\n",
       "      <td>831.2</td>\n",
       "    </tr>\n",
       "    <tr>\n",
       "      <th>9</th>\n",
       "      <td>700</td>\n",
       "      <td>697.3</td>\n",
       "    </tr>\n",
       "    <tr>\n",
       "      <th>16</th>\n",
       "      <td>839</td>\n",
       "      <td>838.6</td>\n",
       "    </tr>\n",
       "    <tr>\n",
       "      <th>18</th>\n",
       "      <td>695</td>\n",
       "      <td>692.6</td>\n",
       "    </tr>\n",
       "    <tr>\n",
       "      <th>19</th>\n",
       "      <td>711</td>\n",
       "      <td>702.9</td>\n",
       "    </tr>\n",
       "  </tbody>\n",
       "</table>\n",
       "</div>"
      ],
      "text/plain": [
       "    y_true  y_pred\n",
       "0      476   475.0\n",
       "1      861   859.0\n",
       "3       44    42.5\n",
       "4       33    25.8\n",
       "5      687   683.8\n",
       "7      834   831.2\n",
       "9      700   697.3\n",
       "16     839   838.6\n",
       "18     695   692.6\n",
       "19     711   702.9"
      ]
     },
     "execution_count": 71,
     "metadata": {},
     "output_type": "execute_result"
    }
   ],
   "source": [
    "import numpy as np\n",
    "import pandas as pd\n",
    "\n",
    "# 코드를 실행할 때마다 랜덤으로 값이 만들어지기 때문에 결과를 고정하기 위해 seed를 고정합니다.\n",
    "np.random.seed = 123\n",
    "\n",
    "# np.random.randint()는 최솟값(low), 최대값(high), 개수(size)를 입력받습니다. \n",
    "# 최솟값과 최댓값 사이에서 지정한 개수만큼 랜덤하게 정수(Integer)를 추출합니다.\n",
    "y_true = np.random.randint(low=10, high=900, size=500)\n",
    "\n",
    "# np.random.random()는 개수(size)를 입력받습니다.\n",
    "# 구간 [0.0, 1.0)에서 지정한 개수만큼 랜덤하게 Floats를 추출합니다.\n",
    "y_pred = y_true + np.round(np.random.random(500), decimals=1) * np.random.randint(low=-10, high=10, size=500)\n",
    "# 실습을 위해 pred에 일부러 노이즈를 준다...\n",
    "\n",
    "# y_true와 y_pred의 shape를 확인합니다.\n",
    "# 500개가 잘 뽑혔다면 (500, 1) 또는 (500, )이 출력됩니다.\n",
    "print(y_true.shape)\n",
    "print(y_pred.shape)\n",
    "\n",
    "# y_true와 y_pred의 값을 확인합니다.\n",
    "y_df = pd.DataFrame(y_true, columns=['y_true'])\n",
    "y_df['y_pred'] = y_pred\n",
    "y_df[y_df['y_true'] > y_df['y_pred']].head(10)"
   ]
  },
  {
   "cell_type": "markdown",
   "metadata": {
    "colab_type": "text",
    "id": "497ipVCMk3Je"
   },
   "source": [
    "### MAE (Mean Absolute Error)"
   ]
  },
  {
   "cell_type": "markdown",
   "metadata": {
    "colab_type": "text",
    "id": "PXCB5wylk3Je"
   },
   "source": [
    "MAE(Mean Absolute Error)는 실제값과 예측값의 차이를 **절댓값**으로 변환해 평균한 것입니다. \n",
    "$$ MAE = \\frac{1}{n}\\sum_{i=1}^{n}\\left|Y_{i}-\\hat{Y}_{i}\\right| $$\n",
    "\n",
    "MAE를 구하는 기능은 다음과 같이 구현할 수 있습니다. "
   ]
  },
  {
   "cell_type": "code",
   "execution_count": 74,
   "metadata": {
    "colab": {},
    "colab_type": "code",
    "id": "bTn4Ll-Ik3Jf",
    "outputId": "920b88ad-844d-4b77-ab19-58535cc25a92"
   },
   "outputs": [
    {
     "data": {
      "text/plain": [
       "2.6416000000000013"
      ]
     },
     "execution_count": 74,
     "metadata": {},
     "output_type": "execute_result"
    }
   ],
   "source": [
    "# Write your code!\n",
    "\n",
    "mae_1 = abs(y_pred - y_true).mean()\n",
    "mae_1"
   ]
  },
  {
   "cell_type": "markdown",
   "metadata": {
    "colab_type": "text",
    "id": "UpLPNa0ik3Jh"
   },
   "source": [
    "사이킷런은 MAE를 계산하는 **mean_absolute_error()** 함수를 제공합니다. 첫 번째 파라미터로 실제값을, 두 번째 파라미터로 예측값을 입력하면 됩니다. "
   ]
  },
  {
   "cell_type": "code",
   "execution_count": 75,
   "metadata": {
    "colab": {},
    "colab_type": "code",
    "id": "nHCS-1xEk3Ji",
    "outputId": "02ba2da1-0eaf-4a81-aeb0-8f6a2a2a2083"
   },
   "outputs": [
    {
     "data": {
      "text/plain": [
       "2.6416000000000013"
      ]
     },
     "execution_count": 75,
     "metadata": {},
     "output_type": "execute_result"
    }
   ],
   "source": [
    "# Write your code!\n",
    "\n",
    "from sklearn.metrics import mean_absolute_error\n",
    "\n",
    "mae_2 = mean_absolute_error(y_true, y_pred)\n",
    "mae_2"
   ]
  },
  {
   "cell_type": "markdown",
   "metadata": {
    "colab_type": "text",
    "id": "Thmo3TG-k3Jk"
   },
   "source": [
    "### MSE (Mean Squared Error)"
   ]
  },
  {
   "cell_type": "markdown",
   "metadata": {
    "colab_type": "text",
    "id": "IBK5_U57k3Jl"
   },
   "source": [
    "MSE(Mean Squared Error)는 실제값과 예측값의 차이를 **제곱**해 평균한 것입니다. \n",
    "$$ MSE = \\frac{1}{n}\\sum_{i=1}^{n}(Y_{i}-\\hat{Y}_{i})^2 $$\n",
    "\n",
    "MSE를 구하는 기능은 다음과 같이 구현할 수 있습니다. "
   ]
  },
  {
   "cell_type": "code",
   "execution_count": 76,
   "metadata": {
    "colab": {},
    "colab_type": "code",
    "id": "e3wHCyclk3Jm",
    "outputId": "62654f4a-b68b-45d0-fedb-b2c6d25a3ac2"
   },
   "outputs": [
    {
     "data": {
      "text/plain": [
       "12.380040000000008"
      ]
     },
     "execution_count": 76,
     "metadata": {},
     "output_type": "execute_result"
    }
   ],
   "source": [
    "# Write your code!\n",
    "\n",
    "mse_1 = ((y_true - y_pred) ** 2).mean()\n",
    "mse_1"
   ]
  },
  {
   "cell_type": "markdown",
   "metadata": {
    "colab_type": "text",
    "id": "3sbakoVfk3Jo"
   },
   "source": [
    "사이킷런은 MSE를 계산하는 **mean_squared_error()** 함수를 제공합니다. 첫 번째 파라미터로 실제값을, 두 번째 파라미터로 예측값을 입력하면 됩니다."
   ]
  },
  {
   "cell_type": "code",
   "execution_count": 77,
   "metadata": {
    "colab": {},
    "colab_type": "code",
    "id": "wdNx7SFvk3Jp",
    "outputId": "b52879a8-95e2-4554-d6cf-93c81312908b"
   },
   "outputs": [
    {
     "data": {
      "text/plain": [
       "12.380040000000008"
      ]
     },
     "execution_count": 77,
     "metadata": {},
     "output_type": "execute_result"
    }
   ],
   "source": [
    "# Write your code!\n",
    "\n",
    "from sklearn.metrics import mean_squared_error\n",
    "\n",
    "mse_2 = mean_squared_error(y_true, y_pred)\n",
    "mse_2"
   ]
  },
  {
   "cell_type": "markdown",
   "metadata": {
    "colab_type": "text",
    "id": "NWuca5jTk3Jq"
   },
   "source": [
    "### RMSE (Root Mean Squared Error)"
   ]
  },
  {
   "cell_type": "markdown",
   "metadata": {
    "colab_type": "text",
    "id": "IvlWPWgyk3Jr"
   },
   "source": [
    "RMSE(Root Mean Squared Error)는 MSE가 오류의 제곱을 구하므로 실제 오류 평균보다 더 커지는 특성이 있으므로 MSE에 **루트**를 씌운 것입니다.\n",
    "$$ RMSE = \\sqrt{\\frac{1}{n}\\sum_{i=1}^{n}(Y_{i}-\\hat{Y}_{i})^2} $$\n",
    "\n",
    "사이킷런은 RMSE를 제공하지 않으므로 RMSE를 구하기 위해서는 MSE에 제곱근을 씌워서 계산하는 함수를 직접 만들어야 합니다. "
   ]
  },
  {
   "cell_type": "code",
   "execution_count": 78,
   "metadata": {
    "colab": {},
    "colab_type": "code",
    "id": "6vaF5Imzk3Js",
    "outputId": "f48d58fe-aea3-41c8-c88a-676890c19452"
   },
   "outputs": [
    {
     "data": {
      "text/plain": [
       "3.5185281013514738"
      ]
     },
     "execution_count": 78,
     "metadata": {},
     "output_type": "execute_result"
    }
   ],
   "source": [
    "# Write your code!\n",
    "\n",
    "rmse = np.sqrt(mse_1)\n",
    "rmse"
   ]
  },
  {
   "cell_type": "markdown",
   "metadata": {
    "colab_type": "text",
    "id": "tIjDUHWJk3Jv"
   },
   "source": [
    "### MSLE (Mean Squared Logarithmic Error)"
   ]
  },
  {
   "cell_type": "markdown",
   "metadata": {
    "colab_type": "text",
    "id": "FIwvQCX4k3Jv"
   },
   "source": [
    "MSLE(Mean Squared Logarithmic Error)는 실제값에 로그를 취한 값과 예측값에 로그를 취한 값의 차이를 **제곱**해 평균한 것입니다. \n",
    "\n",
    "$$ MSLE = \\frac{1}{n}\\sum_{i=1}^{n}(\\log{(p_{i}+1)}-\\log{(a_{i}+1)})^2 $$\n",
    "\n",
    "MSLE를 구하는 기능은 다음과 같이 구현할 수 있습니다. "
   ]
  },
  {
   "cell_type": "code",
   "execution_count": 79,
   "metadata": {
    "colab": {},
    "colab_type": "code",
    "id": "ay1exJ-Wk3Jw",
    "outputId": "8a33ef7f-28e5-443e-cf57-6a0801909877"
   },
   "outputs": [
    {
     "data": {
      "text/plain": [
       "0.0013580771418014626"
      ]
     },
     "execution_count": 79,
     "metadata": {},
     "output_type": "execute_result"
    }
   ],
   "source": [
    "# Write your code!\n",
    "\n",
    "msle_1 = ((np.log1p(y_pred) - np.log1p(y_true)) ** 2).mean()  # log1p : log안에 위의 수식처럼 1을 더해주는 함수\n",
    "# 제곱을 하기 때문에 y_pred와 y_true의 순서는 상관없다.\n",
    "msle_1"
   ]
  },
  {
   "cell_type": "markdown",
   "metadata": {
    "colab_type": "text",
    "id": "9nSNRcREk3Jz"
   },
   "source": [
    "사이킷런은 MSLE를 계산하는 **mean_squared_log_error()** 함수를 제공합니다. 첫 번째 파라미터로 실제값을, 두 번째 파라미터로 예측값을 입력하면 됩니다."
   ]
  },
  {
   "cell_type": "code",
   "execution_count": 80,
   "metadata": {
    "colab": {},
    "colab_type": "code",
    "id": "ogGzbplzk3Jz",
    "outputId": "ac0b4bc0-a547-4216-edd4-602b4fd7a9d6"
   },
   "outputs": [
    {
     "data": {
      "text/plain": [
       "0.0013580771418014626"
      ]
     },
     "execution_count": 80,
     "metadata": {},
     "output_type": "execute_result"
    }
   ],
   "source": [
    "# Write your code!\n",
    "\n",
    "from sklearn.metrics import mean_squared_log_error\n",
    "\n",
    "msle_2 = mean_squared_log_error(y_true, y_pred)\n",
    "msle_2"
   ]
  },
  {
   "cell_type": "markdown",
   "metadata": {
    "colab_type": "text",
    "id": "z0DnSjw_k3J1"
   },
   "source": [
    "### RMSLE (Root Mean Squared Logarithmic Error)"
   ]
  },
  {
   "cell_type": "markdown",
   "metadata": {
    "colab_type": "text",
    "id": "d8Mvcdauk3J1"
   },
   "source": [
    "RMSLE(Root Mean Squared Logarithmic Error)는 MSLE가 오류의 제곱을 구하므로 실제 오류 평균보다 더 커지는 특성이 있으므로 MSLE에 **루트**를 씌운 것입니다.\n",
    "\n",
    "$$ RMSLE = \\sqrt{\\frac{1}{n}\\sum_{i=1}^{n}(\\log{(p_{i}+1)}-\\log{(a_{i}+1)})^2} $$\n",
    "\n",
    "사이킷런은 RMSLE를 제공하지 않으므로 RMSLE를 구하기 위해서는 MSLE에 제곱근을 씌워서 계산하는 함수를 직접 만들어야 합니다. "
   ]
  },
  {
   "cell_type": "code",
   "execution_count": 81,
   "metadata": {
    "colab": {},
    "colab_type": "code",
    "id": "zOslpW0Sk3J2",
    "outputId": "1fd29b22-d634-4e77-e8c0-a5e35dd6bccf"
   },
   "outputs": [
    {
     "data": {
      "text/plain": [
       "0.03685209820080076"
      ]
     },
     "execution_count": 81,
     "metadata": {},
     "output_type": "execute_result"
    }
   ],
   "source": [
    "# Write your code!\n",
    "\n",
    "rmsle = np.sqrt(msle_1)\n",
    "rmsle"
   ]
  },
  {
   "cell_type": "markdown",
   "metadata": {
    "colab_type": "text",
    "id": "C6ROGyHWk3J3"
   },
   "source": [
    "### R^2"
   ]
  },
  {
   "cell_type": "markdown",
   "metadata": {
    "colab_type": "text",
    "id": "yUzWdhTtk3J4"
   },
   "source": [
    "R^2는 분산 기반으로 예측 성능을 평가합니다. 실제값의 분산 대비 예측값의 분산 비율을 지표로 하며, 1에 가까울수록 예측 정확도가 높습니다. \n",
    "\n",
    "$$ R^2 = 1 - \\frac{SS_{res}}{SS_{tot}} = 1 - \\frac{\\sum_{i=1}^{n}(Y_{i}-\\hat{Y}_{i})^2}{\\sum_{i=1}^{n}(Y_{i}-\\bar{Y})^2} $$\n",
    "\n",
    "R^2를 구하는 기능은 다음과 같이 구현할 수 있습니다."
   ]
  },
  {
   "cell_type": "code",
   "execution_count": 88,
   "metadata": {
    "colab": {},
    "colab_type": "code",
    "id": "GEIziJzRk3J4",
    "outputId": "6d01c1c6-7804-46d8-da4a-87ee520e748b"
   },
   "outputs": [
    {
     "data": {
      "text/plain": [
       "0.999826079350889"
      ]
     },
     "execution_count": 88,
     "metadata": {},
     "output_type": "execute_result"
    }
   ],
   "source": [
    "# Write your code!\n",
    "\n",
    "ssres = sum((y_true - y_pred) ** 2)\n",
    "sstot = sum((y_true - y_true.mean()) ** 2)\n",
    "\n",
    "r2_1 = 1 - ssres / sstot\n",
    "r2_1"
   ]
  },
  {
   "cell_type": "markdown",
   "metadata": {
    "colab_type": "text",
    "id": "1MD5lpXvk3J-"
   },
   "source": [
    "사이킷런은 R^2를 계산하는 **r2_score()** 함수를 제공합니다. 첫 번째 파라미터로 실제값을, 두 번째 파라미터로 예측값을 입력하면 됩니다."
   ]
  },
  {
   "cell_type": "code",
   "execution_count": 89,
   "metadata": {
    "colab": {},
    "colab_type": "code",
    "id": "4ggOfg2Kk3J-",
    "outputId": "6e52aa96-0081-4a05-998b-49a20b97e9c8"
   },
   "outputs": [
    {
     "data": {
      "text/plain": [
       "0.999826079350889"
      ]
     },
     "execution_count": 89,
     "metadata": {},
     "output_type": "execute_result"
    }
   ],
   "source": [
    "# Write your code!\n",
    "\n",
    "from sklearn.metrics import r2_score\n",
    "\n",
    "r2_2 = r2_score(y_true, y_pred)\n",
    "r2_2"
   ]
  },
  {
   "cell_type": "markdown",
   "metadata": {
    "colab_type": "text",
    "id": "w0wUhYwzk3KC"
   },
   "source": [
    "### MAPE (Mean Absolute Percentage Error)"
   ]
  },
  {
   "cell_type": "markdown",
   "metadata": {
    "colab_type": "text",
    "id": "eXCKB8JJk3KD"
   },
   "source": [
    "MAE(Mean Absolute Percentage Error)는 Scale Dependent Error의 단점을 커버하는 지표입니다. MAPE의 공식은 아래와 같습니다. \n",
    "$$ MAPE = \\frac{100}{n}\\sum_{i=1}^{n}\\left|\\frac{Y_{i}-\\hat{Y}_{i}}{Y_{i}}\\right| $$\n",
    "\n",
    "MAPE는 예측값과 실제값의 차이를 실제값으로 나눈 값의 절댓값을 평균한 후 100을 곱하여 백분율로 표현합니다. "
   ]
  },
  {
   "cell_type": "code",
   "execution_count": 91,
   "metadata": {
    "colab": {},
    "colab_type": "code",
    "id": "gXtbp59Qk3KD",
    "outputId": "43fbbc76-054f-489a-b79f-19c001c26149"
   },
   "outputs": [
    {
     "data": {
      "text/plain": [
       "1.469947624154919"
      ]
     },
     "execution_count": 91,
     "metadata": {},
     "output_type": "execute_result"
    }
   ],
   "source": [
    "# Write your code!\n",
    "\n",
    "mape = abs((y_true - y_pred) / y_true).mean() * 100\n",
    "mape"
   ]
  }
 ],
 "metadata": {
  "colab": {
   "name": "07_Model_Evaluation-v2(수정중).ipynb",
   "provenance": []
  },
  "kernelspec": {
   "display_name": "Python 3",
   "language": "python",
   "name": "python3"
  },
  "language_info": {
   "codemirror_mode": {
    "name": "ipython",
    "version": 3
   },
   "file_extension": ".py",
   "mimetype": "text/x-python",
   "name": "python",
   "nbconvert_exporter": "python",
   "pygments_lexer": "ipython3",
   "version": "3.7.6"
  }
 },
 "nbformat": 4,
 "nbformat_minor": 1
}
