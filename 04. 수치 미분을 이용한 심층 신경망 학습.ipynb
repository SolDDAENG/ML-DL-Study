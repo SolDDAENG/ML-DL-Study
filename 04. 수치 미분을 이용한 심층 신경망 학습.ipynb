{
 "cells": [
  {
   "cell_type": "markdown",
   "metadata": {},
   "source": [
    "## 수치 미분을 이용한 심층 신경망 학습"
   ]
  },
  {
   "cell_type": "code",
   "execution_count": 1,
   "metadata": {},
   "outputs": [],
   "source": [
    "import time\n",
    "import numpy as np"
   ]
  },
  {
   "cell_type": "markdown",
   "metadata": {},
   "source": [
    "## 유틸리티 함수"
   ]
  },
  {
   "cell_type": "code",
   "execution_count": 2,
   "metadata": {},
   "outputs": [],
   "source": [
    "epsilon = 0.0001  # 수치미분을 하기 위해 엡실론 정의\n",
    "\n",
    "def _t(x):\n",
    "    return np.transpose(x)  # 행과 열 바꾸기\n",
    "\n",
    "def _m(A, B):\n",
    "    return np.matmul(A, B)\n",
    "\n",
    "def sigmoid(x):\n",
    "    return 1 / (1 + np.exp(-x))\n",
    "\n",
    "def mean_squared_error(h, y):\n",
    "    return 1 / 2 * np.mean(np.square(h - y))"
   ]
  },
  {
   "cell_type": "markdown",
   "metadata": {},
   "source": [
    "## 뉴런 구현"
   ]
  },
  {
   "cell_type": "code",
   "execution_count": 3,
   "metadata": {},
   "outputs": [],
   "source": [
    "class Neuron:\n",
    "    def __init__(self, W, b, a):\n",
    "        # Model Parameter\n",
    "        self.W = W\n",
    "        self.b = b\n",
    "        self.a = a\n",
    "        \n",
    "        # Gradients\n",
    "        self.dW = np.zeros_like(self.W)  # self.W와 같은 크기의 0으로 된 메트릭스 생성\n",
    "        self.db = np.zeros_like(self.b)\n",
    "\n",
    "    def __call__(self, x):\n",
    "        return self.a(_m(_t(self.W), x) + self.b) # activation((W^T)x + b)"
   ]
  },
  {
   "cell_type": "markdown",
   "metadata": {},
   "source": [
    "## 심층신경망 구현"
   ]
  },
  {
   "cell_type": "code",
   "execution_count": 4,
   "metadata": {},
   "outputs": [],
   "source": [
    "class DNN:\n",
    "    def __init__(self, hidden_depth, num_neuron, num_input, num_output, activation=sigmoid):\n",
    "        def init_var(i, o):\n",
    "            return np.random.normal(0.0, 0.01, (i, o)), np.zeros((o,))\n",
    "            # random.normal(0 : 평균, 0.01 : 표준 편차, (input, output), zeros에 output 크기 n,1에 맞는 bias 출력)\n",
    "            # hidden_depth: hidden layer의 갯수\n",
    "            # num_neuron : hidden layer 하나당 뉴런의 갯수\n",
    "            # num_input : input layer의 뉴런의 갯수\n",
    "            # num_output : output layer의 뉴런의 갯수\n",
    "            \n",
    "        self.sequence = list()\n",
    "        # First hidden layer\n",
    "        W, b = init_var(num_input, num_neuron)\n",
    "        self.sequence.append(Neuron(W, b, activation))\n",
    "        \n",
    "        # Hidden layers\n",
    "        for _ in range(hidden_depth - 1):  # hidden layer는 여러개가 들어가기 때문에 반복문을 사용\n",
    "            # 첫번째 hidden layer는 위에서 정의했기 때문에 -1 해준다.\n",
    "            W, b = init_var(num_neuron, num_neuron)\n",
    "            self.sequence.append(Neuron(W, b, activation))\n",
    "\n",
    "        # Output layer\n",
    "        W, b = init_var(num_neuron, num_output)\n",
    "        self.sequence.append(Neuron(W, b, activation))\n",
    "\n",
    "    def __call__(self, x):\n",
    "        for layer in self.sequence:\n",
    "            x = layer(x)\n",
    "        return x  # layer를 call하는 것은 위의 뉴런을 call하는것. 뉴런의 __call__이 리턴하게 됨.\n",
    "\n",
    "    def calc_gradient(self, x, y, loss_func):\n",
    "        def get_new_sequence(layer_index, new_neuron):\n",
    "            new_sequence = list()\n",
    "            for i, layer in enumerate(self.sequence):\n",
    "                if i == layer_index:\n",
    "                    new_sequence.append(new_neuron)\n",
    "                else:\n",
    "                    new_sequence.append(layer)\n",
    "            return new_sequence\n",
    "        \n",
    "        def eval_sequence(x, sequence):\n",
    "            for layer in sequence:\n",
    "                x = layer(x)\n",
    "            return x\n",
    "        \n",
    "        loss = loss_func(self(x), y)\n",
    "        \n",
    "        for layer_id, layer in enumerate(self.sequence): # iterate layer\n",
    "            for w_i, w in enumerate(layer.W): # iterate W (row)\n",
    "                for w_j, ww in enumerate(w): # iterate W (col)\n",
    "                    W = np.copy(layer.W)\n",
    "                    W[w_i][w_j] = ww + epsilon\n",
    "                    \n",
    "                    new_neuron = Neuron(W, layer.b, layer.a)\n",
    "                    new_seq = get_new_sequence(layer_id, new_neuron)\n",
    "                    h = eval_sequence(x, new_seq)\n",
    "                    \n",
    "                    num_grad = (loss_func(h, y) - loss) / epsilon  # (f(x+eps) - f(x)) / epsilon\n",
    "                    layer.dW[w_i][w_j] = num_grad\n",
    "            \n",
    "                for b_i, bb in enumerate(layer.b): # iterate b\n",
    "                    b = np.copy(layer.b)\n",
    "                    b[b_i] = bb + epsilon\n",
    "                    \n",
    "                    new_neuron = Neuron(layer.W, b, layer.a)\n",
    "                    new_seq = get_new_sequence(layer_id, new_neuron)\n",
    "                    h = eval_sequence(x, new_seq)\n",
    "                    \n",
    "                    num_grad = (loss_func(h, y) - loss) / epsilon  # (f(x+eps) - f(x)) / epsilon\n",
    "                    layer.db[b_i] = num_grad\n",
    "        return loss"
   ]
  },
  {
   "cell_type": "markdown",
   "metadata": {},
   "source": [
    "## 경사하강 학습법"
   ]
  },
  {
   "cell_type": "code",
   "execution_count": 5,
   "metadata": {},
   "outputs": [],
   "source": [
    "def gradient_descent(network, x, y, loss_obj, alpha=0.01):  # alpha : learning_rate\n",
    "    loss = network.calc_gradient(x, y, loss_obj)\n",
    "    for layer in network.sequence:\n",
    "        layer.W += -alpha * layer.dW\n",
    "        layer.b += -alpha * layer.db\n",
    "    return loss"
   ]
  },
  {
   "cell_type": "markdown",
   "metadata": {},
   "source": [
    "## 동작 테스트"
   ]
  },
  {
   "cell_type": "code",
   "execution_count": 6,
   "metadata": {},
   "outputs": [
    {
     "name": "stdout",
     "output_type": "stream",
     "text": [
      "Epoch 0: Test loss 1.1381219227907302\n",
      "Epoch 1: Test loss 1.1317422379065443\n",
      "Epoch 2: Test loss 1.125400422034505\n",
      "Epoch 3: Test loss 1.119098113716565\n",
      "Epoch 4: Test loss 1.112836888032469\n",
      "Epoch 5: Test loss 1.106618254981134\n",
      "Epoch 6: Test loss 1.1004436581090655\n",
      "Epoch 7: Test loss 1.0943144733847712\n",
      "Epoch 8: Test loss 1.0882320083160224\n",
      "Epoch 9: Test loss 1.08219750130502\n",
      "Epoch 10: Test loss 1.0762121212363769\n",
      "Epoch 11: Test loss 1.070276967289371\n",
      "Epoch 12: Test loss 1.0643930689672945\n",
      "Epoch 13: Test loss 1.0585613863341163\n",
      "Epoch 14: Test loss 1.052782810447565\n",
      "Epoch 15: Test loss 1.047058163979899\n",
      "Epoch 16: Test loss 1.0413882020122984\n",
      "Epoch 17: Test loss 1.035773612992966\n",
      "Epoch 18: Test loss 1.0302150198456346\n",
      "Epoch 19: Test loss 1.0247129812166065\n",
      "Epoch 20: Test loss 1.0192679928479966\n",
      "Epoch 21: Test loss 1.0138804890634803\n",
      "Epoch 22: Test loss 1.0085508443557187\n",
      "Epoch 23: Test loss 1.0032793750626863\n",
      "Epoch 24: Test loss 0.998066341120421\n",
      "Epoch 25: Test loss 0.9929119478814787\n",
      "Epoch 26: Test loss 0.9878163479879465\n",
      "Epoch 27: Test loss 0.9827796432873737\n",
      "Epoch 28: Test loss 0.9778018867829159\n",
      "Epoch 29: Test loss 0.9728830846066521\n",
      "Epoch 30: Test loss 0.968023198008363\n",
      "Epoch 31: Test loss 0.9632221453500469\n",
      "Epoch 32: Test loss 0.958479804099174\n",
      "Epoch 33: Test loss 0.9537960128131722\n",
      "Epoch 34: Test loss 0.9491705731082046\n",
      "Epoch 35: Test loss 0.9446032516064131\n",
      "Epoch 36: Test loss 0.9400937818562899\n",
      "Epoch 37: Test loss 0.9356418662207528\n",
      "Epoch 38: Test loss 0.931247177728898\n",
      "Epoch 39: Test loss 0.9269093618875721\n",
      "Epoch 40: Test loss 0.9226280384490753\n",
      "Epoch 41: Test loss 0.9184028031325784\n",
      "Epoch 42: Test loss 0.9142332292966109\n",
      "Epoch 43: Test loss 0.9101188695603507\n",
      "Epoch 44: Test loss 0.9060592573725674\n",
      "Epoch 45: Test loss 0.9020539085268438\n",
      "Epoch 46: Test loss 0.8981023226218856\n",
      "Epoch 47: Test loss 0.8942039844668248\n",
      "Epoch 48: Test loss 0.8903583654309621\n",
      "Epoch 49: Test loss 0.8865649247376532\n",
      "Epoch 50: Test loss 0.882823110703199\n",
      "Epoch 51: Test loss 0.8791323619207205\n",
      "Epoch 52: Test loss 0.8754921083895684\n",
      "Epoch 53: Test loss 0.8719017725913193\n",
      "Epoch 54: Test loss 0.8683607705131096\n",
      "Epoch 55: Test loss 0.8648685126194099\n",
      "Epoch 56: Test loss 0.8614244047734702\n",
      "Epoch 57: Test loss 0.8580278491094773\n",
      "Epoch 58: Test loss 0.8546782448570119\n",
      "Epoch 59: Test loss 0.8513749891189692\n",
      "Epoch 60: Test loss 0.8481174776047531\n",
      "Epoch 61: Test loss 0.8449051053196608\n",
      "Epoch 62: Test loss 0.8417372672124623\n",
      "Epoch 63: Test loss 0.8386133587825344\n",
      "Epoch 64: Test loss 0.8355327766479494\n",
      "Epoch 65: Test loss 0.8324949190762418\n",
      "Epoch 66: Test loss 0.8294991864793195\n",
      "Epoch 67: Test loss 0.8265449818740571\n",
      "Epoch 68: Test loss 0.8236317113099146\n",
      "Epoch 69: Test loss 0.8207587842651355\n",
      "Epoch 70: Test loss 0.8179256140132342\n",
      "Epoch 71: Test loss 0.8151316179607473\n",
      "Epoch 72: Test loss 0.8123762179579019\n",
      "Epoch 73: Test loss 0.8096588405833904\n",
      "Epoch 74: Test loss 0.8069789174047828\n",
      "Epoch 75: Test loss 0.804335885215631\n",
      "Epoch 76: Test loss 0.8017291862505648\n",
      "Epoch 77: Test loss 0.7991582683795062\n",
      "Epoch 78: Test loss 0.7966225852822995\n",
      "Epoch 79: Test loss 0.7941215966046509\n",
      "Epoch 80: Test loss 0.7916547680966843\n",
      "Epoch 81: Test loss 0.789221571734801\n",
      "Epoch 82: Test loss 0.7868214858281131\n",
      "Epoch 83: Test loss 0.7844539951103444\n",
      "Epoch 84: Test loss 0.7821185908177846\n",
      "Epoch 85: Test loss 0.779814770754593\n",
      "Epoch 86: Test loss 0.7775420393460364\n",
      "Epoch 87: Test loss 0.7752999076803258\n",
      "Epoch 88: Test loss 0.7730878935399841\n",
      "Epoch 89: Test loss 0.7709055214235222\n",
      "Epoch 90: Test loss 0.7687523225577044\n",
      "Epoch 91: Test loss 0.7666278349015051\n",
      "Epoch 92: Test loss 0.7645316031420399\n",
      "Epoch 93: Test loss 0.7624631786831486\n",
      "Epoch 94: Test loss 0.7604221196271863\n",
      "Epoch 95: Test loss 0.7584079907505037\n",
      "Epoch 96: Test loss 0.756420363473171\n",
      "Epoch 97: Test loss 0.7544588158232641\n",
      "Epoch 98: Test loss 0.7525229323962752\n",
      "Epoch 99: Test loss 0.7506123043100156\n",
      "63.755695819854736 seconds elapsed.\n"
     ]
    }
   ],
   "source": [
    "x = np.random.normal(0.0, 1.0, (10,))\n",
    "y = np.random.normal(0.0, 1.0, (2,))\n",
    "\n",
    "dnn = DNN(hidden_depth=5, num_neuron=32, num_input=10, num_output=2, activation=sigmoid)\n",
    "\n",
    "t = time.time()\n",
    "for epoch in range(100):\n",
    "    loss = gradient_descent(dnn, x, y, mean_squared_error, 0.01)\n",
    "    print('Epoch {}: Test loss {}'.format(epoch, loss))\n",
    "print('{} seconds elapsed.'.format(time.time() - t))"
   ]
  }
 ],
 "metadata": {
  "kernelspec": {
   "display_name": "Python 3",
   "language": "python",
   "name": "python3"
  },
  "language_info": {
   "codemirror_mode": {
    "name": "ipython",
    "version": 3
   },
   "file_extension": ".py",
   "mimetype": "text/x-python",
   "name": "python",
   "nbconvert_exporter": "python",
   "pygments_lexer": "ipython3",
   "version": "3.7.6"
  }
 },
 "nbformat": 4,
 "nbformat_minor": 2
}
