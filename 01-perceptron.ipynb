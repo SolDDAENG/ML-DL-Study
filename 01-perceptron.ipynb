{
 "cells": [
  {
   "cell_type": "code",
   "execution_count": 1,
   "metadata": {},
   "outputs": [],
   "source": [
    "import numpy as np"
   ]
  },
  {
   "cell_type": "markdown",
   "metadata": {},
   "source": [
    "### Load Dataset\n",
    "\n",
    "y = 0.3(w) * x\n",
    "- 여기서 w는 weight(가중치)"
   ]
  },
  {
   "cell_type": "code",
   "execution_count": 3,
   "metadata": {},
   "outputs": [
    {
     "name": "stdout",
     "output_type": "stream",
     "text": [
      "(100,)\n"
     ]
    },
    {
     "data": {
      "text/plain": [
       "array([-0.28311736, -0.74160018, -0.52008522, -0.17275746,  0.32874648,\n",
       "       -0.97942075, -0.56561734,  0.86530835, -0.75511076, -0.97880444])"
      ]
     },
     "execution_count": 3,
     "metadata": {},
     "output_type": "execute_result"
    }
   ],
   "source": [
    "x1 = np.random.uniform(low = -1.0, high = 1.0, size = 100)  # uniform : 유니폼 분포 : 주사위 던지기와 같다.\n",
    "\n",
    "print(x1.shape)\n",
    "x1[:10]"
   ]
  },
  {
   "cell_type": "code",
   "execution_count": 4,
   "metadata": {},
   "outputs": [
    {
     "name": "stdout",
     "output_type": "stream",
     "text": [
      "(100,)\n"
     ]
    },
    {
     "data": {
      "text/plain": [
       "array([ 0.23740188,  0.61724418,  0.09793923, -0.62747287, -0.83442145,\n",
       "       -0.30603561, -0.21793089,  0.00418102, -0.12495863,  0.01241239])"
      ]
     },
     "execution_count": 4,
     "metadata": {},
     "output_type": "execute_result"
    }
   ],
   "source": [
    "x2 = np.random.uniform(low = -1.0, high = 1.0, size = 100)  # uniform : 유니폼 분포 : 주사위 던지기와 같다.\n",
    "\n",
    "print(x2.shape)\n",
    "x2[:10]"
   ]
  },
  {
   "cell_type": "code",
   "execution_count": 6,
   "metadata": {},
   "outputs": [
    {
     "name": "stdout",
     "output_type": "stream",
     "text": [
      "(100,)\n"
     ]
    },
    {
     "data": {
      "text/plain": [
       "array([ 0.13376573,  0.18614203, -0.00705595, -0.26556368, -0.21858678,\n",
       "       -0.34684403, -0.17865065,  0.36168301, -0.18901254, -0.18743514])"
      ]
     },
     "execution_count": 6,
     "metadata": {},
     "output_type": "execute_result"
    }
   ],
   "source": [
    "y = 0.3 * x1 + 0.5 * x2 + 0.1\n",
    "\n",
    "print(y.shape)\n",
    "y[:10]"
   ]
  },
  {
   "cell_type": "code",
   "execution_count": 7,
   "metadata": {
    "scrolled": true
   },
   "outputs": [
    {
     "data": {
      "text/plain": [
       "array([1, 1, 1, 1, 1, 1, 1, 1, 1, 1, 1, 1, 1, 1, 1, 1, 1, 1, 1, 1, 1, 1,\n",
       "       1, 1, 1, 1, 1, 1, 1, 1, 1, 1, 1, 1, 1, 1, 1, 1, 1, 1, 1, 1, 1, 1,\n",
       "       1, 1, 1, 1, 1, 1, 1, 1, 1, 1, 1, 1, 1, 1, 1, 1, 1, 1, 1, 1, 1, 1,\n",
       "       1, 1, 1, 1, 1, 1, 1, 1, 1, 1, 1, 1, 1, 1, 1, 1, 1, 1, 1, 1, 1, 1,\n",
       "       1, 1, 1, 1, 1, 1, 1, 1, 1, 1, 1, 1])"
      ]
     },
     "execution_count": 7,
     "metadata": {},
     "output_type": "execute_result"
    }
   ],
   "source": [
    "x3 = np.array([1] * 100)\n",
    "x3"
   ]
  },
  {
   "cell_type": "code",
   "execution_count": 8,
   "metadata": {},
   "outputs": [
    {
     "name": "stdout",
     "output_type": "stream",
     "text": [
      "(100,)\n"
     ]
    },
    {
     "data": {
      "text/plain": [
       "array([ 0.13376573,  0.18614203, -0.00705595, -0.26556368, -0.21858678,\n",
       "       -0.34684403, -0.17865065,  0.36168301, -0.18901254, -0.18743514])"
      ]
     },
     "execution_count": 8,
     "metadata": {},
     "output_type": "execute_result"
    }
   ],
   "source": [
    "y = 0.3 * x1 + 0.5 * x2 + 0.1 * x3\n",
    "\n",
    "print(y.shape)\n",
    "y[:10]"
   ]
  },
  {
   "cell_type": "markdown",
   "metadata": {},
   "source": [
    "### Random Search"
   ]
  },
  {
   "cell_type": "code",
   "execution_count": 9,
   "metadata": {
    "scrolled": true
   },
   "outputs": [
    {
     "name": "stdout",
     "output_type": "stream",
     "text": [
      "0, w1 = 0.947169, w2 = -0.198042, error = 0.443890\n",
      "3, w1 = 0.169181, w2 = 0.668200, error = 0.119155\n",
      "193, w1 = 0.237778, w2 = 0.622929, error = 0.113436\n",
      "479, w1 = 0.240194, w2 = 0.519461, error = 0.046912\n",
      "13799, w1 = 0.243333, w2 = 0.427903, error = 0.043368\n",
      "20504, w1 = 0.317123, w2 = 0.470289, error = 0.021771\n",
      "90167, w1 = 0.293367, w2 = 0.515514, error = 0.019451\n",
      "99519, w1 = 0.310011, w2 = 0.494178, error = 0.009812\n",
      "660264, w1 = 0.290237, w2 = 0.504530, error = 0.005238\n",
      "847630, w1 = 0.293561, w2 = 0.505577, error = 0.004372\n",
      "----------------------------------------\n",
      "847630, w1 = 0.293561, w2 = 0.505577, b = 0.096747, error = 0.004372\n"
     ]
    }
   ],
   "source": [
    "num_epoch = 1000000\n",
    "\n",
    "best_error = 9999\n",
    "best_w1 = None\n",
    "best_w2 = None\n",
    "best_b = None\n",
    "best_epoch = None\n",
    "\n",
    "for epoch in range(num_epoch):\n",
    "    w1 = np.random.uniform(low = -1.0, high = 1.0)\n",
    "    w2 = np.random.uniform(low = -1.0, high = 1.0)\n",
    "    b = np.random.uniform(low = -1.0, high = 1.0)\n",
    "    \n",
    "    y_predict = w1 * x1 + w2 * x2 + b\n",
    "    \n",
    "    error = np.abs(y_predict - y).mean()  # abs : 절대값. \n",
    "    # 절대값을 취해주지 않으면 정답이 틀렸음에도 error가 0으로 나올 수 있다.\n",
    "    \n",
    "    if error < best_error:  # 현재 에러가 bset_error보다 작다면\n",
    "        best_error = error  # best_error를 갱신\n",
    "        best_w1 = w1\n",
    "        best_w2 = w2\n",
    "        best_b = b\n",
    "        best_epoch = epoch\n",
    "        \n",
    "        print(f'{best_epoch}, w1 = {best_w1:.6f}, w2 = {best_w2:.6f}, error = {best_error:.6f}')\n",
    "        \n",
    "print('----' * 10)\n",
    "print(f'{best_epoch}, w1 = {best_w1:.6f}, w2 = {best_w2:.6f}, b = {best_b:.6f}, error = {best_error:.6f}')"
   ]
  },
  {
   "cell_type": "code",
   "execution_count": 10,
   "metadata": {},
   "outputs": [
    {
     "data": {
      "text/plain": [
       "1.3333333333333333"
      ]
     },
     "execution_count": 10,
     "metadata": {},
     "output_type": "execute_result"
    }
   ],
   "source": [
    "y_example = [-1, 0, +1]\n",
    "y_predict_example = [+1, -1, 0]\n",
    "\n",
    "y_example = np.array(y_example)\n",
    "y_predict_example = np.array(y_predict_example)\n",
    "\n",
    "np.abs(y_predict_example - y_example).mean()"
   ]
  },
  {
   "cell_type": "markdown",
   "metadata": {},
   "source": [
    "### h_step search"
   ]
  },
  {
   "cell_type": "code",
   "execution_count": 11,
   "metadata": {},
   "outputs": [
    {
     "name": "stdout",
     "output_type": "stream",
     "text": [
      "0, w1 = 0.944616, error = 0.406440\n",
      "1, w1 = 0.894616, error = 0.387132\n",
      "2, w1 = 0.844616, error = 0.368738\n",
      "3, w1 = 0.794616, error = 0.351048\n",
      "4, w1 = 0.744616, error = 0.334544\n",
      "5, w1 = 0.694616, error = 0.318910\n",
      "6, w1 = 0.644616, error = 0.305443\n",
      "7, w1 = 0.594616, error = 0.293249\n",
      "8, w1 = 0.544616, error = 0.282493\n",
      "9, w1 = 0.494616, error = 0.272976\n",
      "10, w1 = 0.444616, error = 0.264793\n",
      "11, w1 = 0.394616, error = 0.258600\n",
      "12, w1 = 0.344616, error = 0.255279\n",
      "13, w1 = 0.294616, error = 0.254491\n",
      "----------------------------------------\n",
      "14, w1 = 0.294616, error = 0.254491\n"
     ]
    }
   ],
   "source": [
    "# h_step search의 장점 :\n",
    "# w1이 0.3이 아닌 값. 쉽게 말해서 w1이 -1 ~ +1 사이의 값이 아닌 값이어도 찾을 수 있다.\n",
    "# 단점 : h를 우리가 직접 지정해줘야한다. ==> w가 커지면 h도 커져야하고 이렇게 되면 오차가 많이 생길 수 있다.\n",
    "\n",
    "num_epoch = 100\n",
    "h = 0.05\n",
    "\n",
    "w1 = np.random.uniform(low = -1.0, high = 1.0)\n",
    "\n",
    "for epoch in range(num_epoch):\n",
    "    y_predict = w1 * x1\n",
    "    \n",
    "    current_error = np.abs(y_predict - y).mean()\n",
    "    \n",
    "    y_predict = (w1 + h) * x1\n",
    "    h_plus_error = np.abs(y_predict - y).mean()\n",
    "    \n",
    "    if h_plus_error < current_error:\n",
    "        w1 = w1 + h\n",
    "        print(f'{epoch}, w1 = {w1:.6f}, error = {h_plus_error:.6f}')\n",
    "        continue  # h_plus_error가 true가 나와 작아졌을때는 continue\n",
    "    \n",
    "    y_predict = (w1 - h) * x1\n",
    "    h_minus_error = np.abs(y_predict - y).mean()\n",
    "    \n",
    "    if h_minus_error < current_error:\n",
    "        w1 = w1 - h\n",
    "        print(f'{epoch}, w1 = {w1:.6f}, error = {h_minus_error:.6f}')\n",
    "        continue\n",
    "    \n",
    "    break  # h_plus_error가 작지 않은 상황이면 break로 멈춰준다.\n",
    "print('----' * 10)    \n",
    "print(f'{epoch}, w1 = {w1:.6f}, error = {current_error:.6f}')"
   ]
  },
  {
   "cell_type": "markdown",
   "metadata": {},
   "source": [
    "### Gradient Descent"
   ]
  },
  {
   "cell_type": "code",
   "execution_count": 12,
   "metadata": {
    "scrolled": false
   },
   "outputs": [
    {
     "name": "stdout",
     "output_type": "stream",
     "text": [
      "0, w1 = -0.083053, w2 = 0.381911, b = 0.527560, error = 0.438968\n",
      "1, w1 = 0.064717, w2 = 0.382431, b = 0.089166, error = 0.126987\n",
      "2, w1 = 0.141490, w2 = 0.414179, b = 0.096365, error = 0.086390\n",
      "3, w1 = 0.193303, w2 = 0.437246, b = 0.097995, error = 0.058954\n",
      "4, w1 = 0.228134, w2 = 0.454193, b = 0.098984, error = 0.040316\n",
      "5, w1 = 0.251563, w2 = 0.466614, b = 0.099553, error = 0.027629\n",
      "6, w1 = 0.267332, w2 = 0.475700, b = 0.099867, error = 0.019012\n",
      "7, w1 = 0.277952, w2 = 0.482336, b = 0.100030, error = 0.013116\n",
      "8, w1 = 0.285108, w2 = 0.487173, b = 0.100105, error = 0.009071\n",
      "9, w1 = 0.289933, w2 = 0.490696, b = 0.100131, error = 0.006283\n",
      "10, w1 = 0.293190, w2 = 0.493257, b = 0.100131, error = 0.004369\n",
      "11, w1 = 0.295389, w2 = 0.495117, b = 0.100119, error = 0.003061\n",
      "12, w1 = 0.296875, w2 = 0.496467, b = 0.100102, error = 0.002149\n",
      "13, w1 = 0.297880, w2 = 0.497445, b = 0.100084, error = 0.001510\n",
      "14, w1 = 0.298561, w2 = 0.498154, b = 0.100068, error = 0.001064\n",
      "15, w1 = 0.299022, w2 = 0.498667, b = 0.100053, error = 0.000752\n",
      "16, w1 = 0.299334, w2 = 0.499038, b = 0.100041, error = 0.000532\n",
      "----------------------------------------\n",
      "17, w1 = 0.299547, w2 = 0.499306, b = 0.100032, error = 0.000378\n"
     ]
    }
   ],
   "source": [
    "num_epoch = 100\n",
    "learning_rate = 1.0\n",
    "\n",
    "w1 = np.random.uniform(low = -1.0, high = 1.0)\n",
    "w2 = np.random.uniform(low = -1.0, high = 1.0)\n",
    "b = np.random.uniform(low = -1.0, high = 1.0)\n",
    "\n",
    "for epoch in range(num_epoch):\n",
    "    y_predict = w1 * x1 + w2 * x2 + b\n",
    "    \n",
    "    error = np.abs(y_predict - y).mean()\n",
    "    \n",
    "    if error < 0.0005:\n",
    "        break\n",
    "    \n",
    "    print(f'{epoch}, w1 = {w1:.6f}, w2 = {w2:.6f}, b = {b:.6f}, error = {error:.6f}')\n",
    "    \n",
    "    w1 = w1 - learning_rate * ((y_predict - y) * x1).mean()  # w1은 하나이고 y_predict와 y는 100개이기 때문에 사이즈가 맞기 않아 평균값을 낸다.\n",
    "    w2 = w2 - learning_rate * ((y_predict - y) * x2).mean()\n",
    "    b = b - learning_rate * (y_predict - y).mean()  # * x3해줘야 하지만 x3=1이기 때문에 생략\n",
    "    \n",
    "print('----' * 10)    \n",
    "print(f'{epoch}, w1 = {w1:.6f}, w2 = {w2:.6f}, b = {b:.6f}, error = {error:.6f}')"
   ]
  }
 ],
 "metadata": {
  "kernelspec": {
   "display_name": "Python 3",
   "language": "python",
   "name": "python3"
  },
  "language_info": {
   "codemirror_mode": {
    "name": "ipython",
    "version": 3
   },
   "file_extension": ".py",
   "mimetype": "text/x-python",
   "name": "python",
   "nbconvert_exporter": "python",
   "pygments_lexer": "ipython3",
   "version": "3.7.6"
  }
 },
 "nbformat": 4,
 "nbformat_minor": 4
}
