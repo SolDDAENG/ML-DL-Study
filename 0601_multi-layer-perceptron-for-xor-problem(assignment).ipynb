{
 "cells": [
  {
   "cell_type": "markdown",
   "metadata": {},
   "source": [
    "# 딥러닝 온라인 심화반 <Level 6>에 오신 것을 환영합니다!\n",
    "\n",
    "<Level 6>의 주제는 <U>Multi Layer Perceptron(다층 퍼셉트론)</U>입니다. 기존에 배웠던 퍼셉트론(Perceptron)은 강력한 알고리즘이지만, 몇 가지 문제점을 갖고 있습니다. 이번 시간에는 퍼셉트론이 가지고 있는 가장 큰 문제점 중 하나인 **XOR Problem**에 대해 살펴보고, 이를 해결할 수 있는 다양한 방법, 그리고 이 방법을 활용해 퍼셉트론에 Hidden Layer(은닉층)이라는 개념을 도입해서 성능을 획기적으로 개선한 **Multi Layer Perceptron(다층 퍼셉트론)**에 대해서 살펴봅니다. 마지막으로 앞서 다룬 우편번호 손글씨 이미지(MNIST)를 인식하는 퍼셉트론 알고리즘을 Multi Layer Perceptron으로 업그레이드 해보겠습니다.\n",
    "\n",
    "<U>**Keywords:** XOR Problem, Multi Layer Perceptron, Backpropagation</U>"
   ]
  },
  {
   "cell_type": "markdown",
   "metadata": {},
   "source": [
    "## XOR Problem\n",
    "\n",
    "XOR 문제에서 XOR이란 [Exclusive OR](https://en.wikipedia.org/wiki/Exclusive_or) 또는 배타적 논리합을 뜻합니다. 두 개의 명제 x1, x2를 입력 받았다고 가정해보죠. 이에 대해 가능한 논리적 연산으로는 **AND**(x1과 x2 모두 참) 혹은 **OR**(x1 또는 x2가 참) 등이 있을 것입니다. **XOR** 문제는 x1과 x2 중 하나만 참일 때 output을 True로 갖습니다.\n",
    "\n",
    "<img src=\"https://drive.google.com/uc?export=view&id=1hYIwH5DISYBwOTdEiD6I9keWyubpXuNM\" style=\"height:250px\">\n",
    "\n",
    "XOR 문제와 AND, OR 문제의 차이점이 보이시나요? AND, OR 문제의 경우 경계선을 그릴 수 있는 반면, XOR 문제는 그릴 수 없습니다. 이러한 특징을 또한 ***Linear separability(선형 분리가능성)***라고도 부릅니다. 앞서 퍼셉트론이 간단한 형태의 Binary Linear Classifier(이진 선형 분류기)로도 볼 수 있다고 하였습니다. 이는 곧 퍼셉트론으로는 XOR 문제와 같은 비선형 문제를 풀지 못한다는 뜻일 것입니다. 이제 XOR 문제 상황을 자세히 들여다보고, 퍼셉트론 알고리즘이 작동하지 않음을 확인해본 다음, 다른 가능한 대안들을 살펴보겠습니다."
   ]
  },
  {
   "cell_type": "markdown",
   "metadata": {},
   "source": [
    "## Generate Dataset"
   ]
  },
  {
   "cell_type": "markdown",
   "metadata": {},
   "source": [
    "### AND\n",
    "\n",
    "순서대로 **1) AND, 2) OR 그리고 3) XOR** 문제를 풀어보겠습니다. 문제 상황은 다음과 같습니다. 우리에게는 입력값 X가 있는데, 이는 두 개의 변수 X1과 X2로 이루어져 있습니다. 또한 각각 1(True) 또는 0(False)의 값을 가질 수 있습니다. 즉 X1과 X2가 취할 수 있는 경우의 수는 총 2x2 = 4가지입니다."
   ]
  },
  {
   "cell_type": "code",
   "execution_count": 1,
   "metadata": {},
   "outputs": [],
   "source": [
    "import numpy as np\n",
    "import pandas as pd\n",
    "import matplotlib.pyplot as plt\n",
    "%matplotlib inline"
   ]
  },
  {
   "cell_type": "code",
   "execution_count": 2,
   "metadata": {},
   "outputs": [
    {
     "data": {
      "text/html": [
       "<div>\n",
       "<style scoped>\n",
       "    .dataframe tbody tr th:only-of-type {\n",
       "        vertical-align: middle;\n",
       "    }\n",
       "\n",
       "    .dataframe tbody tr th {\n",
       "        vertical-align: top;\n",
       "    }\n",
       "\n",
       "    .dataframe thead th {\n",
       "        text-align: right;\n",
       "    }\n",
       "</style>\n",
       "<table border=\"1\" class=\"dataframe\">\n",
       "  <thead>\n",
       "    <tr style=\"text-align: right;\">\n",
       "      <th></th>\n",
       "      <th>x1</th>\n",
       "      <th>x2</th>\n",
       "      <th>y</th>\n",
       "    </tr>\n",
       "  </thead>\n",
       "  <tbody>\n",
       "    <tr>\n",
       "      <th>0</th>\n",
       "      <td>0</td>\n",
       "      <td>0</td>\n",
       "      <td>0</td>\n",
       "    </tr>\n",
       "    <tr>\n",
       "      <th>1</th>\n",
       "      <td>0</td>\n",
       "      <td>1</td>\n",
       "      <td>0</td>\n",
       "    </tr>\n",
       "    <tr>\n",
       "      <th>2</th>\n",
       "      <td>1</td>\n",
       "      <td>0</td>\n",
       "      <td>0</td>\n",
       "    </tr>\n",
       "    <tr>\n",
       "      <th>3</th>\n",
       "      <td>1</td>\n",
       "      <td>1</td>\n",
       "      <td>1</td>\n",
       "    </tr>\n",
       "  </tbody>\n",
       "</table>\n",
       "</div>"
      ],
      "text/plain": [
       "   x1  x2  y\n",
       "0   0   0  0\n",
       "1   0   1  0\n",
       "2   1   0  0\n",
       "3   1   1  1"
      ]
     },
     "execution_count": 2,
     "metadata": {},
     "output_type": "execute_result"
    }
   ],
   "source": [
    "and_data = [\n",
    "    {'x1' : 0, 'x2' : 0, 'y' : 0},\n",
    "    {'x1' : 0, 'x2' : 1, 'y' : 0},\n",
    "    {'x1' : 1, 'x2' : 0, 'y' : 0},\n",
    "    {'x1' : 1, 'x2' : 1, 'y' : 1},\n",
    "]\n",
    "\n",
    "and_data = pd.DataFrame(and_data)\n",
    "and_data"
   ]
  },
  {
   "cell_type": "code",
   "execution_count": 3,
   "metadata": {},
   "outputs": [
    {
     "data": {
      "text/plain": [
       "<matplotlib.collections.PathCollection at 0x122cb1dd0>"
      ]
     },
     "execution_count": 3,
     "metadata": {},
     "output_type": "execute_result"
    },
    {
     "data": {
      "image/png": "[encoded data removed]",
      "text/plain": [
       "<Figure size 432x288 with 1 Axes>"
      ]
     },
     "metadata": {
      "needs_background": "light"
     },
     "output_type": "display_data"
    }
   ],
   "source": [
    "plt.scatter(and_data['x1'], and_data['x2'], c = and_data['y'])"
   ]
  },
  {
   "cell_type": "markdown",
   "metadata": {},
   "source": [
    "### OR"
   ]
  },
  {
   "cell_type": "code",
   "execution_count": 4,
   "metadata": {},
   "outputs": [
    {
     "data": {
      "text/html": [
       "<div>\n",
       "<style scoped>\n",
       "    .dataframe tbody tr th:only-of-type {\n",
       "        vertical-align: middle;\n",
       "    }\n",
       "\n",
       "    .dataframe tbody tr th {\n",
       "        vertical-align: top;\n",
       "    }\n",
       "\n",
       "    .dataframe thead th {\n",
       "        text-align: right;\n",
       "    }\n",
       "</style>\n",
       "<table border=\"1\" class=\"dataframe\">\n",
       "  <thead>\n",
       "    <tr style=\"text-align: right;\">\n",
       "      <th></th>\n",
       "      <th>x1</th>\n",
       "      <th>x2</th>\n",
       "      <th>y</th>\n",
       "    </tr>\n",
       "  </thead>\n",
       "  <tbody>\n",
       "    <tr>\n",
       "      <th>0</th>\n",
       "      <td>0</td>\n",
       "      <td>0</td>\n",
       "      <td>0</td>\n",
       "    </tr>\n",
       "    <tr>\n",
       "      <th>1</th>\n",
       "      <td>0</td>\n",
       "      <td>1</td>\n",
       "      <td>1</td>\n",
       "    </tr>\n",
       "    <tr>\n",
       "      <th>2</th>\n",
       "      <td>1</td>\n",
       "      <td>0</td>\n",
       "      <td>1</td>\n",
       "    </tr>\n",
       "    <tr>\n",
       "      <th>3</th>\n",
       "      <td>1</td>\n",
       "      <td>1</td>\n",
       "      <td>1</td>\n",
       "    </tr>\n",
       "  </tbody>\n",
       "</table>\n",
       "</div>"
      ],
      "text/plain": [
       "   x1  x2  y\n",
       "0   0   0  0\n",
       "1   0   1  1\n",
       "2   1   0  1\n",
       "3   1   1  1"
      ]
     },
     "execution_count": 4,
     "metadata": {},
     "output_type": "execute_result"
    }
   ],
   "source": [
    "or_data = [\n",
    "    {'x1' : 0, 'x2' : 0, 'y' : 0},\n",
    "    {'x1' : 0, 'x2' : 1, 'y' : 1},\n",
    "    {'x1' : 1, 'x2' : 0, 'y' : 1},\n",
    "    {'x1' : 1, 'x2' : 1, 'y' : 1},\n",
    "]\n",
    "\n",
    "or_data = pd.DataFrame(or_data)\n",
    "or_data"
   ]
  },
  {
   "cell_type": "code",
   "execution_count": 5,
   "metadata": {},
   "outputs": [
    {
     "data": {
      "text/plain": [
       "<matplotlib.collections.PathCollection at 0x1238afc90>"
      ]
     },
     "execution_count": 5,
     "metadata": {},
     "output_type": "execute_result"
    },
    {
     "data": {
      "image/png": "[encoded data removed]",
      "text/plain": [
       "<Figure size 432x288 with 1 Axes>"
      ]
     },
     "metadata": {
      "needs_background": "light"
     },
     "output_type": "display_data"
    }
   ],
   "source": [
    "plt.scatter(or_data['x1'], or_data['x2'], c = or_data['y'])"
   ]
  },
  {
   "cell_type": "markdown",
   "metadata": {},
   "source": [
    "### XOR"
   ]
  },
  {
   "cell_type": "code",
   "execution_count": 6,
   "metadata": {},
   "outputs": [
    {
     "data": {
      "text/html": [
       "<div>\n",
       "<style scoped>\n",
       "    .dataframe tbody tr th:only-of-type {\n",
       "        vertical-align: middle;\n",
       "    }\n",
       "\n",
       "    .dataframe tbody tr th {\n",
       "        vertical-align: top;\n",
       "    }\n",
       "\n",
       "    .dataframe thead th {\n",
       "        text-align: right;\n",
       "    }\n",
       "</style>\n",
       "<table border=\"1\" class=\"dataframe\">\n",
       "  <thead>\n",
       "    <tr style=\"text-align: right;\">\n",
       "      <th></th>\n",
       "      <th>x1</th>\n",
       "      <th>x2</th>\n",
       "      <th>y</th>\n",
       "    </tr>\n",
       "  </thead>\n",
       "  <tbody>\n",
       "    <tr>\n",
       "      <th>0</th>\n",
       "      <td>0</td>\n",
       "      <td>0</td>\n",
       "      <td>0</td>\n",
       "    </tr>\n",
       "    <tr>\n",
       "      <th>1</th>\n",
       "      <td>0</td>\n",
       "      <td>1</td>\n",
       "      <td>1</td>\n",
       "    </tr>\n",
       "    <tr>\n",
       "      <th>2</th>\n",
       "      <td>1</td>\n",
       "      <td>0</td>\n",
       "      <td>1</td>\n",
       "    </tr>\n",
       "    <tr>\n",
       "      <th>3</th>\n",
       "      <td>1</td>\n",
       "      <td>1</td>\n",
       "      <td>0</td>\n",
       "    </tr>\n",
       "  </tbody>\n",
       "</table>\n",
       "</div>"
      ],
      "text/plain": [
       "   x1  x2  y\n",
       "0   0   0  0\n",
       "1   0   1  1\n",
       "2   1   0  1\n",
       "3   1   1  0"
      ]
     },
     "execution_count": 6,
     "metadata": {},
     "output_type": "execute_result"
    }
   ],
   "source": [
    "xor_data = [\n",
    "    {'x1' : 0, 'x2' : 0, 'y' : 0},\n",
    "    {'x1' : 0, 'x2' : 1, 'y' : 1},\n",
    "    {'x1' : 1, 'x2' : 0, 'y' : 1},\n",
    "    {'x1' : 1, 'x2' : 1, 'y' : 0},\n",
    "]\n",
    "\n",
    "xor_data = pd.DataFrame(xor_data)\n",
    "xor_data"
   ]
  },
  {
   "cell_type": "code",
   "execution_count": 7,
   "metadata": {},
   "outputs": [
    {
     "data": {
      "text/plain": [
       "<matplotlib.collections.PathCollection at 0x1239489d0>"
      ]
     },
     "execution_count": 7,
     "metadata": {},
     "output_type": "execute_result"
    },
    {
     "data": {
      "image/png": "[encoded data removed]",
      "text/plain": [
       "<Figure size 432x288 with 1 Axes>"
      ]
     },
     "metadata": {
      "needs_background": "light"
     },
     "output_type": "display_data"
    }
   ],
   "source": [
    "plt.scatter(xor_data['x1'], xor_data['x2'], c = xor_data['y'])"
   ]
  },
  {
   "cell_type": "markdown",
   "metadata": {},
   "source": [
    "## Gradient Descent\n",
    "\n",
    "기존의 **퍼셉트론(Perceptron)** 또는 Single Layer Neural Network로 AND, OR, XOR 문제를 해결할 수 있을까요? 다음의 `gradient_descent` 알고리즘으로 직접 보일 것입니다. 이를 위해 <U>퍼셉트론의 개념을 다시 떠올려봅시다.</U> (단층) 퍼셉트론은 하나의 층(layer)으로, 층은 하나 이상의 노드(Node)들로 이루어져 있습니다. 이때 노드는 (1) 입력값(input)을 가중치(weight)와 곱한 값들을 모두 더한 값(내적/합성곱/스칼라곱 연산)이 (2) Activation function(활성함수)에 의해 판단된다고 하였습니다. 우리는 Activation function으로 `sigmoid`를 사용할 것입니다. sigmoid의 출력값이 임계치보다 크면 뉴런이 활성화됩니다.\n",
    "- `sigmoid`: 미지수 x를 입력 받아 sigmoid(x)를 출력합니다."
   ]
  },
  {
   "cell_type": "markdown",
   "metadata": {},
   "source": [
    "### Define Sigmoid"
   ]
  },
  {
   "cell_type": "code",
   "execution_count": 8,
   "metadata": {},
   "outputs": [],
   "source": [
    "def sigmoid(x):\n",
    "    return 1 / (1 + np.exp(-x))"
   ]
  },
  {
   "cell_type": "code",
   "execution_count": 9,
   "metadata": {},
   "outputs": [
    {
     "data": {
      "image/png": "[encoded data removed]",
      "text/plain": [
       "<Figure size 432x288 with 1 Axes>"
      ]
     },
     "metadata": {
      "needs_background": "light"
     },
     "output_type": "display_data"
    }
   ],
   "source": [
    "# sigmoid 함수는 다음과 같은 S자형 함수입니다.\n",
    "xx = np.linspace(-10, 10) # start=-10, stop=10\n",
    "yy = sigmoid(xx)\n",
    "plt.plot(xx, yy)\n",
    "\n",
    "# -1과 1사이의 값을 갖고, y절편은 0.5입니다.\n",
    "plt.axvline(x=0, color=\"black\", linewidth=1) \n",
    "plt.axhline(y=0.5, linestyle='--', color=\"orange\", linewidth=1)\n",
    "plt.show()"
   ]
  },
  {
   "cell_type": "markdown",
   "metadata": {},
   "source": [
    "### Perceptron\n",
    "\n",
    "이제 본격적으로 학습을 시작해봅시다. 두 개의 변수 x1과 x2가 주어졌으니 총 세 개의 값, w1, w2, b를 학습해야 합니다. 보다 일반적인 경우까지 포괄할 수 있는 함수를 만들어봅시다. `gradient_descent` 함수는 X, y와 num_epoch, learning_rate를 입력받으면 경사하강법에 따라 학습을 진행합니다. 먼저 X의 shape에 따라 num_features가 정해지고, w는 이를 size로 가질 것입니다. 다음으로 우리가 학습해야 하는 w와 b를 정의해줍니다. 앞에서 정의해준 `sigmoid`를 활성화함수로, 입력 받은 값을 각각 num_epoch과 learning_rate로 갖습니다. 정확도가 1에 도달할 때까지 모든 epoch에 대해 학습하도록 하겠습니다.\n",
    "- `gradient_descent`: X, y와 num_epoch, learning_rate를 입력 받아 경사하강법에 따라 학습을 진행합니다."
   ]
  },
  {
   "cell_type": "code",
   "execution_count": 10,
   "metadata": {},
   "outputs": [],
   "source": [
    "def gradient_descent(X, y, num_epoch=100, learning_rate=1.0):\n",
    "    \n",
    "    # 입력된 X.shape은 (num of rows, num of cols)로 구성됩니다.\n",
    "    # 퍼셉트론 알고리즘은 X와 y를 transpose하여 사용합니다.\n",
    "    X = X.T\n",
    "    y = y.T\n",
    "    \n",
    "    # transpose 이전에는 열들의 개수가 즉 X.shape[1]가 feature의 수였습니다.\n",
    "    # 이후에는 행들의 개수, 즉 X.shape[0]가 feature의 수입니다.\n",
    "    num_features = X.shape[0]\n",
    "    \n",
    "    # 샘플 수도 저장해줍니다.\n",
    "    num_data = X.shape[1]\n",
    "\n",
    "    # 우리가 학습해야하는 값들을 먼저 정의해줍니다.\n",
    "    w = np.random.uniform(low=-1.0, high=1.0, size=num_features) # 위 num_features가 w의 size입니다.\n",
    "    b = np.random.uniform(low=-1.0, high=1.0)\n",
    "\n",
    "    # 학습 시작!\n",
    "    for epoch in range(num_epoch):\n",
    "        # 먼저 합성곱을 해준 다음, 시그모이드 함수에 넣어줍니다.\n",
    "        y_predict = np.dot(w, X) + b\n",
    "        y_predict = sigmoid(y_predict)\n",
    "\n",
    "        # 이 단계에서 예측값은 0에서 1 사이 연속된 값을 갖는 확률입니다. \n",
    "        # 0 또는 1로 이진분류하기 위해 threshold를 0.5로 해줍니다.\n",
    "        # 곧 예측한 확률이 50%보다 크다면 y가 1일 것이라고 생각하는 거죠.\n",
    "        predict = y_predict > 0.5\n",
    "        accuracy = (predict == y).mean()\n",
    "\n",
    "        # 매번 학습 경과를 출력합니다.\n",
    "        print(\"{0} accuracy = {1:.5f}\".format(epoch, accuracy))\n",
    "\n",
    "        # 정확도가 1에 도달할 때까지 학습합니다.\n",
    "        if accuracy == 1.00:\n",
    "            break\n",
    "\n",
    "        # 경사하강법에 따라 비용함수를 최소화하도록 각 값들을 갱신해줍니다\n",
    "        w = w - learning_rate * np.dot((y_predict - y), X.T) / num_data\n",
    "        b = b - learning_rate * (y_predict - y).mean(axis=0)\n",
    "\n",
    "    return w, b, accuracy"
   ]
  },
  {
   "cell_type": "markdown",
   "metadata": {},
   "source": [
    "## XOR 문제 해결하기\n",
    "\n",
    "위에서 퍼셉트론 알고리즘을 `gradient_descent`로 구현하였습니다. 이제 **1) AND, 2) OR 그리고 3) XOR** 문제를 풀어보겠습니다. 각각의 경우 X와 y를 생성한 다음, num_epoch과 learning_rate는  기본값인 100과 1.0으로 두고, `gradient_descent` 함수에 투입해줌으로써 w, b, accuracy를 출력받습니다."
   ]
  },
  {
   "cell_type": "markdown",
   "metadata": {},
   "source": [
    "### AND"
   ]
  },
  {
   "cell_type": "code",
   "execution_count": 11,
   "metadata": {},
   "outputs": [
    {
     "name": "stdout",
     "output_type": "stream",
     "text": [
      "0 accuracy = 0.75000\n",
      "1 accuracy = 0.75000\n",
      "2 accuracy = 0.75000\n",
      "3 accuracy = 0.75000\n",
      "4 accuracy = 0.75000\n",
      "5 accuracy = 0.75000\n",
      "6 accuracy = 0.75000\n",
      "7 accuracy = 0.75000\n",
      "8 accuracy = 0.75000\n",
      "9 accuracy = 0.75000\n",
      "10 accuracy = 1.00000\n"
     ]
    }
   ],
   "source": [
    "data = and_data\n",
    "\n",
    "X = data[['x1', 'x2']].values  # values : np.array, 2차원 array\n",
    "y = data['y'].values\n",
    "\n",
    "w, b, accuracy = gradient_descent(X, y)"
   ]
  },
  {
   "cell_type": "code",
   "execution_count": 12,
   "metadata": {},
   "outputs": [
    {
     "data": {
      "text/plain": [
       "[<matplotlib.lines.Line2D at 0x123bd4250>]"
      ]
     },
     "execution_count": 12,
     "metadata": {},
     "output_type": "execute_result"
    },
    {
     "data": {
      "image/png": "[encoded data removed]",
      "text/plain": [
       "<Figure size 432x288 with 1 Axes>"
      ]
     },
     "metadata": {
      "needs_background": "light"
     },
     "output_type": "display_data"
    }
   ],
   "source": [
    "plt.scatter(data['x1'], data['x2'], c = data['y'])\n",
    "\n",
    "xx = np.linspace(-1, +1)\n",
    "yy = -(w[0] * xx + b) / w[1]\n",
    "\n",
    "plt.plot(xx, yy)"
   ]
  },
  {
   "cell_type": "markdown",
   "metadata": {},
   "source": [
    "### OR"
   ]
  },
  {
   "cell_type": "code",
   "execution_count": 13,
   "metadata": {},
   "outputs": [
    {
     "name": "stdout",
     "output_type": "stream",
     "text": [
      "0 accuracy = 0.75000\n",
      "1 accuracy = 0.75000\n",
      "2 accuracy = 0.75000\n",
      "3 accuracy = 0.75000\n",
      "4 accuracy = 0.75000\n",
      "5 accuracy = 0.75000\n",
      "6 accuracy = 0.75000\n",
      "7 accuracy = 0.75000\n",
      "8 accuracy = 0.75000\n",
      "9 accuracy = 0.75000\n",
      "10 accuracy = 0.75000\n",
      "11 accuracy = 0.75000\n",
      "12 accuracy = 0.75000\n",
      "13 accuracy = 0.75000\n",
      "14 accuracy = 0.75000\n",
      "15 accuracy = 0.75000\n",
      "16 accuracy = 0.75000\n",
      "17 accuracy = 0.75000\n",
      "18 accuracy = 0.75000\n",
      "19 accuracy = 0.75000\n",
      "20 accuracy = 0.75000\n",
      "21 accuracy = 0.75000\n",
      "22 accuracy = 0.75000\n",
      "23 accuracy = 1.00000\n"
     ]
    }
   ],
   "source": [
    "data = or_data\n",
    "\n",
    "X = data[['x1', 'x2']].values  # values : np.array, 2차원 array\n",
    "y = data['y'].values\n",
    "\n",
    "w, b, accuracy = gradient_descent(X, y)"
   ]
  },
  {
   "cell_type": "code",
   "execution_count": 14,
   "metadata": {},
   "outputs": [
    {
     "data": {
      "text/plain": [
       "[<matplotlib.lines.Line2D at 0x123ca93d0>]"
      ]
     },
     "execution_count": 14,
     "metadata": {},
     "output_type": "execute_result"
    },
    {
     "data": {
      "image/png": "[encoded data removed]",
      "text/plain": [
       "<Figure size 432x288 with 1 Axes>"
      ]
     },
     "metadata": {
      "needs_background": "light"
     },
     "output_type": "display_data"
    }
   ],
   "source": [
    "plt.scatter(data['x1'], data['x2'], c = data['y'])\n",
    "\n",
    "xx = np.linspace(-1, +1)\n",
    "yy = -(w[0] * xx + b) / w[1]\n",
    "\n",
    "plt.plot(xx, yy)"
   ]
  },
  {
   "cell_type": "markdown",
   "metadata": {},
   "source": [
    "### XOR Data"
   ]
  },
  {
   "cell_type": "code",
   "execution_count": 15,
   "metadata": {
    "scrolled": true
   },
   "outputs": [
    {
     "name": "stdout",
     "output_type": "stream",
     "text": [
      "0 accuracy = 0.50000\n",
      "1 accuracy = 0.50000\n",
      "2 accuracy = 0.50000\n",
      "3 accuracy = 0.50000\n",
      "4 accuracy = 0.50000\n",
      "5 accuracy = 0.25000\n",
      "6 accuracy = 0.25000\n",
      "7 accuracy = 0.50000\n",
      "8 accuracy = 0.50000\n",
      "9 accuracy = 0.50000\n",
      "10 accuracy = 0.50000\n",
      "11 accuracy = 0.50000\n",
      "12 accuracy = 0.50000\n",
      "13 accuracy = 0.50000\n",
      "14 accuracy = 0.50000\n",
      "15 accuracy = 0.50000\n",
      "16 accuracy = 0.50000\n",
      "17 accuracy = 0.50000\n",
      "18 accuracy = 0.50000\n",
      "19 accuracy = 0.50000\n",
      "20 accuracy = 0.50000\n",
      "21 accuracy = 0.50000\n",
      "22 accuracy = 0.50000\n",
      "23 accuracy = 0.50000\n",
      "24 accuracy = 0.50000\n",
      "25 accuracy = 0.50000\n",
      "26 accuracy = 0.50000\n",
      "27 accuracy = 0.50000\n",
      "28 accuracy = 0.50000\n",
      "29 accuracy = 0.50000\n",
      "30 accuracy = 0.50000\n",
      "31 accuracy = 0.50000\n",
      "32 accuracy = 0.50000\n",
      "33 accuracy = 0.50000\n",
      "34 accuracy = 0.50000\n",
      "35 accuracy = 0.50000\n",
      "36 accuracy = 0.50000\n",
      "37 accuracy = 0.50000\n",
      "38 accuracy = 0.50000\n",
      "39 accuracy = 0.50000\n",
      "40 accuracy = 0.50000\n",
      "41 accuracy = 0.50000\n",
      "42 accuracy = 0.50000\n",
      "43 accuracy = 0.50000\n",
      "44 accuracy = 0.50000\n",
      "45 accuracy = 0.50000\n",
      "46 accuracy = 0.50000\n",
      "47 accuracy = 0.50000\n",
      "48 accuracy = 0.50000\n",
      "49 accuracy = 0.50000\n",
      "50 accuracy = 0.50000\n",
      "51 accuracy = 0.50000\n",
      "52 accuracy = 0.50000\n",
      "53 accuracy = 0.50000\n",
      "54 accuracy = 0.50000\n",
      "55 accuracy = 0.50000\n",
      "56 accuracy = 0.50000\n",
      "57 accuracy = 0.50000\n",
      "58 accuracy = 0.50000\n",
      "59 accuracy = 0.50000\n",
      "60 accuracy = 0.50000\n",
      "61 accuracy = 0.50000\n",
      "62 accuracy = 0.50000\n",
      "63 accuracy = 0.50000\n",
      "64 accuracy = 0.50000\n",
      "65 accuracy = 0.50000\n",
      "66 accuracy = 0.50000\n",
      "67 accuracy = 0.50000\n",
      "68 accuracy = 0.50000\n",
      "69 accuracy = 0.50000\n",
      "70 accuracy = 0.50000\n",
      "71 accuracy = 0.50000\n",
      "72 accuracy = 0.50000\n",
      "73 accuracy = 0.50000\n",
      "74 accuracy = 0.50000\n",
      "75 accuracy = 0.50000\n",
      "76 accuracy = 0.50000\n",
      "77 accuracy = 0.50000\n",
      "78 accuracy = 0.50000\n",
      "79 accuracy = 0.50000\n",
      "80 accuracy = 0.50000\n",
      "81 accuracy = 0.50000\n",
      "82 accuracy = 0.50000\n",
      "83 accuracy = 0.50000\n",
      "84 accuracy = 0.50000\n",
      "85 accuracy = 0.50000\n",
      "86 accuracy = 0.50000\n",
      "87 accuracy = 0.50000\n",
      "88 accuracy = 0.50000\n",
      "89 accuracy = 0.50000\n",
      "90 accuracy = 0.50000\n",
      "91 accuracy = 0.50000\n",
      "92 accuracy = 0.50000\n",
      "93 accuracy = 0.50000\n",
      "94 accuracy = 0.50000\n",
      "95 accuracy = 0.50000\n",
      "96 accuracy = 0.50000\n",
      "97 accuracy = 0.50000\n",
      "98 accuracy = 0.50000\n",
      "99 accuracy = 0.50000\n"
     ]
    }
   ],
   "source": [
    "data = xor_data\n",
    "\n",
    "X = data[['x1', 'x2']].values  # values : np.array, 2차원 array\n",
    "y = data['y'].values\n",
    "\n",
    "w, b, accuracy = gradient_descent(X, y)"
   ]
  },
  {
   "cell_type": "code",
   "execution_count": 16,
   "metadata": {},
   "outputs": [
    {
     "data": {
      "text/plain": [
       "[<matplotlib.lines.Line2D at 0x123d895d0>]"
      ]
     },
     "execution_count": 16,
     "metadata": {},
     "output_type": "execute_result"
    },
    {
     "data": {
      "image/png": "[encoded data removed]",
      "text/plain": [
       "<Figure size 432x288 with 1 Axes>"
      ]
     },
     "metadata": {
      "needs_background": "light"
     },
     "output_type": "display_data"
    }
   ],
   "source": [
    "plt.scatter(data['x1'], data['x2'], c = data['y'])\n",
    "\n",
    "xx = np.linspace(-1, +1)\n",
    "yy = -(w[0] * xx + b) / w[1]\n",
    "\n",
    "plt.plot(xx, yy)"
   ]
  },
  {
   "cell_type": "markdown",
   "metadata": {},
   "source": [
    "기존 퍼셉트론 알고리즘으로 AND, OR 문제는 해결할 수 있으나, XOR 문제를 해결할 수 없었습니다. 그렇다면 XOR 문제를 해결하려면 어떻게 해야 할까요? <U>본격적으로 Multi Layer Perceptron을 다루기에 앞서, 다른 가능한 해결 방안들을 떠올려봅시다.</U>"
   ]
  },
  {
   "cell_type": "markdown",
   "metadata": {},
   "source": [
    "### XOR (Transformed)\n",
    "\n",
    "XOR 문제에서 문제가 되었던 것이 ***Linear separability(선형 분리가능성)***였는데요. 그렇다면 선형적으로 분리가능하도록 데이터를 변형해준다면 어떨까요? 퍼셉트론의 연산을 통해 얻은 어떠한 출력값을, 다른 퍼셉트론의 입력값으로 사용하는 것이죠. 이전 층에서 선형결합을 한 뒤, 비선형 활성화함수(이를테면 sigmoid)를 거친 값을 입력 받았다면, 그 값들의 XOR 연산에 대해서는 경계선을 그릴 수 있지 않을까요? 바로 아래 그림처럼요.\n",
    "\n",
    "<img src=\"https://dmm613.files.wordpress.com/2014/09/non_linearly_separable_problem_xor.png\" style=\"height:300px\">\n",
    "\n",
    "<p style='text-align: right;'>(출처: https://dmm613.wordpress.com/2014/09/22/artificial-neural-networks-part-1/)</p>"
   ]
  },
  {
   "cell_type": "code",
   "execution_count": 17,
   "metadata": {
    "scrolled": true
   },
   "outputs": [
    {
     "data": {
      "text/html": [
       "<div>\n",
       "<style scoped>\n",
       "    .dataframe tbody tr th:only-of-type {\n",
       "        vertical-align: middle;\n",
       "    }\n",
       "\n",
       "    .dataframe tbody tr th {\n",
       "        vertical-align: top;\n",
       "    }\n",
       "\n",
       "    .dataframe thead th {\n",
       "        text-align: right;\n",
       "    }\n",
       "</style>\n",
       "<table border=\"1\" class=\"dataframe\">\n",
       "  <thead>\n",
       "    <tr style=\"text-align: right;\">\n",
       "      <th></th>\n",
       "      <th>x1</th>\n",
       "      <th>x2</th>\n",
       "      <th>y</th>\n",
       "    </tr>\n",
       "  </thead>\n",
       "  <tbody>\n",
       "    <tr>\n",
       "      <th>0</th>\n",
       "      <td>0</td>\n",
       "      <td>0</td>\n",
       "      <td>0</td>\n",
       "    </tr>\n",
       "    <tr>\n",
       "      <th>1</th>\n",
       "      <td>1</td>\n",
       "      <td>0</td>\n",
       "      <td>1</td>\n",
       "    </tr>\n",
       "    <tr>\n",
       "      <th>2</th>\n",
       "      <td>0</td>\n",
       "      <td>1</td>\n",
       "      <td>1</td>\n",
       "    </tr>\n",
       "    <tr>\n",
       "      <th>3</th>\n",
       "      <td>0</td>\n",
       "      <td>0</td>\n",
       "      <td>0</td>\n",
       "    </tr>\n",
       "  </tbody>\n",
       "</table>\n",
       "</div>"
      ],
      "text/plain": [
       "   x1  x2  y\n",
       "0   0   0  0\n",
       "1   1   0  1\n",
       "2   0   1  1\n",
       "3   0   0  0"
      ]
     },
     "execution_count": 17,
     "metadata": {},
     "output_type": "execute_result"
    }
   ],
   "source": [
    "x1 = xor_data['x1']\n",
    "x2 = xor_data['x2']\n",
    "y = xor_data['y']\n",
    "\n",
    "x1_flipped = (x1 == 0).astype('int')\n",
    "x2_flipped = (x2 == 0).astype('int')\n",
    "\n",
    "x1_transformed = x1_flipped & x2\n",
    "x2_transformed = x1 & x2_flipped\n",
    "\n",
    "xor_transformed = {'x1' : x1_transformed, 'x2' : x2_transformed, 'y' : y}\n",
    "xor_transformed = pd.DataFrame(xor_transformed)\n",
    "\n",
    "xor_transformed"
   ]
  },
  {
   "cell_type": "code",
   "execution_count": 18,
   "metadata": {},
   "outputs": [
    {
     "name": "stdout",
     "output_type": "stream",
     "text": [
      "0 accuracy = 0.50000\n",
      "1 accuracy = 0.50000\n",
      "2 accuracy = 0.75000\n",
      "3 accuracy = 0.75000\n",
      "4 accuracy = 0.75000\n",
      "5 accuracy = 0.75000\n",
      "6 accuracy = 0.75000\n",
      "7 accuracy = 1.00000\n"
     ]
    }
   ],
   "source": [
    "data = xor_transformed\n",
    "\n",
    "X = data[['x1', 'x2']].values  # values : np.array, 2차원 array\n",
    "y = data['y'].values\n",
    "\n",
    "w, b, accuracy = gradient_descent(X, y)"
   ]
  },
  {
   "cell_type": "code",
   "execution_count": 19,
   "metadata": {},
   "outputs": [
    {
     "data": {
      "text/plain": [
       "[<matplotlib.lines.Line2D at 0x123e75b90>]"
      ]
     },
     "execution_count": 19,
     "metadata": {},
     "output_type": "execute_result"
    },
    {
     "data": {
      "image/png": "[encoded data removed]",
      "text/plain": [
       "<Figure size 432x288 with 1 Axes>"
      ]
     },
     "metadata": {
      "needs_background": "light"
     },
     "output_type": "display_data"
    }
   ],
   "source": [
    "plt.scatter(data['x1'], data['x2'], c = data['y'])\n",
    "\n",
    "xx = np.linspace(-1, +1)\n",
    "yy = -(w[0] * xx + b) / w[1]\n",
    "\n",
    "plt.plot(xx, yy)"
   ]
  },
  {
   "cell_type": "markdown",
   "metadata": {},
   "source": [
    "첫 번째 해결방안은 data transformation입니다. 기존의 퍼셉트론을 이용해 선형 경계선을 그릴 수 있는 형태로 데이터를 변환시키는 것이죠. 그러나 데이터를 transform하는 규칙을 직접 찾아야 하기 때문에, 사실상 머신러닝 알고리즘을 쓰는 의미가 없습니다.\n",
    "\n",
    "***<center>(1) Transform의 단점: 데이터를 transform하는 규칙을 직접 찾아야 한다!</center>***"
   ]
  },
  {
   "cell_type": "markdown",
   "metadata": {},
   "source": [
    "### XOR data (Polynomial)"
   ]
  },
  {
   "cell_type": "code",
   "execution_count": 20,
   "metadata": {},
   "outputs": [
    {
     "data": {
      "text/html": [
       "<div>\n",
       "<style scoped>\n",
       "    .dataframe tbody tr th:only-of-type {\n",
       "        vertical-align: middle;\n",
       "    }\n",
       "\n",
       "    .dataframe tbody tr th {\n",
       "        vertical-align: top;\n",
       "    }\n",
       "\n",
       "    .dataframe thead th {\n",
       "        text-align: right;\n",
       "    }\n",
       "</style>\n",
       "<table border=\"1\" class=\"dataframe\">\n",
       "  <thead>\n",
       "    <tr style=\"text-align: right;\">\n",
       "      <th></th>\n",
       "      <th>x1</th>\n",
       "      <th>x2</th>\n",
       "      <th>x3</th>\n",
       "      <th>x4</th>\n",
       "      <th>x5</th>\n",
       "      <th>y</th>\n",
       "    </tr>\n",
       "  </thead>\n",
       "  <tbody>\n",
       "    <tr>\n",
       "      <th>0</th>\n",
       "      <td>0</td>\n",
       "      <td>0</td>\n",
       "      <td>0</td>\n",
       "      <td>0</td>\n",
       "      <td>0</td>\n",
       "      <td>0</td>\n",
       "    </tr>\n",
       "    <tr>\n",
       "      <th>1</th>\n",
       "      <td>0</td>\n",
       "      <td>1</td>\n",
       "      <td>0</td>\n",
       "      <td>0</td>\n",
       "      <td>1</td>\n",
       "      <td>1</td>\n",
       "    </tr>\n",
       "    <tr>\n",
       "      <th>2</th>\n",
       "      <td>1</td>\n",
       "      <td>0</td>\n",
       "      <td>1</td>\n",
       "      <td>0</td>\n",
       "      <td>0</td>\n",
       "      <td>1</td>\n",
       "    </tr>\n",
       "    <tr>\n",
       "      <th>3</th>\n",
       "      <td>1</td>\n",
       "      <td>1</td>\n",
       "      <td>1</td>\n",
       "      <td>1</td>\n",
       "      <td>1</td>\n",
       "      <td>0</td>\n",
       "    </tr>\n",
       "  </tbody>\n",
       "</table>\n",
       "</div>"
      ],
      "text/plain": [
       "   x1  x2  x3  x4  x5  y\n",
       "0   0   0   0   0   0  0\n",
       "1   0   1   0   0   1  1\n",
       "2   1   0   1   0   0  1\n",
       "3   1   1   1   1   1  0"
      ]
     },
     "execution_count": 20,
     "metadata": {},
     "output_type": "execute_result"
    }
   ],
   "source": [
    "x1 = xor_data['x1']\n",
    "x2 = xor_data['x2']\n",
    "x3 = x1 * x1\n",
    "x4 = x1 * x2\n",
    "x5 = x2 * x2\n",
    "\n",
    "y = xor_data['y']\n",
    "\n",
    "polynomial_xor_data = {\n",
    "    'x1' : x1,\n",
    "    'x2' : x2,\n",
    "    'x3' : x3,\n",
    "    'x4' : x4,\n",
    "    'x5' : x5,\n",
    "    'y' : y,\n",
    "}\n",
    "\n",
    "polynomial_xor_data = pd.DataFrame(polynomial_xor_data)\n",
    "polynomial_xor_data"
   ]
  },
  {
   "cell_type": "code",
   "execution_count": 21,
   "metadata": {},
   "outputs": [
    {
     "name": "stdout",
     "output_type": "stream",
     "text": [
      "0 accuracy = 0.75000\n",
      "1 accuracy = 0.75000\n",
      "2 accuracy = 0.75000\n",
      "3 accuracy = 0.75000\n",
      "4 accuracy = 0.75000\n",
      "5 accuracy = 0.75000\n",
      "6 accuracy = 0.75000\n",
      "7 accuracy = 0.75000\n",
      "8 accuracy = 0.75000\n",
      "9 accuracy = 0.75000\n",
      "10 accuracy = 0.75000\n",
      "11 accuracy = 0.75000\n",
      "12 accuracy = 0.75000\n",
      "13 accuracy = 0.75000\n",
      "14 accuracy = 0.75000\n",
      "15 accuracy = 0.75000\n",
      "16 accuracy = 0.75000\n",
      "17 accuracy = 0.75000\n",
      "18 accuracy = 0.75000\n",
      "19 accuracy = 0.75000\n",
      "20 accuracy = 0.75000\n",
      "21 accuracy = 0.75000\n",
      "22 accuracy = 0.75000\n",
      "23 accuracy = 1.00000\n"
     ]
    }
   ],
   "source": [
    "data = polynomial_xor_data\n",
    "\n",
    "X = data[['x1', 'x2', 'x3', 'x4', 'x5']].values  # values : np.array, 2차원 array\n",
    "y = data['y'].values\n",
    "\n",
    "w, b, accuracy = gradient_descent(X, y)\n",
    "\n",
    "# polynomial은 시각화를 할 수 없다. 3차원을 넘어가기 때문. \n",
    "# 이 경우는 5차원..... ㅠ"
   ]
  },
  {
   "cell_type": "markdown",
   "metadata": {},
   "source": [
    "두 번째 해결방안은 polynomial입니다. 비선형 관계성을 반영하기 위해 기존 데이터의 이차항을 추가해주는 것입니다. 그런데 X의 feature 수가 굉장히 많다고 생각해보세요. Polynomial 방법을 쓴다면 feature의 수가 제곱으로 늘어나게 됩니다.\n",
    "\n",
    "***<center>(2) Polynomial의 단점: Feature의 수가 제곱으로(기하급수적으로) 늘어난다!</center>***"
   ]
  },
  {
   "cell_type": "markdown",
   "metadata": {},
   "source": [
    "## 다층 퍼셉트론 (Multi Layer Perceptron)"
   ]
  },
  {
   "cell_type": "markdown",
   "metadata": {},
   "source": [
    "### Multi Layer Perceptron 소개\n",
    "\n",
    "이제 구조적으로 퍼셉트론 알고리즘을 개선하고자 합니다. XOR 문제를 해결하기 위해 고안된 방법이 바로 **Multi Layer Perceptron (MLP 또는 다층 퍼셉트론)**인데요. 기존 퍼셉트론에서는 input과, 그것들의 가중합으로 얻은 output만이 존재했습니다. 여기에는 (뉴런과 더불어) 어떤 노드가 활성화된다는 신호(signal) 개념이 지배적이었습니다. 그런데 MLP에서는 층(layer)을 하나 더 쌓는다는 개념이 새롭게 등장합니다. 바로 **Hidden layer(은닉층)**입니다. 이제 우리의 신경망은 <U>Input layer(입력층), Hidden layer(은닉층), Output layer(출력층)</U>의 3단 구조로 이루어져 있습니다.\n",
    "\n",
    "<img src=\"https://drive.google.com/uc?export=view&id=1p6hGtKut1UhaRKu_nIOFhBUwYHM7mvXj\" style=\"height:300px\">\n",
    "\n",
    "앞서 XOR 문제를 해결하기 위해 Transform, Polynomial의 두 가지 방법을 살펴보았습니다. 각각 (1) 직접 transformation rule을 찾아야 한다 (2) feature의 수가 제곱으로 늘어난다는 단점 또한 알아보았습니다. MLP에서는 hidden layer를 투입함으로써 이를 해결합니다. 신경망의 앞쪽(input layer -> hidden layer)이 X에서 새로운 feature를 뽑아내는 역할을 하고, 뒤쪽이 우리가 알고 있는 퍼셉트론입니다. 은닉층이 일종의 다리 역할을 하여 비선형 조합을 가능하게 하는 것이죠. 그리하여 ***(1) X의 feature을 찾아내는 rule을 스스로 찾고, (2) feature(즉 노드)의 수를 우리가 조절할 수 있게 됨***으로써 두 개의 단점은 MLP의 장점이 되었습니다. 결론적으로 MLP은 두 가지 해결방안의 단점을 구조적으로 개선한 모형입니다.\n",
    "\n",
    "그리고 hidden layer가 2개 이상인 경우 **DNN(Deep Neural Network) 또는 심층신경망**이라고 부릅니다. 이를 아주 ***깊게(Deep)***, 또 노드의 수를 증가시켜 ***넓게*** 쌓을 수도 있습니다. 우리가 배우는 **Deep Learning** 또한, DNN 구조의 인공신경망(Artificial Neural Network)에 관한 알고리즘을 일컫는 말이기도 합니다. 이러한 관점에서 hidden layer는 딥러닝을 정의하는 핵심적인 개념입니다. 다음으로 다룰 내용은 MLP가 예측하고(forward), 학습하는(back) 방식입니다."
   ]
  },
  {
   "cell_type": "markdown",
   "metadata": {},
   "source": [
    "### 순전파 (Forward propagation)\n",
    "\n",
    "그렇다면 MLP를 구현해 XOR 문제를 풀어보겠습니다. 여기에는 **Forward propagation(순전파)** 알고리즘이 사용됩니다. Input을 가지고 output까지 연산하는 과정을 Forward 또는 [Feed-forward](https://en.wikipedia.org/wiki/Feedforward_neural_network) propagation*(i.e. Inputs are fed directly to the outputs)*이라고 합니다. 입력값에서 출력값에 이르기까지 정보의 전달이 순방향으로 이루어지는 것이죠. 아래 그림에서 <font color='green'>**초록색 화살표**</font>가 그 방향을 의미하며, 이 과정을 거쳐 우리는 x를 가지고 y의 예측값을 구할 수 있습니다. 여기서 원은 노드(Node)를 의미합니다. ***모든*** 노드들이 ***한쪽 방향*** 으로만 연결되어 있음을 확인할 수 있습니다. \n",
    "\n",
    "<img src=\"https://drive.google.com/uc?export=view&id=1xMZ03HQfjsuhwtVaiLpkdivfjlBk4Uay\" style=\"height:300px\">\n",
    "\n",
    "참고로 노드들은 한 방향이 아니라 순환적인 구조를 가질 수도 있고, 모든 노드들이 서로 연결되어 있지 않을 수도 있습니다. 전자는 **RNN(Recurrent Neural Network) 또는 순환신경망**에, 후자는 **CNN(Convolutional Neural Network) 또는 합성곱 신경망**에 해당하며, 각각 <Level 9>와 <Level 10>에서 다룹니다."
   ]
  },
  {
   "cell_type": "markdown",
   "metadata": {},
   "source": [
    "그렇다면 XOR 문제 상황으로 돌아가봅시다. 앞서 사용한 데이터를 다시 불러옵니다."
   ]
  },
  {
   "cell_type": "code",
   "execution_count": 22,
   "metadata": {
    "scrolled": true
   },
   "outputs": [
    {
     "data": {
      "text/html": [
       "<div>\n",
       "<style scoped>\n",
       "    .dataframe tbody tr th:only-of-type {\n",
       "        vertical-align: middle;\n",
       "    }\n",
       "\n",
       "    .dataframe tbody tr th {\n",
       "        vertical-align: top;\n",
       "    }\n",
       "\n",
       "    .dataframe thead th {\n",
       "        text-align: right;\n",
       "    }\n",
       "</style>\n",
       "<table border=\"1\" class=\"dataframe\">\n",
       "  <thead>\n",
       "    <tr style=\"text-align: right;\">\n",
       "      <th></th>\n",
       "      <th>x1</th>\n",
       "      <th>x2</th>\n",
       "      <th>y</th>\n",
       "    </tr>\n",
       "  </thead>\n",
       "  <tbody>\n",
       "    <tr>\n",
       "      <th>0</th>\n",
       "      <td>0</td>\n",
       "      <td>0</td>\n",
       "      <td>0</td>\n",
       "    </tr>\n",
       "    <tr>\n",
       "      <th>1</th>\n",
       "      <td>0</td>\n",
       "      <td>1</td>\n",
       "      <td>1</td>\n",
       "    </tr>\n",
       "    <tr>\n",
       "      <th>2</th>\n",
       "      <td>1</td>\n",
       "      <td>0</td>\n",
       "      <td>1</td>\n",
       "    </tr>\n",
       "    <tr>\n",
       "      <th>3</th>\n",
       "      <td>1</td>\n",
       "      <td>1</td>\n",
       "      <td>0</td>\n",
       "    </tr>\n",
       "  </tbody>\n",
       "</table>\n",
       "</div>"
      ],
      "text/plain": [
       "   x1  x2  y\n",
       "0   0   0  0\n",
       "1   0   1  1\n",
       "2   1   0  1\n",
       "3   1   1  0"
      ]
     },
     "execution_count": 22,
     "metadata": {},
     "output_type": "execute_result"
    }
   ],
   "source": [
    "data = xor_data\n",
    "data"
   ]
  },
  {
   "cell_type": "code",
   "execution_count": 23,
   "metadata": {},
   "outputs": [
    {
     "data": {
      "text/plain": [
       "((4, 2), (4,))"
      ]
     },
     "execution_count": 23,
     "metadata": {},
     "output_type": "execute_result"
    }
   ],
   "source": [
    "x = data[['x1', 'x2']].values\n",
    "y = data['y'].values\n",
    "\n",
    "x.shape, y.shape"
   ]
  },
  {
   "cell_type": "code",
   "execution_count": 24,
   "metadata": {},
   "outputs": [
    {
     "data": {
      "text/plain": [
       "((4, 2), (4, 1))"
      ]
     },
     "execution_count": 24,
     "metadata": {},
     "output_type": "execute_result"
    }
   ],
   "source": [
    "y = y.reshape(4, 1)\n",
    "\n",
    "x.shape, y.shape"
   ]
  },
  {
   "cell_type": "code",
   "execution_count": null,
   "metadata": {},
   "outputs": [],
   "source": []
  },
  {
   "cell_type": "markdown",
   "metadata": {},
   "source": [
    "XOR 문제를 해결하기 위해 아래과 같은 다층 퍼셉트론을 만들었습니다.  1개의 input layer, 1개의 hidden layer, 1개의 output layer로 이루어진 구조이며, 이때 hidden layer의 노드의 수는 3개로 지정하였습니다. 앞선 그림들에 추가로 1이 그려진 원, 즉 Bias Node들을 도식화하였습니다. 이제 X와 w, b들을 가지고 순전파를 통해 예측값을 낼 것입니다. 이때 (1) input layer에서 hidden layer (2) hidden layer에서 output layer로 연결되는 두 쌍의 w와 b에 대해 학습이 필요합니다. <U>그렇다면 w와 b의 size은 어떻게 될지 생각해봅시다.</U>\n",
    "\n",
    "<img src=\"https://drive.google.com/uc?export=view&id=1crcQEygdgQpSzU14Qfl3Pq8CzVydo5Xh\" style=\"height:350px\">\n",
    "\n",
    "1. **input layer -> hidden layer:** w1 = (2, 3), b1 = (1, 3)\n",
    "\n",
    "    - input layer에는 x1, x2의 2개 변수들이 있으므로 2개의 노드가 있습니다.\n",
    "    - 지정한 대로 hidden layer에는 3개의 노드가 있습니다.\n",
    "\n",
    "\n",
    "2. **hidden layer -> output layer:** w2 = (3, 1), b2 = (1, 1)\n",
    "    - output layer에는 1개의 노드가 있습니다. 연산을 통해 $(-\\infty, \\infty)$ 사이의 하나의 값을 낼 것입니다.\n",
    "    - 이 값을 가지고 시그모이드 연산을 통해 y에 대한 예측값 h(x)를 낼 것입니다."
   ]
  },
  {
   "cell_type": "markdown",
   "metadata": {},
   "source": [
    "### 역전파(Backpropagation)\n",
    "\n",
    "Forward propagation은 input에서 output까지의 방향으로 연산하여 예측값을 얻는 방법입니다. 그렇다면 신경망의 weight(및 bias)를 학습시키려면 어떻게 해야 할까요? 정반대 방향으로 output에서 input까지 연산을 해나가면 됩니다. 이 방법을 **Backpropagation(역전파)**이라고 합니다. 또한 Multi Layer Perceptron에서는 한 층의 weight가 아닌 여러 층의 weight에 대한 변화량을 구해야 합니다. <U>각각의 층에서 Cost function ***J***에 대해 편미분 연산</U>을 해야 하는 것이죠. <font color='red'>**빨간색 화살표**</font>를 따라가면서 Cost의 미분값이 전달된다고 생각하면, MLP에서 어떻게 학습이 이루어지는지 이해하실 수 있습니다.\n",
    "<img src=\"https://drive.google.com/uc?export=view&id=1mOXnTFIAGKJq8PRgWCdR7tQY_ykW-8he\" style=\"height:300px\">\n",
    "\n",
    "이때 중요한 역할을 하는 것이 바로 **Chain rule(연쇄 법칙)**입니다. 쉽게 말해, 미분값을 차례로 계산할 때 각 층에서의 미분값들로 분해할 수 있다는 것입니다. 예를 들어, 우리는 Forward propagation에서 x에 대해 합성곱 연산을 한 결과를 z에, 그리고 Activation function 같은 과정을 거쳐 마지막 예측 결과를 h(x)에 저장합니다. 그렇다면 Cost function ***J***를 x에 대해 미분한 값은 *(1) J를 z에 대해 미분한 값*과 *(2) z를 x에 대해 미분한 값*을 곱한 것입니다.\n",
    "\n",
    "<U>다시 말해 Cost function의 편미분을 여러 조각을 내서 하나하나 구한 뒤, 이를 곱하는 것이 Backpropation의 핵심입니다.</U> 이처럼 Chain rule을 활용하면 아무리 복잡한 편미분 연산이라도 여러 개로 쪼개어 곱을 구할 수 있습니다. 사실 MLP를 고안했던 Minsky(1969)는 *결코 학습시킬 수 없다(No one earth had found a viable way to train)*고 말했었는데요. Hinton(1986)이 제안한 Backpropagation, 그리고 Chain Rule을 이용해 끝내 학습에 성공했습니다.\n",
    "\n",
    "앞선 XOR 예제에서 Chain rule을 이용해 학습을 진행해봅시다. 이를 위해 우리가 거친 단계를 생각해보면, (1) 스칼라곱 연산을 통해 X에서 Z를,  (2) `sigmoid`를 이용해 Z에서 A를 얻었습니다. 먼저 `sigmoid` 함수에 대해 미분하면, A/dZ를 구할 수 있을 것입니다.\n",
    "\n",
    "$$\n",
    "sigmoid(x) = \\frac {1}{1+e^{-x}}\n",
    "$$"
   ]
  },
  {
   "cell_type": "code",
   "execution_count": 25,
   "metadata": {},
   "outputs": [],
   "source": [
    "# derivative of sigmoid function\n",
    "def dsigmoid(A):\n",
    "    # sigmoid 함수를 미분하면 출력값 * (1-출력값)과 같습니다.\n",
    "    dA = A * (1 - A)\n",
    "    return dA"
   ]
  },
  {
   "cell_type": "markdown",
   "metadata": {},
   "source": [
    "다음으로 우리가 업데이트 해야 할 모수는 W, b의 두 가지입니다. 따라서 W, b 각각에 대해서 미분을 해준 후, 이전 미분값과 곱해주어야겠죠. 다시 적으면 Z/dW, Z/db를 구한 뒤 A/dZ를 곱하면, 해당 레이어에서의 기울기를 얻을 수 있습니다. 이 기울기를 가지고 모수를 업데이트해주면 됩니다. 이때 Loss function으로 이용할 함수는 앞서 다룬 바 있는 **Cross Entropy**이며, 아래와 같이 ***L***로 도식화합니다.\n",
    "\n",
    "$$\n",
    "L(y, h({x})) = -y \\cdot \\log(h({x})) - (1-y) \\cdot \\log(1-h({x}))\n",
    "$$\n",
    "\n",
    "$$\n",
    "J(W, b) = \\frac{1}{m}\\sum_{i=1}^{m} {L(y_i, h({x_i}))}\n",
    "$$"
   ]
  },
  {
   "cell_type": "code",
   "execution_count": 26,
   "metadata": {},
   "outputs": [],
   "source": [
    "def cross_entropy(actual, predict, eps=1e-15):\n",
    "    \n",
    "    # 실제 값과 예측 값을 Numpy 배열로 바꿔줍니다.\n",
    "    actual = np.array(actual)\n",
    "    predict = np.array(predict)\n",
    "    \n",
    "    # 0이 log에 들어가게 되면 무한대로 발산해버릴 수 있으니 아주 작은 값을 넣어 이를 방지합니다.\n",
    "    clipped_predict = np.minimum(np.maximum(predict, eps), 1 - eps)\n",
    "    \n",
    "    # 실질적인 Loss를 계산합니다\n",
    "    loss = actual * np.log(clipped_predict) + (1 - actual) * np.log(1 - clipped_predict)\n",
    "    \n",
    "    return -1.0 * loss.mean()"
   ]
  },
  {
   "cell_type": "markdown",
   "metadata": {},
   "source": [
    "이제 우리의 신경망을 학습시켜봅시다. 먼저 적절한 size에 따라 초기화된 w와 b를 생성해줍니다. 이때 `np.random.uniform(-1.0, high=1.0, size)`라는 코드에서 알 수 있듯 -1과 1 사이의 uniform 분포로부터 난수를 생성하였습니다. X와 w,b 사이의 합성곱 및 시그모이드 연산을 통해 순전파를, cost function의 편미분값을 이용해 역전파를 해줍니다. learning rate는 1.0으로 1000번 반복하되, 정확도가 1.0에 다다르면 학습을 멈추겠습니다."
   ]
  },
  {
   "cell_type": "code",
   "execution_count": 27,
   "metadata": {},
   "outputs": [
    {
     "data": {
      "text/plain": [
       "((2, 4), (1, 4))"
      ]
     },
     "execution_count": 27,
     "metadata": {},
     "output_type": "execute_result"
    }
   ],
   "source": [
    "x = x.T\n",
    "y = y.T\n",
    "\n",
    "x.shape, y.shape"
   ]
  },
  {
   "cell_type": "code",
   "execution_count": null,
   "metadata": {},
   "outputs": [],
   "source": []
  },
  {
   "cell_type": "markdown",
   "metadata": {},
   "source": [
    "학습을 위해 w1, w2, b1, b2를 어떻게 구할 수 있을까요? 각각은 다음과 같이 유도될 수 있는데요. 우리는 d1(빨간 네모)와 d2(파란 네모)를 각각 구한 다음, 그것들을 이용해 w와 b를 계산하겠습니다.여기서 d2는 d1에 어떤 값이 곱해진, 즉 Chain Rule에 의해 미분값이 전달된 것을 확인할 수 있습니다.\n",
    "\n",
    "<img src=\"https://drive.google.com/uc?export=view&id=1qDiQoEvqMhTVK1kqjRbj0GFSd36elAYf\" style=\"height:300px\">"
   ]
  },
  {
   "cell_type": "code",
   "execution_count": 28,
   "metadata": {
    "scrolled": false
   },
   "outputs": [
    {
     "name": "stdout",
     "output_type": "stream",
     "text": [
      "  0, 0.50, 0.746684\n",
      "100, 0.75, 0.68935\n",
      "200, 0.75, 0.638763\n",
      "------------------------------\n",
      "295, 1.00, 0.40494\n"
     ]
    }
   ],
   "source": [
    "num_epoch = 1000\n",
    "learning_rate = 1.0\n",
    "\n",
    "num_data = x.shape[1]  # x.shape[1] : 4이기 때문에 4 말고 x.shape[1]로 준다.\n",
    "\n",
    "w1 = np.random.uniform(low = -1.0, high = 1.0, size = (3, 2))  # (x : 2, a1 : 3)\n",
    "b1 = np.random.uniform(low = -1.0, high = 1.0, size = (3, 1))  # (1, 3)\n",
    "w2 = np.random.uniform(low = -1.0, high = 1.0, size = (1, 3))\n",
    "b2 = np.random.uniform(low = -1.0, high = 1.0, size = (1, 1))  # (1, 3)\n",
    "\n",
    "for epoch in range(num_epoch):\n",
    "    # Forward-Propagation\n",
    "    z1 = np.dot(w1, x) + b1\n",
    "    a1 = sigmoid(z1)\n",
    "    z2 = np.dot(w2, a1) + b2\n",
    "    a2 = sigmoid(z2)\n",
    "\n",
    "    y_predict = a2  # 예측값.\n",
    "    \n",
    "    predict = (y_predict >= 0.5).astype('int')\n",
    "    accuracy = (predict == y).mean()\n",
    "    \n",
    "    loss = cross_entropy(y, y_predict)\n",
    "    \n",
    "    if epoch % 100 == 0:\n",
    "        print(f'{epoch:3}, {accuracy:.2f}, {loss:.6}')\n",
    "        \n",
    "    if accuracy == 1:\n",
    "        break\n",
    "    \n",
    "    # Back-Proagation\n",
    "    d2 = a2 - y\n",
    "    d1 = np.dot(w2.T, d2) * dsigmoid(a1)\n",
    "\n",
    "    w2 = w2 - learning_rate * np.dot(d2, a1.T) / num_data\n",
    "    w1 = w1 - learning_rate * np.dot(d1, x.T) / num_data\n",
    "\n",
    "    b2 = b2 - learning_rate * d2.mean(axis = 1, keepdims = True)\n",
    "    b1 = b1 - learning_rate * d1.mean(axis = 1, keepdims = True)\n",
    "\n",
    "print('---' * 10)\n",
    "print(f'{epoch:3}, {accuracy:.2f}, {loss:.6}')"
   ]
  },
  {
   "cell_type": "code",
   "execution_count": 32,
   "metadata": {},
   "outputs": [
    {
     "data": {
      "text/plain": [
       "((3, 4), (1, 4), (1, 4), (1, 4))"
      ]
     },
     "execution_count": 32,
     "metadata": {},
     "output_type": "execute_result"
    }
   ],
   "source": [
    "a1.shape, d2.shape, a2.shape, y.shape"
   ]
  },
  {
   "cell_type": "code",
   "execution_count": null,
   "metadata": {},
   "outputs": [],
   "source": []
  },
  {
   "cell_type": "markdown",
   "metadata": {},
   "source": [
    "Multi Layer Perceptron을 이용하면 원래의 데이터를 따로 변형해주지 않고도 XOR 문제를 해결할 수 있습니다!"
   ]
  },
  {
   "cell_type": "markdown",
   "metadata": {},
   "source": [
    "## Wrap-up\n",
    "\n",
    "이번 <Level 6>에서는 Multi Layer Perceptron(다층 퍼셉트론)을 알아보았습니다. 기존에 배웠던 퍼셉트론(Perceptron)은 강력한 알고리즘이지만, XOR 문제를 해결하지 못하는 문제점이 있었습니다. XOR 문제를 해결하기 위해서는 선형적으로 분리가능하도록 데이터를 변형해주어야 했습니다. 첫 번째 방안은 ***(1) Transformation***으로, 직접 transform하는 규칙을 찾아야 한다는 한계가 있었습니다. 두 번째는 ***(2) Polynomial***으로, polynomial feature들을 추가해주기 때문에 그만큼 feature의 수가 늘어난다는 단점이 있었습니다. 따라서 이를 구조적으로 개선한 **Multi Layer Perceptron**이 필요한 것인데요. MLP는 한 층 이상의 Hidden layer(은닉층)을 쌓음으로써 두 가지 단점을 극복하였습니다. Forward propagation(순전파)로 정답을 예측하고, Backpropagation(역전파)으로 신경망의 weight 및 bias를 학습시킬 수 있었습니다. 이 과정은 Chain rule, 그리고 Cost의 미분값들이 각 노드에 연쇄적으로 전달되는 것과 같습니다.\n",
    "\n",
    "<Level 6> 수업은 여기까지입니다. 과제로는 우편번호 손글씨 이미지(MNIST)를 인식하는 문제를 Multi Layer Perceptron으로 풀어보겠습니다.\n",
    "\n",
    "***<center>수고하셨습니다.</center>***"
   ]
  }
 ],
 "metadata": {
  "kernelspec": {
   "display_name": "Python 3",
   "language": "python",
   "name": "python3"
  },
  "language_info": {
   "codemirror_mode": {
    "name": "ipython",
    "version": 3
   },
   "file_extension": ".py",
   "mimetype": "text/x-python",
   "name": "python",
   "nbconvert_exporter": "python",
   "pygments_lexer": "ipython3",
   "version": "3.7.6"
  },
  "latex_envs": {
   "LaTeX_envs_menu_present": true,
   "autoclose": false,
   "autocomplete": true,
   "bibliofile": "biblio.bib",
   "cite_by": "apalike",
   "current_citInitial": 1,
   "eqLabelWithNumbers": true,
   "eqNumInitial": 1,
   "hotkeys": {
    "equation": "Ctrl-E",
    "itemize": "Ctrl-I"
   },
   "labels_anchors": false,
   "latex_user_defs": false,
   "report_style_numbering": false,
   "user_envs_cfg": false
  },
  "toc": {
   "base_numbering": 1,
   "nav_menu": {},
   "number_sections": true,
   "sideBar": true,
   "skip_h1_title": true,
   "title_cell": "Table of Contents",
   "title_sidebar": "Contents",
   "toc_cell": false,
   "toc_position": {},
   "toc_section_display": true,
   "toc_window_display": false
  },
  "varInspector": {
   "cols": {
    "lenName": 16,
    "lenType": 16,
    "lenVar": 40
   },
   "kernels_config": {
    "python": {
     "delete_cmd_postfix": "",
     "delete_cmd_prefix": "del ",
     "library": "var_list.py",
     "varRefreshCmd": "print(var_dic_list())"
    },
    "r": {
     "delete_cmd_postfix": ") ",
     "delete_cmd_prefix": "rm(",
     "library": "var_list.r",
     "varRefreshCmd": "cat(var_dic_list()) "
    }
   },
   "types_to_exclude": [
    "module",
    "function",
    "builtin_function_or_method",
    "instance",
    "_Feature"
   ],
   "window_display": false
  }
 },
 "nbformat": 4,
 "nbformat_minor": 2
}
