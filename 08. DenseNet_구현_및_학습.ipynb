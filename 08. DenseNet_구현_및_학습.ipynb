{
  "nbformat": 4,
  "nbformat_minor": 0,
  "metadata": {
    "kernelspec": {
      "display_name": "Python 3",
      "language": "python",
      "name": "python3"
    },
    "language_info": {
      "codemirror_mode": {
        "name": "ipython",
        "version": 3
      },
      "file_extension": ".py",
      "mimetype": "text/x-python",
      "name": "python",
      "nbconvert_exporter": "python",
      "pygments_lexer": "ipython3",
      "version": "3.7.3"
    },
    "colab": {
      "name": "08. DenseNet 구현 및 학습.ipynb",
      "provenance": [],
      "collapsed_sections": []
    },
    "accelerator": "GPU"
  },
  "cells": [
    {
      "cell_type": "markdown",
      "metadata": {
        "id": "v7onD08Mq_wj",
        "colab_type": "text"
      },
      "source": [
        "## DenseNetwork 구현 및 학습"
      ]
    },
    {
      "cell_type": "code",
      "metadata": {
        "id": "NrH9o8ZPq_wk",
        "colab_type": "code",
        "colab": {}
      },
      "source": [
        "import tensorflow as tf\n",
        "import numpy as np"
      ],
      "execution_count": 1,
      "outputs": []
    },
    {
      "cell_type": "markdown",
      "metadata": {
        "id": "umhGQNDLq_wp",
        "colab_type": "text"
      },
      "source": [
        "## 하이퍼 파라미터"
      ]
    },
    {
      "cell_type": "code",
      "metadata": {
        "id": "o8o1dRkLq_wq",
        "colab_type": "code",
        "colab": {}
      },
      "source": [
        "EPOCHS = 10"
      ],
      "execution_count": 2,
      "outputs": []
    },
    {
      "cell_type": "markdown",
      "metadata": {
        "id": "MzaQcrXbq_wt",
        "colab_type": "text"
      },
      "source": [
        "## DenseUnit 구현"
      ]
    },
    {
      "cell_type": "code",
      "metadata": {
        "id": "O1oro9irq_wu",
        "colab_type": "code",
        "colab": {}
      },
      "source": [
        "class DenseUnit(tf.keras.Model):\n",
        "    def __init__(self, filter_out, kernel_size):\n",
        "        super(DenseUnit, self).__init__()\n",
        "        self.bn = tf.keras.layers.BatchNormalization()\n",
        "        self.conv = tf.keras.layers.Conv2D(filter_out, kernel_size, padding='same')\n",
        "        self.concat = tf.keras.layers.Concatenate()\n",
        "\n",
        "    def call(self, x, training=False, mask=None):  # 입력 x : (Batch, H, W, Ch_in)\n",
        "        h = self.bn(x, training=training)\n",
        "        h = tf.nn.relu(h)\n",
        "        h = self.conv(h)  # h : (Batch, H, W, filter_output)\n",
        "        return self.concat([x, h])  # h : (Batch, H, W, (Ch_in + filter_output))"
      ],
      "execution_count": 3,
      "outputs": []
    },
    {
      "cell_type": "markdown",
      "metadata": {
        "id": "NF0n6Fbxq_ww",
        "colab_type": "text"
      },
      "source": [
        "## DenseLayer 구현"
      ]
    },
    {
      "cell_type": "code",
      "metadata": {
        "id": "FpQJ_TvVq_wx",
        "colab_type": "code",
        "colab": {}
      },
      "source": [
        "class DenseLayer(tf.keras.Model):\n",
        "    def __init__(self, num_unit, growth_rate, kernel_size):\n",
        "        super(DenseLayer, self).__init__()\n",
        "        self.sequence = list()\n",
        "        for idx in range(num_unit):\n",
        "          self.sequence.append(DenseUnit(growth_rate, kernel_size))\n",
        "\n",
        "    def call(self, x, training=False, mask=None):\n",
        "        for unit in self.sequence:\n",
        "          x = unit(x, training=training)\n",
        "        return x"
      ],
      "execution_count": 4,
      "outputs": []
    },
    {
      "cell_type": "markdown",
      "metadata": {
        "id": "FkPNndiyq_wz",
        "colab_type": "text"
      },
      "source": [
        "## Transition Layer 구현"
      ]
    },
    {
      "cell_type": "code",
      "metadata": {
        "id": "Zks49Cq_q_w0",
        "colab_type": "code",
        "colab": {}
      },
      "source": [
        "# TransitionLayer 있는 이유 : DenseLayer를 사용하면 채널 수가 급격하게 커질 수 있기 때문에 그것을 막기 위해(채널 수를 줄이기 위해) 사용.\n",
        "class TransitionLayer(tf.keras.Model):\n",
        "    def __init__(self, filters, kernel_size):\n",
        "        super(TransitionLayer, self).__init__()\n",
        "        self.conv = tf.keras.layers.Conv2D(filters, kernel_size, padding='same')  # Transition을 할때는 activation이 없다.\n",
        "        self.pool = tf.keras.layers.MaxPool2D()\n",
        "\n",
        "    def call(self, x, training=False, mask=None):\n",
        "        x = self.conv(x)  # batch_num이 없기 때문에 taining 안써줘도 됨.\n",
        "        return self.pool(x)"
      ],
      "execution_count": 5,
      "outputs": []
    },
    {
      "cell_type": "markdown",
      "metadata": {
        "id": "eamHIFSRq_w2",
        "colab_type": "text"
      },
      "source": [
        "## 모델 정의"
      ]
    },
    {
      "cell_type": "code",
      "metadata": {
        "id": "MQ5uLQwKq_w3",
        "colab_type": "code",
        "colab": {}
      },
      "source": [
        "class DenseNet(tf.keras.Model):\n",
        "    def __init__(self):\n",
        "        super(DenseNet, self).__init__()\n",
        "        self.conv1 = tf.keras.layers.Conv2D(8, (3, 3), padding='same', activation='relu') # 28x28x8\n",
        "        \n",
        "        self.dl1 = DenseLayer(2, 4, (3, 3))  # 28x28x16   # 16 = 2x4 + 8\n",
        "        self.tr1 = TransitionLayer(16, (3, 3))  # 14x14x16\n",
        "\n",
        "        self.dl2 = DenseLayer(2, 8, (3, 3))  # 14x14x32\n",
        "        self.tr2 = TransitionLayer(16, (3, 3))  # 7x7x32\n",
        "\n",
        "        self.dl3 = DenseLayer(2, 16, (3, 3))  # 7x7x64\n",
        "        \n",
        "        self.flatten = tf.keras.layers.Flatten()\n",
        "        self.dense1 = tf.keras.layers.Dense(128, activation='relu')\n",
        "        self.dense2 = tf.keras.layers.Dense(10, activation='softmax')\n",
        "\n",
        "    def call(self, x, training=False, mask=None):\n",
        "        x = self.conv1(x)\n",
        "\n",
        "        x = self.dl1(x, training=training)\n",
        "        x = self.tr1(x)\n",
        "\n",
        "        x = self.dl2(x, training=training)\n",
        "        x = self.tr2(x)\n",
        "\n",
        "        x = self.dl3(x, training=training)\n",
        "        \n",
        "        x = self.flatten(x)\n",
        "        x = self.dense1(x)\n",
        "        return self.dense2(x)"
      ],
      "execution_count": 6,
      "outputs": []
    },
    {
      "cell_type": "markdown",
      "metadata": {
        "id": "LlPWqxsmq_w5",
        "colab_type": "text"
      },
      "source": [
        "## 학습, 테스트 루프 정의"
      ]
    },
    {
      "cell_type": "code",
      "metadata": {
        "id": "u4aF3Zamq_w6",
        "colab_type": "code",
        "colab": {}
      },
      "source": [
        "# Implement training loop\n",
        "@tf.function\n",
        "def train_step(model, images, labels, loss_object, optimizer, train_loss, train_accuracy):\n",
        "    with tf.GradientTape() as tape:\n",
        "        predictions = model(images, training=True)\n",
        "        loss = loss_object(labels, predictions)\n",
        "    gradients = tape.gradient(loss, model.trainable_variables)\n",
        "\n",
        "    optimizer.apply_gradients(zip(gradients, model.trainable_variables))\n",
        "    train_loss(loss)\n",
        "    train_accuracy(labels, predictions)\n",
        "\n",
        "# Implement algorithm test\n",
        "@tf.function\n",
        "def test_step(model, images, labels, loss_object, test_loss, test_accuracy):\n",
        "    predictions = model(images, training=False)\n",
        "\n",
        "    t_loss = loss_object(labels, predictions)\n",
        "    test_loss(t_loss)\n",
        "    test_accuracy(labels, predictions)"
      ],
      "execution_count": 7,
      "outputs": []
    },
    {
      "cell_type": "markdown",
      "metadata": {
        "id": "zBVmCdEEq_w7",
        "colab_type": "text"
      },
      "source": [
        "## 데이터셋 준비\n"
      ]
    },
    {
      "cell_type": "code",
      "metadata": {
        "id": "rXkW1xoKq_w8",
        "colab_type": "code",
        "colab": {
          "base_uri": "https://localhost:8080/",
          "height": 51
        },
        "outputId": "6ebb5f38-8314-4ec2-a4cb-5f782224549b"
      },
      "source": [
        "mnist = tf.keras.datasets.mnist\n",
        "\n",
        "(x_train, y_train), (x_test, y_test) = mnist.load_data()\n",
        "x_train, x_test = x_train / 255.0, x_test / 255.0\n",
        "\n",
        "x_train = x_train[..., tf.newaxis].astype(np.float32)\n",
        "x_test = x_test[..., tf.newaxis].astype(np.float32)\n",
        "\n",
        "train_ds = tf.data.Dataset.from_tensor_slices((x_train, y_train)).shuffle(10000).batch(32)\n",
        "test_ds = tf.data.Dataset.from_tensor_slices((x_test, y_test)).batch(32)"
      ],
      "execution_count": 8,
      "outputs": [
        {
          "output_type": "stream",
          "text": [
            "Downloading data from https://storage.googleapis.com/tensorflow/tf-keras-datasets/mnist.npz\n",
            "11493376/11490434 [==============================] - 0s 0us/step\n"
          ],
          "name": "stdout"
        }
      ]
    },
    {
      "cell_type": "markdown",
      "metadata": {
        "id": "I70G5MUPq_w-",
        "colab_type": "text"
      },
      "source": [
        "## 학습 환경 정의\n",
        "### 모델 생성, 손실함수, 최적화 알고리즘, 평가지표 정의"
      ]
    },
    {
      "cell_type": "code",
      "metadata": {
        "id": "42ni7__-q_w_",
        "colab_type": "code",
        "colab": {}
      },
      "source": [
        "# Create model\n",
        "model = DenseNet()\n",
        "\n",
        "# Define loss and optimizer\n",
        "loss_object = tf.keras.losses.SparseCategoricalCrossentropy()\n",
        "optimizer = tf.keras.optimizers.Adam()\n",
        "\n",
        "# Define performance metrics\n",
        "train_loss = tf.keras.metrics.Mean(name='train_loss')\n",
        "train_accuracy = tf.keras.metrics.SparseCategoricalAccuracy(name='train_accuracy')\n",
        "\n",
        "test_loss = tf.keras.metrics.Mean(name='test_loss')\n",
        "test_accuracy = tf.keras.metrics.SparseCategoricalAccuracy(name='test_accuracy')"
      ],
      "execution_count": 9,
      "outputs": []
    },
    {
      "cell_type": "markdown",
      "metadata": {
        "id": "7gWI_gikq_xA",
        "colab_type": "text"
      },
      "source": [
        "## 학습 루프 동작"
      ]
    },
    {
      "cell_type": "code",
      "metadata": {
        "id": "HfbUP-_kq_xA",
        "colab_type": "code",
        "colab": {
          "base_uri": "https://localhost:8080/",
          "height": 187
        },
        "outputId": "4e887636-635d-4e37-a2d7-455b3482d429"
      },
      "source": [
        "for epoch in range(EPOCHS):\n",
        "    for images, labels in train_ds:\n",
        "        train_step(model, images, labels, loss_object, optimizer, train_loss, train_accuracy)\n",
        "\n",
        "    for test_images, test_labels in test_ds:\n",
        "        test_step(model, test_images, test_labels, loss_object, test_loss, test_accuracy)\n",
        "\n",
        "    template = 'Epoch {}, Loss: {}, Accuracy: {}, Test Loss: {}, Test Accuracy: {}'\n",
        "    print(template.format(epoch + 1,\n",
        "                          train_loss.result(),\n",
        "                          train_accuracy.result() * 100,\n",
        "                          test_loss.result(),\n",
        "                          test_accuracy.result() * 100))\n",
        "    train_loss.reset_states()\n",
        "    train_accuracy.reset_states()\n",
        "    test_loss.reset_states()\n",
        "    test_accuracy.reset_states()"
      ],
      "execution_count": 10,
      "outputs": [
        {
          "output_type": "stream",
          "text": [
            "Epoch 1, Loss: 0.11115439236164093, Accuracy: 96.62166595458984, Test Loss: 0.05068975314497948, Test Accuracy: 98.50999450683594\n",
            "Epoch 2, Loss: 0.05294995754957199, Accuracy: 98.49666595458984, Test Loss: 0.050530560314655304, Test Accuracy: 98.5999984741211\n",
            "Epoch 3, Loss: 0.04222479090094566, Accuracy: 98.75333404541016, Test Loss: 0.057785484939813614, Test Accuracy: 98.18999481201172\n",
            "Epoch 4, Loss: 0.03933229669928551, Accuracy: 98.88666534423828, Test Loss: 0.06581878662109375, Test Accuracy: 98.06999969482422\n",
            "Epoch 5, Loss: 0.03407682850956917, Accuracy: 99.02999877929688, Test Loss: 0.06525159627199173, Test Accuracy: 98.15999603271484\n",
            "Epoch 6, Loss: 0.029487106949090958, Accuracy: 99.11666870117188, Test Loss: 0.06484661251306534, Test Accuracy: 98.5199966430664\n",
            "Epoch 7, Loss: 0.029590250924229622, Accuracy: 99.15166473388672, Test Loss: 0.06301163136959076, Test Accuracy: 98.40999603271484\n",
            "Epoch 8, Loss: 0.023413505405187607, Accuracy: 99.288330078125, Test Loss: 0.07663452625274658, Test Accuracy: 98.43999481201172\n",
            "Epoch 9, Loss: 0.02374216355383396, Accuracy: 99.34166717529297, Test Loss: 0.07164451479911804, Test Accuracy: 98.50999450683594\n",
            "Epoch 10, Loss: 0.02458706684410572, Accuracy: 99.37000274658203, Test Loss: 0.0626668930053711, Test Accuracy: 98.95999908447266\n"
          ],
          "name": "stdout"
        }
      ]
    }
  ]
}