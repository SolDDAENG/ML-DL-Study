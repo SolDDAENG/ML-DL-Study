{
  "nbformat": 4,
  "nbformat_minor": 0,
  "metadata": {
    "kernelspec": {
      "display_name": "Python 3",
      "language": "python",
      "name": "python3"
    },
    "language_info": {
      "codemirror_mode": {
        "name": "ipython",
        "version": 3
      },
      "file_extension": ".py",
      "mimetype": "text/x-python",
      "name": "python",
      "nbconvert_exporter": "python",
      "pygments_lexer": "ipython3",
      "version": "3.7.3"
    },
    "colab": {
      "name": "09. 순환신경망 구현 및 학습.ipynb",
      "provenance": [],
      "collapsed_sections": []
    },
    "accelerator": "GPU"
  },
  "cells": [
    {
      "cell_type": "markdown",
      "metadata": {
        "id": "_1A25pojEFNz",
        "colab_type": "text"
      },
      "source": [
        "## 순환신경망 구현 및 학습"
      ]
    },
    {
      "cell_type": "code",
      "metadata": {
        "id": "83jXyrxAEFN0",
        "colab_type": "code",
        "colab": {}
      },
      "source": [
        "import tensorflow as tf"
      ],
      "execution_count": 1,
      "outputs": []
    },
    {
      "cell_type": "markdown",
      "metadata": {
        "id": "Gr0pVIVUEFN4",
        "colab_type": "text"
      },
      "source": [
        "## 하이퍼 파라미터"
      ]
    },
    {
      "cell_type": "code",
      "metadata": {
        "id": "WBavz1C7EFN5",
        "colab_type": "code",
        "colab": {}
      },
      "source": [
        "EPOCHS = 10\n",
        "NUM_WORDS = 10000"
      ],
      "execution_count": 2,
      "outputs": []
    },
    {
      "cell_type": "markdown",
      "metadata": {
        "id": "rZ48CB2WEFN8",
        "colab_type": "text"
      },
      "source": [
        "## 모델 정의"
      ]
    },
    {
      "cell_type": "code",
      "metadata": {
        "id": "8vOPC6fTEFN9",
        "colab_type": "code",
        "colab": {}
      },
      "source": [
        "class MyModel(tf.keras.Model):\n",
        "  def __init__(self):\n",
        "    super(MyModel, self).__init__()\n",
        "    self.emb = tf.keras.layers.Embedding(NUM_WORDS, 16)   # NUM_WORDS를 16개 사용한다.\n",
        "    # Embedding : 양의 정수(색인)를 고정된 크기의 밀집 벡터로 전환.  # 길이가 10,000인 원핫 벡터를 길이가 16인 feature 벡터로 바꿔준다.\n",
        "    # self.rnn = tf.keras.layers.SimpleRNN(32)\n",
        "    # self.rnn = tf.keras.layers.LSTM(32)\n",
        "    self.rnn = tf.keras.layers.GRU(32)\n",
        "    # self.rnn1 = tf.keras.layers.LSTM(32)\n",
        "    # self.rnn2 = tf.keras.layers.LSTM(32)\n",
        "    # self.rnn3 = tf.keras.layers.LSTM(32)\n",
        "    self.dense = tf.keras.layers.Dense(2, activation='softmax')\n",
        "\n",
        "  def call(self, x, training=None, mask=None):\n",
        "    x = self.emb(x)\n",
        "    x = self.rnn(x)\n",
        "    # x = self.rnn1(x)\n",
        "    # x = self.rnn2(x)\n",
        "    # x = self.rnn3(x)\n",
        "    return self.dense(x)"
      ],
      "execution_count": 3,
      "outputs": []
    },
    {
      "cell_type": "markdown",
      "metadata": {
        "id": "m1JzKTJAEFOA",
        "colab_type": "text"
      },
      "source": [
        "## 학습, 테스트 루프 정의"
      ]
    },
    {
      "cell_type": "code",
      "metadata": {
        "id": "cPsbm1eZEFOA",
        "colab_type": "code",
        "colab": {}
      },
      "source": [
        "# Implement training loop\n",
        "@tf.function\n",
        "def train_step(model, inputs, labels, loss_object, optimizer, train_loss, train_accuracy):\n",
        "    with tf.GradientTape() as tape:\n",
        "        predictions = model(inputs, training=True)\n",
        "        loss = loss_object(labels, predictions)\n",
        "    gradients = tape.gradient(loss, model.trainable_variables)\n",
        "\n",
        "    optimizer.apply_gradients(zip(gradients, model.trainable_variables))\n",
        "    train_loss(loss)\n",
        "    train_accuracy(labels, predictions)\n",
        "\n",
        "# Implement algorithm test\n",
        "@tf.function\n",
        "def test_step(model, images, labels, loss_object, test_loss, test_accuracy):\n",
        "    predictions = model(images, training=False)\n",
        "\n",
        "    t_loss = loss_object(labels, predictions)\n",
        "    test_loss(t_loss)\n",
        "    test_accuracy(labels, predictions)"
      ],
      "execution_count": 4,
      "outputs": []
    },
    {
      "cell_type": "markdown",
      "metadata": {
        "id": "0_IFPmHDEFOD",
        "colab_type": "text"
      },
      "source": [
        "## 데이터셋 준비\n"
      ]
    },
    {
      "cell_type": "code",
      "metadata": {
        "id": "xywUPu-ZEFOD",
        "colab_type": "code",
        "colab": {}
      },
      "source": [
        "imdb = tf.keras.datasets.imdb\n",
        "(x_train, y_train), (x_test, y_test) = imdb.load_data(num_words=NUM_WORDS)\n",
        "\n",
        "x_train = tf.keras.preprocessing.sequence.pad_sequences(x_train, value=0, padding='pre', maxlen=32)\n",
        "# y가 다중 출력인 경우 padding='post' 로 하면 패딩이 뒤로 채워진다.\n",
        "x_test = tf.keras.preprocessing.sequence.pad_sequences(x_test, value=0, padding='pre', maxlen=32)\n",
        "\n",
        "train_ds = tf.data.Dataset.from_tensor_slices((x_train, y_train)).shuffle(10000).batch(32)\n",
        "test_ds = tf.data.Dataset.from_tensor_slices((x_test, y_test)).batch(32)"
      ],
      "execution_count": 5,
      "outputs": []
    },
    {
      "cell_type": "markdown",
      "metadata": {
        "id": "FPP3KiqrEFOG",
        "colab_type": "text"
      },
      "source": [
        "## 학습 환경 정의\n",
        "### 모델 생성, 손실함수, 최적화 알고리즘, 평가지표 정의"
      ]
    },
    {
      "cell_type": "code",
      "metadata": {
        "id": "z7YEBocsEFOG",
        "colab_type": "code",
        "colab": {}
      },
      "source": [
        "# Create model\n",
        "model = MyModel()\n",
        "\n",
        "# Define loss and optimizer\n",
        "loss_object = tf.keras.losses.SparseCategoricalCrossentropy()\n",
        "optimizer = tf.keras.optimizers.Adam()\n",
        "\n",
        "# Define performance metrics\n",
        "train_loss = tf.keras.metrics.Mean(name='train_loss')\n",
        "train_accuracy = tf.keras.metrics.SparseCategoricalAccuracy(name='train_accuracy')\n",
        "\n",
        "test_loss = tf.keras.metrics.Mean(name='test_loss')\n",
        "test_accuracy = tf.keras.metrics.SparseCategoricalAccuracy(name='test_accuracy')"
      ],
      "execution_count": 6,
      "outputs": []
    },
    {
      "cell_type": "markdown",
      "metadata": {
        "id": "B5YCYR_YEFOJ",
        "colab_type": "text"
      },
      "source": [
        "## 학습 루프 동작"
      ]
    },
    {
      "cell_type": "code",
      "metadata": {
        "id": "xS5gNHJrEFOJ",
        "colab_type": "code",
        "colab": {
          "base_uri": "https://localhost:8080/",
          "height": 187
        },
        "outputId": "b7cba84d-90d2-4780-c070-25e51a36fd29"
      },
      "source": [
        "for epoch in range(EPOCHS):\n",
        "    for sequence, labels in train_ds:\n",
        "        train_step(model, sequence, labels, loss_object, optimizer, train_loss, train_accuracy)\n",
        "\n",
        "    for test_sequence, test_labels in test_ds:\n",
        "        test_step(model, test_sequence, test_labels, loss_object, test_loss, test_accuracy)\n",
        "\n",
        "    template = 'Epoch {}, Loss: {}, Accuracy: {}, Test Loss: {}, Test Accuracy: {}'\n",
        "    print(template.format(epoch + 1,\n",
        "                          train_loss.result(),\n",
        "                          train_accuracy.result() * 100,\n",
        "                          test_loss.result(),\n",
        "                          test_accuracy.result() * 100))\n",
        "    train_loss.reset_states()\n",
        "    train_accuracy.reset_states()\n",
        "    test_loss.reset_states()\n",
        "    test_accuracy.reset_states()"
      ],
      "execution_count": 7,
      "outputs": [
        {
          "output_type": "stream",
          "text": [
            "Epoch 1, Loss: 0.5098806023597717, Accuracy: 73.40399932861328, Test Loss: 0.4426090121269226, Test Accuracy: 79.15999603271484\n",
            "Epoch 2, Loss: 0.3732762932777405, Accuracy: 83.2719955444336, Test Loss: 0.4466339349746704, Test Accuracy: 78.88400268554688\n",
            "Epoch 3, Loss: 0.317598819732666, Accuracy: 86.36800384521484, Test Loss: 0.49060744047164917, Test Accuracy: 78.15599822998047\n",
            "Epoch 4, Loss: 0.26839298009872437, Accuracy: 89.04000091552734, Test Loss: 0.5155260562896729, Test Accuracy: 77.3800048828125\n",
            "Epoch 5, Loss: 0.22016486525535583, Accuracy: 91.36000061035156, Test Loss: 0.600638747215271, Test Accuracy: 76.57600402832031\n",
            "Epoch 6, Loss: 0.17986884713172913, Accuracy: 93.23200225830078, Test Loss: 0.6372537612915039, Test Accuracy: 76.28399658203125\n",
            "Epoch 7, Loss: 0.1415466070175171, Accuracy: 94.8479995727539, Test Loss: 0.7684795260429382, Test Accuracy: 75.43600463867188\n",
            "Epoch 8, Loss: 0.10849899798631668, Accuracy: 96.22000122070312, Test Loss: 0.9271726608276367, Test Accuracy: 75.45600128173828\n",
            "Epoch 9, Loss: 0.08321768790483475, Accuracy: 97.18000030517578, Test Loss: 1.0792876482009888, Test Accuracy: 74.86799621582031\n",
            "Epoch 10, Loss: 0.06261372566223145, Accuracy: 97.91999816894531, Test Loss: 1.2416731119155884, Test Accuracy: 74.71200561523438\n"
          ],
          "name": "stdout"
        }
      ]
    }
  ]
}