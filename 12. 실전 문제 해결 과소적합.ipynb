{
  "nbformat": 4,
  "nbformat_minor": 0,
  "metadata": {
    "kernelspec": {
      "display_name": "Python 3",
      "language": "python",
      "name": "python3"
    },
    "language_info": {
      "codemirror_mode": {
        "name": "ipython",
        "version": 3
      },
      "file_extension": ".py",
      "mimetype": "text/x-python",
      "name": "python",
      "nbconvert_exporter": "python",
      "pygments_lexer": "ipython3",
      "version": "3.7.3"
    },
    "colab": {
      "name": "12. 실전 문제 해결 (과소적합).ipynb",
      "provenance": []
    },
    "accelerator": "GPU"
  },
  "cells": [
    {
      "cell_type": "markdown",
      "metadata": {
        "id": "VWd5Qdrzbf2J",
        "colab_type": "text"
      },
      "source": [
        "# 실전 문제 해결 (과소적합)"
      ]
    },
    {
      "cell_type": "code",
      "metadata": {
        "id": "T0qK53Ozbf2K",
        "colab_type": "code",
        "colab": {}
      },
      "source": [
        "import tensorflow as tf\n",
        "import numpy as np"
      ],
      "execution_count": 1,
      "outputs": []
    },
    {
      "cell_type": "markdown",
      "metadata": {
        "id": "p5bHGVyfbf2P",
        "colab_type": "text"
      },
      "source": [
        "## 하이퍼 파라미터"
      ]
    },
    {
      "cell_type": "code",
      "metadata": {
        "id": "9ok5uGWGbf2Q",
        "colab_type": "code",
        "colab": {}
      },
      "source": [
        "EPOCHS = 100"
      ],
      "execution_count": 2,
      "outputs": []
    },
    {
      "cell_type": "markdown",
      "metadata": {
        "id": "Y-wwgqQWbf2T",
        "colab_type": "text"
      },
      "source": [
        "## 모델 정의"
      ]
    },
    {
      "cell_type": "code",
      "metadata": {
        "id": "206BhVQzbf2U",
        "colab_type": "code",
        "colab": {}
      },
      "source": [
        "class MyModel(tf.keras.Model):\n",
        "    def __init__(self):\n",
        "        super(MyModel, self).__init__()\n",
        "        self.flatten = tf.keras.layers.Flatten()\n",
        "        # 첫번째 layer는 전결합계층, batchnorm, relu형태로 구성\n",
        "        self.dense1 = tf.keras.layers.Dense(32, use_bias=False)\n",
        "        self.batch1 = tf.keras.layers.BatchNormalization()\n",
        "        \n",
        "        # 그 다음 layer부턴 DenseNet구조를 사용해서 pre-activation\n",
        "        self.batch2 = tf.keras.layers.BatchNormalization()\n",
        "        self.dense2 = tf.keras.layers.Dense(32, use_bias=False)\n",
        "        \n",
        "        self.batch3 = tf.keras.layers.BatchNormalization()\n",
        "        self.dense3 = tf.keras.layers.Dense(64, use_bias=False)\n",
        "        \n",
        "        self.batch4 = tf.keras.layers.BatchNormalization()\n",
        "        self.dense4 = tf.keras.layers.Dense(128, use_bias=False)\n",
        "        \n",
        "\n",
        "        self.dense5 = tf.keras.layers.Dense(10, activation='softmax')\n",
        "\n",
        "    def call(self, x, training=False, mask=None):\n",
        "        x = self.flatten(x)\n",
        "\n",
        "        x = self.dense1(x)\n",
        "        x = self.batch1(x, training)\n",
        "        x = tf.nn.relu(x)\n",
        "\n",
        "        # pre-activation\n",
        "        h = self.batch2(x, training)\n",
        "        h = tf.nn.relu(h)\n",
        "        h = self.dense2(h)\n",
        "        x = tf.concat([x, h], axis=-1)\n",
        "\n",
        "        h = self.batch3(x, training)\n",
        "        h = tf.nn.relu(h)\n",
        "        h = self.dense3(h)\n",
        "        x = tf.concat([x, h], axis=-1)\n",
        "\n",
        "        h = self.batch4(x, training)\n",
        "        h = tf.nn.relu(h)\n",
        "        h = self.dense4(h)\n",
        "        x = tf.concat([x, h], axis=-1)\n",
        "        \n",
        "        return self.dense5(x)"
      ],
      "execution_count": 3,
      "outputs": []
    },
    {
      "cell_type": "markdown",
      "metadata": {
        "id": "szaa9wsObf2X",
        "colab_type": "text"
      },
      "source": [
        "## 데이터셋 준비\n"
      ]
    },
    {
      "cell_type": "code",
      "metadata": {
        "id": "b22MU1k0bf2X",
        "colab_type": "code",
        "colab": {
          "base_uri": "https://localhost:8080/",
          "height": 153
        },
        "outputId": "2c7b837d-f3c6-405b-983f-18b6aa7484ee"
      },
      "source": [
        "fashion_mnist = tf.keras.datasets.fashion_mnist   # 28x28. ==> 10 class\n",
        "\n",
        "(x_train, y_train), (x_test, y_test) = fashion_mnist.load_data()\n",
        "x_train, x_test = x_train / 255.0, x_test / 255.0\n",
        "\n",
        "x_train = x_train.astype(np.float32)\n",
        "x_test = x_test.astype(np.float32)\n",
        "\n",
        "train_ds = tf.data.Dataset.from_tensor_slices((x_train, y_train)).shuffle(10000).batch(32).prefetch(2048)\n",
        "test_ds = tf.data.Dataset.from_tensor_slices((x_test, y_test)).batch(32).prefetch(2048)"
      ],
      "execution_count": 4,
      "outputs": [
        {
          "output_type": "stream",
          "text": [
            "Downloading data from https://storage.googleapis.com/tensorflow/tf-keras-datasets/train-labels-idx1-ubyte.gz\n",
            "32768/29515 [=================================] - 0s 0us/step\n",
            "Downloading data from https://storage.googleapis.com/tensorflow/tf-keras-datasets/train-images-idx3-ubyte.gz\n",
            "26427392/26421880 [==============================] - 0s 0us/step\n",
            "Downloading data from https://storage.googleapis.com/tensorflow/tf-keras-datasets/t10k-labels-idx1-ubyte.gz\n",
            "8192/5148 [===============================================] - 0s 0us/step\n",
            "Downloading data from https://storage.googleapis.com/tensorflow/tf-keras-datasets/t10k-images-idx3-ubyte.gz\n",
            "4423680/4422102 [==============================] - 0s 0us/step\n"
          ],
          "name": "stdout"
        }
      ]
    },
    {
      "cell_type": "markdown",
      "metadata": {
        "id": "FnzaKmIKbf2a",
        "colab_type": "text"
      },
      "source": [
        "## Keras API 모델 학습"
      ]
    },
    {
      "cell_type": "code",
      "metadata": {
        "scrolled": true,
        "id": "1FTBXR16bf2a",
        "colab_type": "code",
        "colab": {
          "base_uri": "https://localhost:8080/",
          "height": 1000
        },
        "outputId": "1d481504-42c9-4d95-e5d5-81a04d3d1bec"
      },
      "source": [
        "model = MyModel()\n",
        "model.compile(optimizer='adam',\n",
        "              loss='sparse_categorical_crossentropy',\n",
        "              metrics=['accuracy'])\n",
        "model.fit(train_ds, validation_data=test_ds, epochs=EPOCHS)"
      ],
      "execution_count": 5,
      "outputs": [
        {
          "output_type": "stream",
          "text": [
            "Epoch 1/100\n",
            "1875/1875 [==============================] - 9s 5ms/step - loss: 0.5157 - accuracy: 0.8135 - val_loss: 0.5276 - val_accuracy: 0.8011\n",
            "Epoch 2/100\n",
            "1875/1875 [==============================] - 9s 5ms/step - loss: 0.4008 - accuracy: 0.8549 - val_loss: 0.4260 - val_accuracy: 0.8526\n",
            "Epoch 3/100\n",
            "1875/1875 [==============================] - 9s 5ms/step - loss: 0.3657 - accuracy: 0.8676 - val_loss: 0.4014 - val_accuracy: 0.8594\n",
            "Epoch 4/100\n",
            "1875/1875 [==============================] - 9s 5ms/step - loss: 0.3487 - accuracy: 0.8718 - val_loss: 0.3693 - val_accuracy: 0.8672\n",
            "Epoch 5/100\n",
            "1875/1875 [==============================] - 9s 5ms/step - loss: 0.3320 - accuracy: 0.8780 - val_loss: 0.3953 - val_accuracy: 0.8550\n",
            "Epoch 6/100\n",
            "1875/1875 [==============================] - 9s 5ms/step - loss: 0.3200 - accuracy: 0.8819 - val_loss: 0.3468 - val_accuracy: 0.8752\n",
            "Epoch 7/100\n",
            "1875/1875 [==============================] - 9s 5ms/step - loss: 0.3094 - accuracy: 0.8845 - val_loss: 0.3621 - val_accuracy: 0.8716\n",
            "Epoch 8/100\n",
            "1875/1875 [==============================] - 9s 5ms/step - loss: 0.3012 - accuracy: 0.8877 - val_loss: 0.3682 - val_accuracy: 0.8703\n",
            "Epoch 9/100\n",
            "1875/1875 [==============================] - 9s 5ms/step - loss: 0.2905 - accuracy: 0.8920 - val_loss: 0.3744 - val_accuracy: 0.8658\n",
            "Epoch 10/100\n",
            "1875/1875 [==============================] - 9s 5ms/step - loss: 0.2871 - accuracy: 0.8929 - val_loss: 0.3649 - val_accuracy: 0.8680\n",
            "Epoch 11/100\n",
            "1875/1875 [==============================] - 10s 5ms/step - loss: 0.2825 - accuracy: 0.8942 - val_loss: 0.3647 - val_accuracy: 0.8734\n",
            "Epoch 12/100\n",
            "1875/1875 [==============================] - 9s 5ms/step - loss: 0.2740 - accuracy: 0.8966 - val_loss: 0.3491 - val_accuracy: 0.8750\n",
            "Epoch 13/100\n",
            "1875/1875 [==============================] - 9s 5ms/step - loss: 0.2705 - accuracy: 0.8989 - val_loss: 0.3460 - val_accuracy: 0.8773\n",
            "Epoch 14/100\n",
            "1875/1875 [==============================] - 9s 5ms/step - loss: 0.2661 - accuracy: 0.8993 - val_loss: 0.3454 - val_accuracy: 0.8792\n",
            "Epoch 15/100\n",
            "1875/1875 [==============================] - 9s 5ms/step - loss: 0.2599 - accuracy: 0.9034 - val_loss: 0.3773 - val_accuracy: 0.8713\n",
            "Epoch 16/100\n",
            "1875/1875 [==============================] - 9s 5ms/step - loss: 0.2558 - accuracy: 0.9039 - val_loss: 0.3576 - val_accuracy: 0.8734\n",
            "Epoch 17/100\n",
            "1875/1875 [==============================] - 9s 5ms/step - loss: 0.2517 - accuracy: 0.9054 - val_loss: 0.3674 - val_accuracy: 0.8787\n",
            "Epoch 18/100\n",
            "1875/1875 [==============================] - 9s 5ms/step - loss: 0.2475 - accuracy: 0.9064 - val_loss: 0.3875 - val_accuracy: 0.8695\n",
            "Epoch 19/100\n",
            "1875/1875 [==============================] - 9s 5ms/step - loss: 0.2483 - accuracy: 0.9075 - val_loss: 0.3669 - val_accuracy: 0.8739\n",
            "Epoch 20/100\n",
            "1875/1875 [==============================] - 9s 5ms/step - loss: 0.2430 - accuracy: 0.9094 - val_loss: 0.3659 - val_accuracy: 0.8747\n",
            "Epoch 21/100\n",
            "1875/1875 [==============================] - 9s 5ms/step - loss: 0.2409 - accuracy: 0.9098 - val_loss: 0.3632 - val_accuracy: 0.8753\n",
            "Epoch 22/100\n",
            "1875/1875 [==============================] - 8s 5ms/step - loss: 0.2381 - accuracy: 0.9107 - val_loss: 0.3723 - val_accuracy: 0.8735\n",
            "Epoch 23/100\n",
            "1875/1875 [==============================] - 9s 5ms/step - loss: 0.2363 - accuracy: 0.9111 - val_loss: 0.3371 - val_accuracy: 0.8839\n",
            "Epoch 24/100\n",
            "1875/1875 [==============================] - 8s 5ms/step - loss: 0.2329 - accuracy: 0.9125 - val_loss: 0.3759 - val_accuracy: 0.8700\n",
            "Epoch 25/100\n",
            "1875/1875 [==============================] - 8s 4ms/step - loss: 0.2310 - accuracy: 0.9140 - val_loss: 0.3627 - val_accuracy: 0.8752\n",
            "Epoch 26/100\n",
            "1875/1875 [==============================] - 8s 4ms/step - loss: 0.2276 - accuracy: 0.9140 - val_loss: 0.3822 - val_accuracy: 0.8703\n",
            "Epoch 27/100\n",
            "1875/1875 [==============================] - 8s 5ms/step - loss: 0.2237 - accuracy: 0.9156 - val_loss: 0.3803 - val_accuracy: 0.8779\n",
            "Epoch 28/100\n",
            "1875/1875 [==============================] - 8s 4ms/step - loss: 0.2230 - accuracy: 0.9165 - val_loss: 0.3612 - val_accuracy: 0.8798\n",
            "Epoch 29/100\n",
            "1875/1875 [==============================] - 8s 4ms/step - loss: 0.2215 - accuracy: 0.9163 - val_loss: 0.3760 - val_accuracy: 0.8759\n",
            "Epoch 30/100\n",
            "1875/1875 [==============================] - 8s 5ms/step - loss: 0.2164 - accuracy: 0.9184 - val_loss: 0.3593 - val_accuracy: 0.8825\n",
            "Epoch 31/100\n",
            "1875/1875 [==============================] - 8s 4ms/step - loss: 0.2169 - accuracy: 0.9189 - val_loss: 0.3541 - val_accuracy: 0.8832\n",
            "Epoch 32/100\n",
            "1875/1875 [==============================] - 8s 4ms/step - loss: 0.2160 - accuracy: 0.9180 - val_loss: 0.3667 - val_accuracy: 0.8816\n",
            "Epoch 33/100\n",
            "1875/1875 [==============================] - 8s 5ms/step - loss: 0.2146 - accuracy: 0.9190 - val_loss: 0.3682 - val_accuracy: 0.8780\n",
            "Epoch 34/100\n",
            "1875/1875 [==============================] - 8s 4ms/step - loss: 0.2104 - accuracy: 0.9189 - val_loss: 0.3707 - val_accuracy: 0.8789\n",
            "Epoch 35/100\n",
            "1875/1875 [==============================] - 8s 4ms/step - loss: 0.2083 - accuracy: 0.9221 - val_loss: 0.3772 - val_accuracy: 0.8777\n",
            "Epoch 36/100\n",
            "1875/1875 [==============================] - 8s 4ms/step - loss: 0.2094 - accuracy: 0.9201 - val_loss: 0.3609 - val_accuracy: 0.8834\n",
            "Epoch 37/100\n",
            "1875/1875 [==============================] - 8s 4ms/step - loss: 0.2080 - accuracy: 0.9217 - val_loss: 0.3871 - val_accuracy: 0.8775\n",
            "Epoch 38/100\n",
            "1875/1875 [==============================] - 8s 4ms/step - loss: 0.2052 - accuracy: 0.9221 - val_loss: 0.3747 - val_accuracy: 0.8781\n",
            "Epoch 39/100\n",
            "1875/1875 [==============================] - 8s 4ms/step - loss: 0.2031 - accuracy: 0.9237 - val_loss: 0.3677 - val_accuracy: 0.8825\n",
            "Epoch 40/100\n",
            "1875/1875 [==============================] - 8s 5ms/step - loss: 0.2038 - accuracy: 0.9227 - val_loss: 0.3661 - val_accuracy: 0.8807\n",
            "Epoch 41/100\n",
            "1875/1875 [==============================] - 8s 4ms/step - loss: 0.2011 - accuracy: 0.9237 - val_loss: 0.3805 - val_accuracy: 0.8787\n",
            "Epoch 42/100\n",
            "1875/1875 [==============================] - 8s 4ms/step - loss: 0.2002 - accuracy: 0.9237 - val_loss: 0.4121 - val_accuracy: 0.8702\n",
            "Epoch 43/100\n",
            "1875/1875 [==============================] - 8s 4ms/step - loss: 0.1989 - accuracy: 0.9238 - val_loss: 0.3912 - val_accuracy: 0.8768\n",
            "Epoch 44/100\n",
            "1875/1875 [==============================] - 8s 4ms/step - loss: 0.1995 - accuracy: 0.9255 - val_loss: 0.3925 - val_accuracy: 0.8737\n",
            "Epoch 45/100\n",
            "1875/1875 [==============================] - 8s 4ms/step - loss: 0.1959 - accuracy: 0.9260 - val_loss: 0.4247 - val_accuracy: 0.8706\n",
            "Epoch 46/100\n",
            "1875/1875 [==============================] - 8s 4ms/step - loss: 0.1946 - accuracy: 0.9268 - val_loss: 0.4020 - val_accuracy: 0.8800\n",
            "Epoch 47/100\n",
            "1875/1875 [==============================] - 9s 5ms/step - loss: 0.1944 - accuracy: 0.9260 - val_loss: 0.3998 - val_accuracy: 0.8759\n",
            "Epoch 48/100\n",
            "1875/1875 [==============================] - 8s 4ms/step - loss: 0.1924 - accuracy: 0.9277 - val_loss: 0.4030 - val_accuracy: 0.8751\n",
            "Epoch 49/100\n",
            "1875/1875 [==============================] - 8s 5ms/step - loss: 0.1948 - accuracy: 0.9266 - val_loss: 0.4009 - val_accuracy: 0.8772\n",
            "Epoch 50/100\n",
            "1875/1875 [==============================] - 8s 4ms/step - loss: 0.1912 - accuracy: 0.9279 - val_loss: 0.4065 - val_accuracy: 0.8795\n",
            "Epoch 51/100\n",
            "1875/1875 [==============================] - 8s 4ms/step - loss: 0.1906 - accuracy: 0.9273 - val_loss: 0.3932 - val_accuracy: 0.8752\n",
            "Epoch 52/100\n",
            "1875/1875 [==============================] - 8s 4ms/step - loss: 0.1855 - accuracy: 0.9305 - val_loss: 0.3950 - val_accuracy: 0.8798\n",
            "Epoch 53/100\n",
            "1875/1875 [==============================] - 8s 4ms/step - loss: 0.1874 - accuracy: 0.9298 - val_loss: 0.4108 - val_accuracy: 0.8729\n",
            "Epoch 54/100\n",
            "1875/1875 [==============================] - 8s 4ms/step - loss: 0.1870 - accuracy: 0.9290 - val_loss: 0.4081 - val_accuracy: 0.8767\n",
            "Epoch 55/100\n",
            "1875/1875 [==============================] - 8s 4ms/step - loss: 0.1863 - accuracy: 0.9295 - val_loss: 0.3814 - val_accuracy: 0.8811\n",
            "Epoch 56/100\n",
            "1875/1875 [==============================] - 8s 4ms/step - loss: 0.1853 - accuracy: 0.9296 - val_loss: 0.4108 - val_accuracy: 0.8772\n",
            "Epoch 57/100\n",
            "1875/1875 [==============================] - 8s 4ms/step - loss: 0.1836 - accuracy: 0.9304 - val_loss: 0.4029 - val_accuracy: 0.8778\n",
            "Epoch 58/100\n",
            "1875/1875 [==============================] - 8s 4ms/step - loss: 0.1815 - accuracy: 0.9323 - val_loss: 0.3998 - val_accuracy: 0.8768\n",
            "Epoch 59/100\n",
            "1875/1875 [==============================] - 8s 4ms/step - loss: 0.1824 - accuracy: 0.9313 - val_loss: 0.4047 - val_accuracy: 0.8794\n",
            "Epoch 60/100\n",
            "1875/1875 [==============================] - 8s 4ms/step - loss: 0.1775 - accuracy: 0.9330 - val_loss: 0.4617 - val_accuracy: 0.8667\n",
            "Epoch 61/100\n",
            "1875/1875 [==============================] - 8s 4ms/step - loss: 0.1818 - accuracy: 0.9314 - val_loss: 0.4034 - val_accuracy: 0.8751\n",
            "Epoch 62/100\n",
            "1875/1875 [==============================] - 8s 4ms/step - loss: 0.1799 - accuracy: 0.9322 - val_loss: 0.4083 - val_accuracy: 0.8778\n",
            "Epoch 63/100\n",
            "1875/1875 [==============================] - 8s 4ms/step - loss: 0.1797 - accuracy: 0.9322 - val_loss: 0.4143 - val_accuracy: 0.8820\n",
            "Epoch 64/100\n",
            "1875/1875 [==============================] - 8s 4ms/step - loss: 0.1778 - accuracy: 0.9321 - val_loss: 0.3954 - val_accuracy: 0.8836\n",
            "Epoch 65/100\n",
            "1875/1875 [==============================] - 8s 4ms/step - loss: 0.1772 - accuracy: 0.9326 - val_loss: 0.4171 - val_accuracy: 0.8734\n",
            "Epoch 66/100\n",
            "1875/1875 [==============================] - 8s 4ms/step - loss: 0.1763 - accuracy: 0.9334 - val_loss: 0.4006 - val_accuracy: 0.8811\n",
            "Epoch 67/100\n",
            "1875/1875 [==============================] - 8s 4ms/step - loss: 0.1755 - accuracy: 0.9337 - val_loss: 0.4298 - val_accuracy: 0.8748\n",
            "Epoch 68/100\n",
            "1875/1875 [==============================] - 8s 4ms/step - loss: 0.1743 - accuracy: 0.9339 - val_loss: 0.4196 - val_accuracy: 0.8793\n",
            "Epoch 69/100\n",
            "1875/1875 [==============================] - 8s 4ms/step - loss: 0.1733 - accuracy: 0.9338 - val_loss: 0.4169 - val_accuracy: 0.8804\n",
            "Epoch 70/100\n",
            "1875/1875 [==============================] - 8s 4ms/step - loss: 0.1711 - accuracy: 0.9359 - val_loss: 0.4058 - val_accuracy: 0.8801\n",
            "Epoch 71/100\n",
            "1875/1875 [==============================] - 8s 4ms/step - loss: 0.1737 - accuracy: 0.9342 - val_loss: 0.4435 - val_accuracy: 0.8669\n",
            "Epoch 72/100\n",
            "1875/1875 [==============================] - 8s 4ms/step - loss: 0.1723 - accuracy: 0.9350 - val_loss: 0.4109 - val_accuracy: 0.8783\n",
            "Epoch 73/100\n",
            "1875/1875 [==============================] - 8s 4ms/step - loss: 0.1703 - accuracy: 0.9359 - val_loss: 0.4193 - val_accuracy: 0.8783\n",
            "Epoch 74/100\n",
            "1875/1875 [==============================] - 8s 4ms/step - loss: 0.1685 - accuracy: 0.9356 - val_loss: 0.4122 - val_accuracy: 0.8796\n",
            "Epoch 75/100\n",
            "1875/1875 [==============================] - 8s 4ms/step - loss: 0.1675 - accuracy: 0.9364 - val_loss: 0.4036 - val_accuracy: 0.8782\n",
            "Epoch 76/100\n",
            "1875/1875 [==============================] - 8s 4ms/step - loss: 0.1695 - accuracy: 0.9359 - val_loss: 0.4195 - val_accuracy: 0.8790\n",
            "Epoch 77/100\n",
            "1875/1875 [==============================] - 8s 4ms/step - loss: 0.1713 - accuracy: 0.9356 - val_loss: 0.4361 - val_accuracy: 0.8702\n",
            "Epoch 78/100\n",
            "1875/1875 [==============================] - 8s 4ms/step - loss: 0.1643 - accuracy: 0.9377 - val_loss: 0.4262 - val_accuracy: 0.8772\n",
            "Epoch 79/100\n",
            "1875/1875 [==============================] - 8s 4ms/step - loss: 0.1686 - accuracy: 0.9372 - val_loss: 0.4129 - val_accuracy: 0.8802\n",
            "Epoch 80/100\n",
            "1875/1875 [==============================] - 8s 4ms/step - loss: 0.1645 - accuracy: 0.9374 - val_loss: 0.4211 - val_accuracy: 0.8785\n",
            "Epoch 81/100\n",
            "1875/1875 [==============================] - 8s 4ms/step - loss: 0.1664 - accuracy: 0.9370 - val_loss: 0.4274 - val_accuracy: 0.8772\n",
            "Epoch 82/100\n",
            "1875/1875 [==============================] - 8s 4ms/step - loss: 0.1627 - accuracy: 0.9384 - val_loss: 0.4460 - val_accuracy: 0.8757\n",
            "Epoch 83/100\n",
            "1875/1875 [==============================] - 8s 4ms/step - loss: 0.1636 - accuracy: 0.9369 - val_loss: 0.4428 - val_accuracy: 0.8777\n",
            "Epoch 84/100\n",
            "1875/1875 [==============================] - 8s 5ms/step - loss: 0.1648 - accuracy: 0.9378 - val_loss: 0.4218 - val_accuracy: 0.8760\n",
            "Epoch 85/100\n",
            "1875/1875 [==============================] - 9s 5ms/step - loss: 0.1636 - accuracy: 0.9384 - val_loss: 0.4239 - val_accuracy: 0.8786\n",
            "Epoch 86/100\n",
            "1875/1875 [==============================] - 8s 4ms/step - loss: 0.1654 - accuracy: 0.9373 - val_loss: 0.4402 - val_accuracy: 0.8772\n",
            "Epoch 87/100\n",
            "1875/1875 [==============================] - 8s 4ms/step - loss: 0.1610 - accuracy: 0.9387 - val_loss: 0.4305 - val_accuracy: 0.8797\n",
            "Epoch 88/100\n",
            "1875/1875 [==============================] - 8s 4ms/step - loss: 0.1593 - accuracy: 0.9401 - val_loss: 0.4537 - val_accuracy: 0.8763\n",
            "Epoch 89/100\n",
            "1875/1875 [==============================] - 8s 4ms/step - loss: 0.1597 - accuracy: 0.9407 - val_loss: 0.4315 - val_accuracy: 0.8763\n",
            "Epoch 90/100\n",
            "1875/1875 [==============================] - 8s 4ms/step - loss: 0.1607 - accuracy: 0.9391 - val_loss: 0.4252 - val_accuracy: 0.8775\n",
            "Epoch 91/100\n",
            "1875/1875 [==============================] - 8s 4ms/step - loss: 0.1619 - accuracy: 0.9393 - val_loss: 0.4550 - val_accuracy: 0.8746\n",
            "Epoch 92/100\n",
            "1875/1875 [==============================] - 8s 4ms/step - loss: 0.1621 - accuracy: 0.9389 - val_loss: 0.4280 - val_accuracy: 0.8789\n",
            "Epoch 93/100\n",
            "1875/1875 [==============================] - 8s 4ms/step - loss: 0.1595 - accuracy: 0.9389 - val_loss: 0.4226 - val_accuracy: 0.8800\n",
            "Epoch 94/100\n",
            "1875/1875 [==============================] - 8s 4ms/step - loss: 0.1599 - accuracy: 0.9393 - val_loss: 0.4335 - val_accuracy: 0.8785\n",
            "Epoch 95/100\n",
            "1875/1875 [==============================] - 8s 4ms/step - loss: 0.1604 - accuracy: 0.9395 - val_loss: 0.4265 - val_accuracy: 0.8801\n",
            "Epoch 96/100\n",
            "1875/1875 [==============================] - 8s 4ms/step - loss: 0.1586 - accuracy: 0.9394 - val_loss: 0.4530 - val_accuracy: 0.8791\n",
            "Epoch 97/100\n",
            "1875/1875 [==============================] - 8s 4ms/step - loss: 0.1578 - accuracy: 0.9403 - val_loss: 0.4429 - val_accuracy: 0.8797\n",
            "Epoch 98/100\n",
            "1875/1875 [==============================] - 8s 4ms/step - loss: 0.1590 - accuracy: 0.9395 - val_loss: 0.4357 - val_accuracy: 0.8763\n",
            "Epoch 99/100\n",
            "1875/1875 [==============================] - 8s 4ms/step - loss: 0.1570 - accuracy: 0.9415 - val_loss: 0.4283 - val_accuracy: 0.8775\n",
            "Epoch 100/100\n",
            "1875/1875 [==============================] - 8s 4ms/step - loss: 0.1576 - accuracy: 0.9409 - val_loss: 0.4290 - val_accuracy: 0.8824\n"
          ],
          "name": "stdout"
        },
        {
          "output_type": "execute_result",
          "data": {
            "text/plain": [
              "<tensorflow.python.keras.callbacks.History at 0x7faf802b47f0>"
            ]
          },
          "metadata": {
            "tags": []
          },
          "execution_count": 5
        }
      ]
    },
    {
      "cell_type": "code",
      "metadata": {
        "id": "uVE-jgTem3t7",
        "colab_type": "code",
        "colab": {}
      },
      "source": [
        ""
      ],
      "execution_count": null,
      "outputs": []
    }
  ]
}