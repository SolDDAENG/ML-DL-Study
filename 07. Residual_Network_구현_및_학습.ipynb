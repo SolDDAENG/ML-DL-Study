{
  "nbformat": 4,
  "nbformat_minor": 0,
  "metadata": {
    "kernelspec": {
      "display_name": "Python 3",
      "language": "python",
      "name": "python3"
    },
    "language_info": {
      "codemirror_mode": {
        "name": "ipython",
        "version": 3
      },
      "file_extension": ".py",
      "mimetype": "text/x-python",
      "name": "python",
      "nbconvert_exporter": "python",
      "pygments_lexer": "ipython3",
      "version": "3.7.3"
    },
    "colab": {
      "name": "07. Residual Network 구현 및 학습.ipynb",
      "provenance": [],
      "collapsed_sections": [],
      "toc_visible": true
    },
    "accelerator": "GPU"
  },
  "cells": [
    {
      "cell_type": "markdown",
      "metadata": {
        "id": "qsTNEALDc7tq",
        "colab_type": "text"
      },
      "source": [
        "## Residual Network 구현 및 학습"
      ]
    },
    {
      "cell_type": "code",
      "metadata": {
        "id": "mwmjXsyUc7tr",
        "colab_type": "code",
        "colab": {}
      },
      "source": [
        "import tensorflow as tf\n",
        "import numpy as np"
      ],
      "execution_count": 1,
      "outputs": []
    },
    {
      "cell_type": "markdown",
      "metadata": {
        "id": "xJiQz9Txc7tu",
        "colab_type": "text"
      },
      "source": [
        "## 하이퍼 파라미터"
      ]
    },
    {
      "cell_type": "code",
      "metadata": {
        "id": "TmYEbDQPc7tv",
        "colab_type": "code",
        "colab": {}
      },
      "source": [
        "EPOCHS = 10"
      ],
      "execution_count": 2,
      "outputs": []
    },
    {
      "cell_type": "markdown",
      "metadata": {
        "id": "vQP52kbpc7tx",
        "colab_type": "text"
      },
      "source": [
        "## Residual Unit 구현"
      ]
    },
    {
      "cell_type": "code",
      "metadata": {
        "id": "4ZIey0R5c7tx",
        "colab_type": "code",
        "colab": {}
      },
      "source": [
        "class ResidualUnit(tf.keras.Model):\n",
        "    def __init__(self, filter_in, filter_out, kernel_size):\n",
        "        super(ResidualUnit, self).__init__()\n",
        "        self.bn1 = tf.keras.layers.BatchNormalization()\n",
        "        self.conv1 = tf.keras.layers.Conv2D(filter_out, kernel_size, padding='same')\n",
        "        \n",
        "        self.bn2 = tf.keras.layers.BatchNormalization()\n",
        "        self.conv2 = tf.keras.layers.Conv2D(filter_out, kernel_size, padding='same')\n",
        "        \n",
        "        if filter_in == filter_out:\n",
        "          self.identity = lambda x: x\n",
        "        else:\n",
        "          self.identity = tf.keras.layers.Conv2D(filter_out, (1,1), padding='same')\n",
        "\n",
        "    def call(self, x, training=False, mask=None):\n",
        "        h = self.bn1(x, training=training)\n",
        "        h = tf.nn.relu(h)\n",
        "        h = self.conv1(h)\n",
        "        \n",
        "        h = self.bn2(h, training=training)\n",
        "        h = tf.nn.relu(h)\n",
        "        h = self.conv2(h)\n",
        "        return self.identity(x) + h"
      ],
      "execution_count": 3,
      "outputs": []
    },
    {
      "cell_type": "markdown",
      "metadata": {
        "id": "JQsVa6PPc7t0",
        "colab_type": "text"
      },
      "source": [
        "## Residual Layer 구현"
      ]
    },
    {
      "cell_type": "code",
      "metadata": {
        "id": "QzoITP_cc7t0",
        "colab_type": "code",
        "colab": {}
      },
      "source": [
        "class ResnetLayer(tf.keras.Model):\n",
        "    def __init__(self, filter_in, filters, kernel_size):\n",
        "        super(ResnetLayer, self).__init__()\n",
        "        self.sequence = list()\n",
        "        for f_in, f_out in zip([filter_in] + list(filters), filters):\n",
        "          # [16] + [32, 32, 32] ==> [16] : [filter_in], [32, 32, 32] : list(filters)\n",
        "          # zip([16, 32, 32, 32(마지막 32는 무시됨)], [32, 32, 32])\n",
        "          self.sequence.append(ResidualUnit(f_in, f_out, kernel_size))\n",
        "\n",
        "    def call(self, x, training=False, mask=None):\n",
        "        for unit in self.sequence:\n",
        "          x = unit(x, training=training)\n",
        "        return x"
      ],
      "execution_count": 4,
      "outputs": []
    },
    {
      "cell_type": "markdown",
      "metadata": {
        "id": "1nwjZTxZc7t2",
        "colab_type": "text"
      },
      "source": [
        "## 모델 정의"
      ]
    },
    {
      "cell_type": "code",
      "metadata": {
        "id": "Wd4QUyaVc7t3",
        "colab_type": "code",
        "colab": {}
      },
      "source": [
        "class ResNet(tf.keras.Model):\n",
        "    def __init__(self):\n",
        "        super(ResNet, self).__init__()\n",
        "        # 처음 입력에서 convolution해서 feature를 뽑는다. 초기에 한번 feature를 뽑아 그 feature로 부터 ResNet을 사용해야 더 효과적이다.\n",
        "        self.conv1 = tf.keras.layers.Conv2D(8, (3, 3), padding='same', activation='relu')  # mnist  # 28x28x8  # 8 : feature map의 갯수\n",
        "        \n",
        "        self.res1 = ResnetLayer(8, (16, 16), (3, 3))  # 28x28x16  # (16, 16) :16짜리 유닛 2개, kernel의 갯수(3, 3)\n",
        "        self.pool1 = tf.keras.layers.MaxPool2D((2, 2))  # 14x14x16  # feature map의 크기 줄이기\n",
        "        \n",
        "        self.res2 = ResnetLayer(16, (32, 32), (3, 3))  # 14x14x32\n",
        "        self.pool2 = tf.keras.layers.MaxPool2D((2, 2))  # 7x7x32\n",
        "\n",
        "        self.res3 = ResnetLayer(32, (64, 64), (3, 3))  # 7x7x64\n",
        "\n",
        "        self.flatten = tf.keras.layers.Flatten()\n",
        "        self.dense1 = tf.keras.layers.Dense(128, activation='relu')\n",
        "        self.dense2 = tf.keras.layers.Dense(10, activation='softmax')\n",
        "        \n",
        "\n",
        "    def call(self, x, training=False, mask=None):\n",
        "        x = self.conv1(x)\n",
        "\n",
        "        x = self.res1(x, training=training)  # ResNet layer는 training을 input으로 받기 때문에 반드시 적어줘야 한다.\n",
        "        x = self.pool1(x)\n",
        "        x = self.res2(x, training=training)\n",
        "        x = self.pool2(x)\n",
        "        x = self.res3(x, training=training)\n",
        "        \n",
        "        x = self.flatten(x)\n",
        "        x = self.dense1(x)\n",
        "        return self.dense2(x)\n"
      ],
      "execution_count": 5,
      "outputs": []
    },
    {
      "cell_type": "markdown",
      "metadata": {
        "id": "FcYkamtTc7t5",
        "colab_type": "text"
      },
      "source": [
        "## 학습, 테스트 루프 정의"
      ]
    },
    {
      "cell_type": "code",
      "metadata": {
        "id": "if5yX9cdc7t5",
        "colab_type": "code",
        "colab": {}
      },
      "source": [
        "# Implement training loop\n",
        "@tf.function\n",
        "def train_step(model, images, labels, loss_object, optimizer, train_loss, train_accuracy):\n",
        "    with tf.GradientTape() as tape:\n",
        "        predictions = model(images, training=True)\n",
        "        loss = loss_object(labels, predictions)\n",
        "    gradients = tape.gradient(loss, model.trainable_variables)\n",
        "\n",
        "    optimizer.apply_gradients(zip(gradients, model.trainable_variables))\n",
        "    train_loss(loss)\n",
        "    train_accuracy(labels, predictions)\n",
        "\n",
        "# Implement algorithm test\n",
        "@tf.function\n",
        "def test_step(model, images, labels, loss_object, test_loss, test_accuracy):\n",
        "    predictions = model(images, training=False)\n",
        "\n",
        "    t_loss = loss_object(labels, predictions)\n",
        "    test_loss(t_loss)\n",
        "    test_accuracy(labels, predictions)"
      ],
      "execution_count": 6,
      "outputs": []
    },
    {
      "cell_type": "markdown",
      "metadata": {
        "id": "eDX4Mugxc7t8",
        "colab_type": "text"
      },
      "source": [
        "## 데이터셋 준비\n"
      ]
    },
    {
      "cell_type": "code",
      "metadata": {
        "id": "NOJeC93Rc7t9",
        "colab_type": "code",
        "colab": {
          "base_uri": "https://localhost:8080/",
          "height": 51
        },
        "outputId": "6d7fb2e7-ea93-4f40-f959-5b61941c2aa7"
      },
      "source": [
        "mnist = tf.keras.datasets.mnist\n",
        "\n",
        "(x_train, y_train), (x_test, y_test) = mnist.load_data()\n",
        "x_train, x_test = x_train / 255.0, x_test / 255.0\n",
        "\n",
        "x_train = x_train[..., tf.newaxis].astype(np.float32)\n",
        "x_test = x_test[..., tf.newaxis].astype(np.float32)\n",
        "\n",
        "train_ds = tf.data.Dataset.from_tensor_slices((x_train, y_train)).shuffle(10000).batch(32)\n",
        "test_ds = tf.data.Dataset.from_tensor_slices((x_test, y_test)).batch(32)"
      ],
      "execution_count": 7,
      "outputs": [
        {
          "output_type": "stream",
          "text": [
            "Downloading data from https://storage.googleapis.com/tensorflow/tf-keras-datasets/mnist.npz\n",
            "11493376/11490434 [==============================] - 0s 0us/step\n"
          ],
          "name": "stdout"
        }
      ]
    },
    {
      "cell_type": "markdown",
      "metadata": {
        "id": "cVQbcocIc7t_",
        "colab_type": "text"
      },
      "source": [
        "## 학습 환경 정의\n",
        "### 모델 생성, 손실함수, 최적화 알고리즘, 평가지표 정의"
      ]
    },
    {
      "cell_type": "code",
      "metadata": {
        "id": "qaJxA2Kuc7t_",
        "colab_type": "code",
        "colab": {}
      },
      "source": [
        "# Create model\n",
        "model = ResNet()\n",
        "\n",
        "# Define loss and optimizer\n",
        "loss_object = tf.keras.losses.SparseCategoricalCrossentropy()\n",
        "optimizer = tf.keras.optimizers.Adam()\n",
        "\n",
        "# Define performance metrics\n",
        "train_loss = tf.keras.metrics.Mean(name='train_loss')\n",
        "train_accuracy = tf.keras.metrics.SparseCategoricalAccuracy(name='train_accuracy')\n",
        "\n",
        "test_loss = tf.keras.metrics.Mean(name='test_loss')\n",
        "test_accuracy = tf.keras.metrics.SparseCategoricalAccuracy(name='test_accuracy')"
      ],
      "execution_count": 8,
      "outputs": []
    },
    {
      "cell_type": "markdown",
      "metadata": {
        "id": "SfmDmRYEc7uB",
        "colab_type": "text"
      },
      "source": [
        "## 학습 루프 동작"
      ]
    },
    {
      "cell_type": "code",
      "metadata": {
        "id": "g2-eQc3-c7uB",
        "colab_type": "code",
        "colab": {
          "base_uri": "https://localhost:8080/",
          "height": 207
        },
        "outputId": "4fbfa3df-d19f-4809-aad7-aea6eda7e8f1"
      },
      "source": [
        "for epoch in range(EPOCHS):\n",
        "    for images, labels in train_ds:\n",
        "        train_step(model, images, labels, loss_object, optimizer, train_loss, train_accuracy)\n",
        "\n",
        "    for test_images, test_labels in test_ds:\n",
        "        test_step(model, test_images, test_labels, loss_object, test_loss, test_accuracy)\n",
        "\n",
        "    template = 'Epoch {}, Loss: {}, Accuracy: {}, Test Loss: {}, Test Accuracy: {}'\n",
        "    print(template.format(epoch + 1,\n",
        "                          train_loss.result(),\n",
        "                          train_accuracy.result() * 100,\n",
        "                          test_loss.result(),\n",
        "                          test_accuracy.result() * 100))\n",
        "    train_loss.reset_states()\n",
        "    train_accuracy.reset_states()\n",
        "    test_loss.reset_states()\n",
        "    test_accuracy.reset_states()"
      ],
      "execution_count": 9,
      "outputs": [
        {
          "output_type": "stream",
          "text": [
            "Epoch 1, Loss: 0.14478914439678192, Accuracy: 96.03499603271484, Test Loss: 0.07907935976982117, Test Accuracy: 97.58999633789062\n",
            "Epoch 2, Loss: 0.06722666323184967, Accuracy: 98.12166595458984, Test Loss: 0.10981276631355286, Test Accuracy: 96.98999786376953\n",
            "Epoch 3, Loss: 0.05058450624346733, Accuracy: 98.57666778564453, Test Loss: 0.03742533177137375, Test Accuracy: 98.8699951171875\n",
            "Epoch 4, Loss: 0.04202921688556671, Accuracy: 98.82166290283203, Test Loss: 0.05832957848906517, Test Accuracy: 98.50999450683594\n",
            "Epoch 5, Loss: 0.035763781517744064, Accuracy: 99.02832794189453, Test Loss: 0.05334093049168587, Test Accuracy: 98.4000015258789\n",
            "Epoch 6, Loss: 0.03163231536746025, Accuracy: 99.1050033569336, Test Loss: 0.05239499360322952, Test Accuracy: 98.58000183105469\n",
            "Epoch 7, Loss: 0.02604975737631321, Accuracy: 99.27666473388672, Test Loss: 0.02839118055999279, Test Accuracy: 99.19000244140625\n",
            "Epoch 8, Loss: 0.02280566655099392, Accuracy: 99.32167053222656, Test Loss: 0.03339657559990883, Test Accuracy: 99.19000244140625\n",
            "Epoch 9, Loss: 0.02224896289408207, Accuracy: 99.36833190917969, Test Loss: 0.055412061512470245, Test Accuracy: 98.48999786376953\n",
            "Epoch 10, Loss: 0.019449401646852493, Accuracy: 99.45166778564453, Test Loss: 0.04974329471588135, Test Accuracy: 98.9000015258789\n"
          ],
          "name": "stdout"
        }
      ]
    },
    {
      "cell_type": "code",
      "metadata": {
        "id": "R1Wo-OuLkZvv",
        "colab_type": "code",
        "colab": {}
      },
      "source": [
        ""
      ],
      "execution_count": 9,
      "outputs": []
    }
  ]
}
