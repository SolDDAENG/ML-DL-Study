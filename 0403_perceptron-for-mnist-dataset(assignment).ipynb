{
 "cells": [
  {
   "cell_type": "markdown",
   "metadata": {},
   "source": [
    "## Prerequisites"
   ]
  },
  {
   "cell_type": "markdown",
   "metadata": {},
   "source": [
    "먼저 이번 과제에서 사용할 패키지들을 가져오도록 하겠습니다. 지난 과제와 마찬가지로, 우선 Numpy와 Pandas를 불러옵니다."
   ]
  },
  {
   "cell_type": "code",
   "execution_count": 1,
   "metadata": {},
   "outputs": [],
   "source": [
    "import numpy as np\n",
    "import pandas as pd"
   ]
  },
  {
   "cell_type": "markdown",
   "metadata": {},
   "source": [
    "MNIST 데이터의 경우 압축파일의 형태로 다운받아 처리할 수 있습니다. 그러나 이를 파이썬으로 처음부터 처리하기에는 귀찮은 점이 많습니다. 파이썬의 딥러닝 라이브러리들은 대부분 MNIST 데이터들을 자체적으로 가져오는 함수를 가지고 있습니다. 따라서 이번 과제에서는 다른 패키지를 통해 데이터를 가져오도록 하겠습니다. 특히 그 중에서도 Keras라는 라이브러리를 사용할 것입니다.\n",
    "\n",
    "Keras는 Tensorflow라는 또 다른 딥러닝 라이브러리를 사용하기 편하게 만들어준 것입니다. 따라서 우리는 총 두 개, Tensorflow와 Keras를 설치할 것입니다. 사용하시는 환경에 따라서 설치하는데 시간이 좀 걸릴 수도 있으니 기다려주세요."
   ]
  },
  {
   "cell_type": "code",
   "execution_count": 2,
   "metadata": {},
   "outputs": [
    {
     "name": "stdout",
     "output_type": "stream",
     "text": [
      "Requirement already satisfied: tensorflow in /Users/choehansol/opt/anaconda3/lib/python3.7/site-packages (2.2.0)\n",
      "Requirement already satisfied: wrapt>=1.11.1 in /Users/choehansol/opt/anaconda3/lib/python3.7/site-packages (from tensorflow) (1.12.1)\n",
      "Requirement already satisfied: tensorflow-estimator<2.3.0,>=2.2.0 in /Users/choehansol/opt/anaconda3/lib/python3.7/site-packages (from tensorflow) (2.2.0)\n",
      "Requirement already satisfied: grpcio>=1.8.6 in /Users/choehansol/opt/anaconda3/lib/python3.7/site-packages (from tensorflow) (1.30.0)\n",
      "Requirement already satisfied: wheel>=0.26; python_version >= \"3\" in /Users/choehansol/opt/anaconda3/lib/python3.7/site-packages (from tensorflow) (0.34.2)\n",
      "Requirement already satisfied: astunparse==1.6.3 in /Users/choehansol/opt/anaconda3/lib/python3.7/site-packages (from tensorflow) (1.6.3)\n",
      "Requirement already satisfied: scipy==1.4.1; python_version >= \"3\" in /Users/choehansol/opt/anaconda3/lib/python3.7/site-packages (from tensorflow) (1.4.1)\n",
      "Requirement already satisfied: h5py<2.11.0,>=2.10.0 in /Users/choehansol/opt/anaconda3/lib/python3.7/site-packages (from tensorflow) (2.10.0)\n",
      "Requirement already satisfied: google-pasta>=0.1.8 in /Users/choehansol/opt/anaconda3/lib/python3.7/site-packages (from tensorflow) (0.2.0)\n",
      "Requirement already satisfied: termcolor>=1.1.0 in /Users/choehansol/opt/anaconda3/lib/python3.7/site-packages (from tensorflow) (1.1.0)\n",
      "Requirement already satisfied: keras-preprocessing>=1.1.0 in /Users/choehansol/opt/anaconda3/lib/python3.7/site-packages (from tensorflow) (1.1.2)\n",
      "Requirement already satisfied: absl-py>=0.7.0 in /Users/choehansol/opt/anaconda3/lib/python3.7/site-packages (from tensorflow) (0.9.0)\n",
      "Requirement already satisfied: opt-einsum>=2.3.2 in /Users/choehansol/opt/anaconda3/lib/python3.7/site-packages (from tensorflow) (3.2.1)\n",
      "Requirement already satisfied: six>=1.12.0 in /Users/choehansol/opt/anaconda3/lib/python3.7/site-packages (from tensorflow) (1.15.0)\n",
      "Requirement already satisfied: numpy<2.0,>=1.16.0 in /Users/choehansol/opt/anaconda3/lib/python3.7/site-packages (from tensorflow) (1.19.0)\n",
      "Requirement already satisfied: protobuf>=3.8.0 in /Users/choehansol/opt/anaconda3/lib/python3.7/site-packages (from tensorflow) (3.12.2)\n",
      "Requirement already satisfied: gast==0.3.3 in /Users/choehansol/opt/anaconda3/lib/python3.7/site-packages (from tensorflow) (0.3.3)\n",
      "Requirement already satisfied: tensorboard<2.3.0,>=2.2.0 in /Users/choehansol/opt/anaconda3/lib/python3.7/site-packages (from tensorflow) (2.2.2)\n",
      "Requirement already satisfied: setuptools in /Users/choehansol/opt/anaconda3/lib/python3.7/site-packages (from protobuf>=3.8.0->tensorflow) (46.0.0.post20200308)\n",
      "Requirement already satisfied: tensorboard-plugin-wit>=1.6.0 in /Users/choehansol/opt/anaconda3/lib/python3.7/site-packages (from tensorboard<2.3.0,>=2.2.0->tensorflow) (1.6.0.post3)\n",
      "Requirement already satisfied: google-auth<2,>=1.6.3 in /Users/choehansol/opt/anaconda3/lib/python3.7/site-packages (from tensorboard<2.3.0,>=2.2.0->tensorflow) (1.18.0)\n",
      "Requirement already satisfied: google-auth-oauthlib<0.5,>=0.4.1 in /Users/choehansol/opt/anaconda3/lib/python3.7/site-packages (from tensorboard<2.3.0,>=2.2.0->tensorflow) (0.4.1)\n",
      "Requirement already satisfied: markdown>=2.6.8 in /Users/choehansol/opt/anaconda3/lib/python3.7/site-packages (from tensorboard<2.3.0,>=2.2.0->tensorflow) (3.2.2)\n",
      "Requirement already satisfied: requests<3,>=2.21.0 in /Users/choehansol/opt/anaconda3/lib/python3.7/site-packages (from tensorboard<2.3.0,>=2.2.0->tensorflow) (2.24.0)\n",
      "Requirement already satisfied: werkzeug>=0.11.15 in /Users/choehansol/opt/anaconda3/lib/python3.7/site-packages (from tensorboard<2.3.0,>=2.2.0->tensorflow) (1.0.1)\n",
      "Requirement already satisfied: cachetools<5.0,>=2.0.0 in /Users/choehansol/opt/anaconda3/lib/python3.7/site-packages (from google-auth<2,>=1.6.3->tensorboard<2.3.0,>=2.2.0->tensorflow) (4.1.0)\n",
      "Requirement already satisfied: rsa<5,>=3.1.4; python_version >= \"3\" in /Users/choehansol/opt/anaconda3/lib/python3.7/site-packages (from google-auth<2,>=1.6.3->tensorboard<2.3.0,>=2.2.0->tensorflow) (4.6)\n",
      "Requirement already satisfied: pyasn1-modules>=0.2.1 in /Users/choehansol/opt/anaconda3/lib/python3.7/site-packages (from google-auth<2,>=1.6.3->tensorboard<2.3.0,>=2.2.0->tensorflow) (0.2.8)\n",
      "Requirement already satisfied: requests-oauthlib>=0.7.0 in /Users/choehansol/opt/anaconda3/lib/python3.7/site-packages (from google-auth-oauthlib<0.5,>=0.4.1->tensorboard<2.3.0,>=2.2.0->tensorflow) (1.3.0)\n",
      "Requirement already satisfied: importlib-metadata; python_version < \"3.8\" in /Users/choehansol/opt/anaconda3/lib/python3.7/site-packages (from markdown>=2.6.8->tensorboard<2.3.0,>=2.2.0->tensorflow) (1.6.1)\n",
      "Requirement already satisfied: certifi>=2017.4.17 in /Users/choehansol/opt/anaconda3/lib/python3.7/site-packages (from requests<3,>=2.21.0->tensorboard<2.3.0,>=2.2.0->tensorflow) (2020.6.20)\n",
      "Requirement already satisfied: chardet<4,>=3.0.2 in /Users/choehansol/opt/anaconda3/lib/python3.7/site-packages (from requests<3,>=2.21.0->tensorboard<2.3.0,>=2.2.0->tensorflow) (3.0.4)\n",
      "Requirement already satisfied: idna<3,>=2.5 in /Users/choehansol/opt/anaconda3/lib/python3.7/site-packages (from requests<3,>=2.21.0->tensorboard<2.3.0,>=2.2.0->tensorflow) (2.8)\n",
      "Requirement already satisfied: urllib3!=1.25.0,!=1.25.1,<1.26,>=1.21.1 in /Users/choehansol/opt/anaconda3/lib/python3.7/site-packages (from requests<3,>=2.21.0->tensorboard<2.3.0,>=2.2.0->tensorflow) (1.25.9)\n",
      "Requirement already satisfied: pyasn1>=0.1.3 in /Users/choehansol/opt/anaconda3/lib/python3.7/site-packages (from rsa<5,>=3.1.4; python_version >= \"3\"->google-auth<2,>=1.6.3->tensorboard<2.3.0,>=2.2.0->tensorflow) (0.4.8)\n",
      "Requirement already satisfied: oauthlib>=3.0.0 in /Users/choehansol/opt/anaconda3/lib/python3.7/site-packages (from requests-oauthlib>=0.7.0->google-auth-oauthlib<0.5,>=0.4.1->tensorboard<2.3.0,>=2.2.0->tensorflow) (3.1.0)\n",
      "Requirement already satisfied: zipp>=0.5 in /Users/choehansol/opt/anaconda3/lib/python3.7/site-packages (from importlib-metadata; python_version < \"3.8\"->markdown>=2.6.8->tensorboard<2.3.0,>=2.2.0->tensorflow) (3.1.0)\n"
     ]
    }
   ],
   "source": [
    "# 파이썬을 아나콘다로 설치한 경우, 아래 명령어 대신 아나콘다 네비게이터(Anaconda Navigator)를 실행한 뒤\n",
    "# 좌측의 환경(Environment) 탭에서 설치할 수 있습니다.\n",
    "!pip install tensorflow"
   ]
  },
  {
   "cell_type": "code",
   "execution_count": 3,
   "metadata": {},
   "outputs": [
    {
     "name": "stdout",
     "output_type": "stream",
     "text": [
      "Requirement already satisfied: keras in /Users/choehansol/opt/anaconda3/lib/python3.7/site-packages (2.2.4)\r\n",
      "Requirement already satisfied: scipy>=0.14 in /Users/choehansol/opt/anaconda3/lib/python3.7/site-packages (from keras) (1.4.1)\r\n",
      "Requirement already satisfied: numpy>=1.9.1 in /Users/choehansol/opt/anaconda3/lib/python3.7/site-packages (from keras) (1.19.0)\r\n",
      "Requirement already satisfied: pyyaml in /Users/choehansol/opt/anaconda3/lib/python3.7/site-packages (from keras) (5.3)\r\n",
      "Requirement already satisfied: keras-preprocessing>=1.0.5 in /Users/choehansol/opt/anaconda3/lib/python3.7/site-packages (from keras) (1.1.2)\r\n",
      "Requirement already satisfied: keras-applications>=1.0.6 in /Users/choehansol/opt/anaconda3/lib/python3.7/site-packages (from keras) (1.0.8)\r\n",
      "Requirement already satisfied: six>=1.9.0 in /Users/choehansol/opt/anaconda3/lib/python3.7/site-packages (from keras) (1.15.0)\r\n",
      "Requirement already satisfied: h5py in /Users/choehansol/opt/anaconda3/lib/python3.7/site-packages (from keras) (2.10.0)\r\n"
     ]
    }
   ],
   "source": [
    "# 파이썬을 아나콘다로 설치한 경우, 아래 명령어 대신 아나콘다 네비게이터(Anaconda Navigator)를 실행한 뒤\n",
    "# 좌측의 환경(Environment) 탭에서 설치할 수 있습니다.\n",
    "!pip install keras"
   ]
  },
  {
   "cell_type": "markdown",
   "metadata": {},
   "source": [
    "## MNIST Dataset\n",
    "\n",
    "이번 과제는 [MNIST 필기체 데이터셋](http://yann.lecun.com/exdb/mnist/)을 활용하여 필기체 이미지를 인식하는 이미지 인식 알고리즘을 Single-layer Neural Network로 작성합니다.\n",
    "\n",
    "가로 28px, 세로 28px의 필기체 이미지가 주어지며, 필기체는 숫자 0부터 9까지 총 10개의 Label로 구성되어 있습니다. 이미지는 컬러가 없는 흑백 데이터이며, 한 픽셀의 값은 0 ~ 255 입니다. (0일수록 어둡고, 255일수록 밝습니다)\n",
    "\n",
    "데이터는 60,000개의 Train 데이터와 10,000개의 Test 데이터가 주어지는데, Train 데이터로 Single-layer Neural Network를 학습한 뒤 Test 데이터로 정확도(accuracy)를 측정합니다. 각 변수의 세부 정보는 다음과 같습니다.\n",
    "\n",
    "  * **X_train**: **Train 데이터의 Feature** 입니다. 가로 28px, 세로 28px, 총 60,000개의 데이터로 구성되어 있습니다. 픽셀 하나의 값은 0 ~ 255 입니다. (0일수록 어둡고, 255일수록 밝습니다)\n",
    "  * **y_train**: **Train 데이터의 Label** 입니다. 총 60,000 개이며, 이미지가 어떤 숫자를 나타내는지가 적혀 있습니다. 값은 0부터 9까지 입니다.\n",
    "  * **X_test**: **Test 데이터의 Feature** 입니다. 가로 28px, 세로 28px, 총 10,000개의 데이터로 구성되어 있습니다. 픽셀 하나의 값은 0 ~ 255 입니다. (0일수록 어둡고, 255일수록 밝습니다)\n",
    "  * **y_test**: **Test 데이터의 Label** 입니다. 총 10,000 개이며, 이미지가 어떤 숫자를 나타내는지가 적혀 있습니다. 값은 0부터 9까지 입니다.\n",
    "  \n",
    "** 주의 사항 **\n",
    "  * 이전에 Iris Dataset 문제를 풀었던 코드를 조금만 응용하면 매우 쉽게 MNIST 데이터셋 문제를 풀 수 있습니다.\n",
    "  * accuracy가 잘 올라가지 않고 그 이유를 잘 모르겠다면, Loss Function(=Cross Entropy)를 병행해서 사용해보세요. 앞서 언급드린대로 Loss Function은 \"학습이 잘 될수록 0에 수렴하고, 학습이 잘 되지 않을수록 무한대로 발산합니다.\" 즉, Loss Function을 사용할 때 결과가 무한대로 발산하고 있다면 무언가 제대로 풀리지 않고 있다는 것입니다."
   ]
  },
  {
   "cell_type": "markdown",
   "metadata": {},
   "source": [
    "위에서 다운받은 라이브러리로 MNIST 데이터를 불러오도록 하겠습니다. 데이터를 자체적으로 다운받아 처리하니 마찬가지로 시간이 좀 걸릴 수 있습니다."
   ]
  },
  {
   "cell_type": "code",
   "execution_count": 4,
   "metadata": {},
   "outputs": [
    {
     "name": "stderr",
     "output_type": "stream",
     "text": [
      "Using TensorFlow backend.\n"
     ]
    },
    {
     "name": "stdout",
     "output_type": "stream",
     "text": [
      "(60000, 28, 28) (10000, 28, 28)\n",
      "(60000,) (10000,)\n"
     ]
    }
   ],
   "source": [
    "from keras.datasets import mnist\n",
    "\n",
    "((X_train, y_train), (X_test, y_test)) = mnist.load_data() # 데이터를 불러옵니다.\n",
    "\n",
    "# 불러온 데이터가 어떠한 형태인지 출력합니다.\n",
    "print(X_train.shape, X_test.shape)\n",
    "print(y_train.shape, y_test.shape)"
   ]
  },
  {
   "cell_type": "markdown",
   "metadata": {},
   "source": [
    "Train 데이터는 총 6만개, Test 데이터는 총 만 개가 있음을 볼 수 있습니다. 몇 개를 가져와 어떤 형태로 데이터가 생겼는지 확인해보겠습니다.\n",
    "\n",
    "간단한 시각화를 위해서 matplotlib을 사용하도록 하겠습니다."
   ]
  },
  {
   "cell_type": "code",
   "execution_count": 5,
   "metadata": {},
   "outputs": [
    {
     "name": "stdout",
     "output_type": "stream",
     "text": [
      "[5 0 4 1 9 2 1 3 1 4]\n"
     ]
    },
    {
     "data": {
      "text/plain": [
       "<matplotlib.image.AxesImage at 0x15a1928d0>"
      ]
     },
     "execution_count": 5,
     "metadata": {},
     "output_type": "execute_result"
    },
    {
     "data": {
      "text/plain": [
       "<Figure size 432x288 with 0 Axes>"
      ]
     },
     "metadata": {},
     "output_type": "display_data"
    },
    {
     "data": {
      "image/png": "[encoded data removed]",
      "text/plain": [
       "<Figure size 1296x576 with 10 Axes>"
      ]
     },
     "metadata": {
      "needs_background": "light"
     },
     "output_type": "display_data"
    }
   ],
   "source": [
    "# matplotlib을 불러옵니다.\n",
    "%matplotlib inline\n",
    "import matplotlib.pyplot as plt\n",
    "\n",
    "# mnist 데이터는 흑백의 데이터니 이를 명시해주겠습니다.\n",
    "plt.gray()\n",
    "\n",
    "# 비교를 위해서 정답 label을 가져옵니다. 곧 각 X는 각 y와 같아야합니다.\n",
    "print(y_train[0:10])\n",
    "\n",
    "# 10개를 가져와 시각화합니다.\n",
    "figures, axes = plt.subplots(nrows=2, ncols=5)\n",
    "figures.set_size_inches(18, 8)\n",
    "\n",
    "axes[0][0].matshow(X_train[0])\n",
    "axes[0][1].matshow(X_train[1])\n",
    "axes[0][2].matshow(X_train[2])\n",
    "axes[0][3].matshow(X_train[3])\n",
    "axes[0][4].matshow(X_train[4])\n",
    "axes[1][0].matshow(X_train[5])\n",
    "axes[1][1].matshow(X_train[6])\n",
    "axes[1][2].matshow(X_train[7])\n",
    "axes[1][3].matshow(X_train[8])\n",
    "axes[1][4].matshow(X_train[9])"
   ]
  },
  {
   "cell_type": "markdown",
   "metadata": {},
   "source": [
    "lable은 0~9의 숫자로 저장되어 있다는 것을 확인할 수 있습니다."
   ]
  },
  {
   "cell_type": "markdown",
   "metadata": {},
   "source": [
    "## Preprocessing\n",
    "\n",
    "본격적으로 학습을 시작하기 전에, 몇 가지 간단한 전처리를 해주겠습니다. Train과 Test의 데이터들은 28 x 28의 2차원 데이터입니다. 우리는 아직 2차원 등의 고차원 데이터를 다루는 법을 배우지 않았으므로, 여기에서는 2차원의 데이터를 1차원으로 처리해주도록 하겠습니다."
   ]
  },
  {
   "cell_type": "code",
   "execution_count": 6,
   "metadata": {},
   "outputs": [
    {
     "name": "stdout",
     "output_type": "stream",
     "text": [
      "(60000, 784) (10000, 784)\n"
     ]
    }
   ],
   "source": [
    "X_train = X_train.reshape(60000, 28 * 28) # X_train = (60000, 28, 28)입니다. 이를 1차원으로 바꿔줍니다\n",
    "X_test = X_test.reshape(10000, 28 * 28)\n",
    "\n",
    "print(X_train.shape, X_test.shape)"
   ]
  },
  {
   "cell_type": "markdown",
   "metadata": {},
   "source": [
    "이제 28x28의 2차원 데이터는 784의 1차원 데이터가 되었습니다. 이제는 Iris 데이터와 비슷한 방식으로 처리해줄 수 있죠. 손글씨가 어떤 숫자인지 확인할 수 있는 feature(column)가 총 784개 있다고 생각할 수 있습니다. 또한 저번과 마찬가지로 lable을 One-hot encoding해주도록 하겠습니다. 지난 과제에서는 Numpy를 이용해 이를 처리했는데요, Keras에도 비슷한 역할을 하는 함수가 있으니, 이번에는 이를 이용해보겠습니다."
   ]
  },
  {
   "cell_type": "code",
   "execution_count": 7,
   "metadata": {},
   "outputs": [
    {
     "name": "stdout",
     "output_type": "stream",
     "text": [
      "(60000, 10)\n",
      "(10000, 10)\n"
     ]
    }
   ],
   "source": [
    "from keras.utils import to_categorical\n",
    "\n",
    "# One hot encoding을 합니다.\n",
    "# y_train_hot = np.eye(10)[y_train]\n",
    "y_train_hot = to_categorical(y_train)\n",
    "# y_test_hot = np.eye(10)[y_test]\n",
    "y_test_hot = to_categorical(y_test)\n",
    "\n",
    "print(y_train_hot.shape)\n",
    "print(y_test_hot.shape)"
   ]
  },
  {
   "cell_type": "code",
   "execution_count": 8,
   "metadata": {},
   "outputs": [
    {
     "name": "stdout",
     "output_type": "stream",
     "text": [
      "[5 0 4 1 9 2 1 3 1 4]\n",
      "[[0. 0. 0. 0. 0. 1. 0. 0. 0. 0.]\n",
      " [1. 0. 0. 0. 0. 0. 0. 0. 0. 0.]\n",
      " [0. 0. 0. 0. 1. 0. 0. 0. 0. 0.]\n",
      " [0. 1. 0. 0. 0. 0. 0. 0. 0. 0.]\n",
      " [0. 0. 0. 0. 0. 0. 0. 0. 0. 1.]\n",
      " [0. 0. 1. 0. 0. 0. 0. 0. 0. 0.]\n",
      " [0. 1. 0. 0. 0. 0. 0. 0. 0. 0.]\n",
      " [0. 0. 0. 1. 0. 0. 0. 0. 0. 0.]\n",
      " [0. 1. 0. 0. 0. 0. 0. 0. 0. 0.]\n",
      " [0. 0. 0. 0. 1. 0. 0. 0. 0. 0.]]\n"
     ]
    }
   ],
   "source": [
    "print(y_train[0:10])\n",
    "print(y_train_hot[0:10])"
   ]
  },
  {
   "cell_type": "markdown",
   "metadata": {},
   "source": [
    "실행한 결과, One-hot encoding되어 있음을 볼 수 있습니다."
   ]
  },
  {
   "cell_type": "markdown",
   "metadata": {},
   "source": [
    "### Define Sigmoid\n",
    "\n",
    "저번과 마찬가지로 시그모이드를 이용해 문제를 풀어보겠습니다. 시그모이드를 정의해줍니다."
   ]
  },
  {
   "cell_type": "code",
   "execution_count": 9,
   "metadata": {},
   "outputs": [],
   "source": [
    "def sigmoid(x):\n",
    "    return 1 / (1 + np.exp(-x))"
   ]
  },
  {
   "cell_type": "code",
   "execution_count": 10,
   "metadata": {},
   "outputs": [
    {
     "data": {
      "text/plain": [
       "[<matplotlib.lines.Line2D at 0x159de5890>]"
      ]
     },
     "execution_count": 10,
     "metadata": {},
     "output_type": "execute_result"
    },
    {
     "data": {
      "image/png": "[encoded data removed]",
      "text/plain": [
       "<Figure size 432x288 with 1 Axes>"
      ]
     },
     "metadata": {
      "needs_background": "light"
     },
     "output_type": "display_data"
    }
   ],
   "source": [
    "xx = np.linspace(-10, 10, num=21)\n",
    "yy = sigmoid(xx)\n",
    "\n",
    "plt.plot(xx, yy)"
   ]
  },
  {
   "cell_type": "markdown",
   "metadata": {},
   "source": [
    "### Define Cross-Entropy\n",
    "\n",
    "분류 문제에서는 Cross Entropy라는 Loss를 사용합니다. 이를 식으로 표현하면 아래와 같습니다.\n",
    "\n",
    "$$\\text{Cross Entropy} = \\sum_i {- y_i * \\log(\\hat{y}_i)} $$\n",
    "\n",
    "$y_i$는 0 또는 1의 값을 갖는, One-hot Encoding된 정답이며, $\\hat{y}_i$는 네트워크가 만들어낸 예측치입니다. 정답일 때(곧 $y_i$가 1일 때) 우리의 모델이 예측한 값이 1에 가까울수록(곧 데이터가 이 분류에 속할 것이라고 예측한 확률이 1에 가까울수록) loss는 줄어들게 됩니다."
   ]
  },
  {
   "cell_type": "code",
   "execution_count": 11,
   "metadata": {},
   "outputs": [],
   "source": [
    "def cross_entropy(actual, predict, eps=1e-15):\n",
    "    # 실제 값과 예측 값을 Numpy 배열로 바꿔줍니다.\n",
    "    actual = np.array(actual)\n",
    "    predict = np.array(predict)\n",
    "    \n",
    "    # 0이 log에 들어가게 되면 무한대로 발산해버릴 수 있으니  아주 작은 값을 넣어 이를 방지합니다.\n",
    "    clipped_predict = np.minimum(np.maximum(predict, eps), 1 - eps)\n",
    "    \n",
    "    # 실질적인 Loss를 계산합니다\n",
    "    loss = actual * np.log(clipped_predict) + (1 - actual) * np.log(1 - clipped_predict)\n",
    "    \n",
    "    return -1.0 * loss.mean()"
   ]
  },
  {
   "cell_type": "markdown",
   "metadata": {},
   "source": [
    "### Gradient Descent\n",
    "\n",
    "이제 본격적으로 학습을 진행하도록 해보겠습니다. 총 feature는 784개이며, 이 feature들을 이용해 우리는 10개의 lable(0~9) 중에 데이터가 어디에 속하는지를 예측해야 합니다."
   ]
  },
  {
   "cell_type": "code",
   "execution_count": 34,
   "metadata": {},
   "outputs": [
    {
     "name": "stderr",
     "output_type": "stream",
     "text": [
      "/Users/choehansol/opt/anaconda3/lib/python3.7/site-packages/ipykernel_launcher.py:2: RuntimeWarning: overflow encountered in exp\n",
      "  \n"
     ]
    },
    {
     "name": "stdout",
     "output_type": "stream",
     "text": [
      "0 accuracy = 0.114067\n",
      "10 accuracy = 0.644517\n",
      "20 accuracy = 0.759667\n",
      "------------------------------\n",
      "28 accuracy = 0.816067\n"
     ]
    }
   ],
   "source": [
    "num_epoch = 100\n",
    "learning_rate = 1.0\n",
    "\n",
    "num_data = X_train.shape[0]\n",
    "\n",
    "w = np.random.uniform(low=-1.0, high=1.0, size=(10, 784)) # w와 b를 초기화합니다. 784개의 feature를 사용해 10개의 lable을 예측해야하므로 784, 10입니다\n",
    "b = np.random.uniform(low=-1.0, high=1.0, size=(10, 1))\n",
    "\n",
    "for epoch in range(num_epoch):\n",
    "    # Write your code!\n",
    "    y_predict_hot = np.dot(w, X_train.T) + b\n",
    "    y_predict_hot = sigmoid(y_predict_hot)  # 시그모이드 대신 소프트맥스에 넣어줍니다.\n",
    "    \n",
    "    y_predict = np.argmax(y_predict_hot, axis = 0)  # 이를 argmax에 넣어 최종적으로 어떤 종에 속할지를 예측하도록\n",
    "    accuracy = (y_predict == y_train).mean()  # 예측한 label과 실제 값이 일치하는지를 확인합니다.\n",
    "    if accuracy > 0.8:\n",
    "        break\n",
    "    \n",
    "    if epoch % 10 == 0:  # 일정 시간마다 학습 경과를 출력\n",
    "        print(f\"{epoch} accuracy = {accuracy:.6f}\")\n",
    "    \n",
    "    w = w - learning_rate * np.dot((y_predict_hot - y_train_hot.T), X_train) / num_data  \n",
    "    # dot product를 하면 시그마까지만 된것. 그래서 1/m을 적용하기 위해 num_data로 나눈다.\n",
    "    b = b - learning_rate * (y_predict_hot - y_train_hot.T).mean(axis = 1, keepdims = True)\n",
    "    # (3,)이런 모양이라 (3, 1)로 맞춰주기 위해 keepdims = True => 이렇게 안해주면 나중에 문제가 생길 수 있다.\n",
    "    \n",
    "print('---' * 10)\n",
    "print(f\"{epoch} accuracy = {accuracy:.6f}\")"
   ]
  },
  {
   "cell_type": "markdown",
   "metadata": {},
   "source": [
    "## Evaluate\n",
    "\n",
    "학습이 끝났으니 모델이 잘 동작하고 있는지 확인해봅시다."
   ]
  },
  {
   "cell_type": "markdown",
   "metadata": {},
   "source": [
    "### Train\n",
    "\n",
    "pandas를 이용해 실제 정답과 예측치를 비교하고, 정확도를 계산해봅니다."
   ]
  },
  {
   "cell_type": "code",
   "execution_count": 35,
   "metadata": {},
   "outputs": [
    {
     "name": "stdout",
     "output_type": "stream",
     "text": [
      "Accuracy(train) = 0.81607\n",
      "(60000, 2)\n"
     ]
    },
    {
     "name": "stderr",
     "output_type": "stream",
     "text": [
      "/Users/choehansol/opt/anaconda3/lib/python3.7/site-packages/ipykernel_launcher.py:2: RuntimeWarning: overflow encountered in exp\n",
      "  \n"
     ]
    },
    {
     "data": {
      "text/html": [
       "<div>\n",
       "<style scoped>\n",
       "    .dataframe tbody tr th:only-of-type {\n",
       "        vertical-align: middle;\n",
       "    }\n",
       "\n",
       "    .dataframe tbody tr th {\n",
       "        vertical-align: top;\n",
       "    }\n",
       "\n",
       "    .dataframe thead th {\n",
       "        text-align: right;\n",
       "    }\n",
       "</style>\n",
       "<table border=\"1\" class=\"dataframe\">\n",
       "  <thead>\n",
       "    <tr style=\"text-align: right;\">\n",
       "      <th></th>\n",
       "      <th>actual</th>\n",
       "      <th>predict</th>\n",
       "    </tr>\n",
       "  </thead>\n",
       "  <tbody>\n",
       "    <tr>\n",
       "      <th>0</th>\n",
       "      <td>5</td>\n",
       "      <td>3</td>\n",
       "    </tr>\n",
       "    <tr>\n",
       "      <th>1</th>\n",
       "      <td>0</td>\n",
       "      <td>0</td>\n",
       "    </tr>\n",
       "    <tr>\n",
       "      <th>2</th>\n",
       "      <td>4</td>\n",
       "      <td>4</td>\n",
       "    </tr>\n",
       "    <tr>\n",
       "      <th>3</th>\n",
       "      <td>1</td>\n",
       "      <td>1</td>\n",
       "    </tr>\n",
       "    <tr>\n",
       "      <th>4</th>\n",
       "      <td>9</td>\n",
       "      <td>9</td>\n",
       "    </tr>\n",
       "    <tr>\n",
       "      <th>5</th>\n",
       "      <td>2</td>\n",
       "      <td>2</td>\n",
       "    </tr>\n",
       "    <tr>\n",
       "      <th>6</th>\n",
       "      <td>1</td>\n",
       "      <td>1</td>\n",
       "    </tr>\n",
       "    <tr>\n",
       "      <th>7</th>\n",
       "      <td>3</td>\n",
       "      <td>3</td>\n",
       "    </tr>\n",
       "    <tr>\n",
       "      <th>8</th>\n",
       "      <td>1</td>\n",
       "      <td>1</td>\n",
       "    </tr>\n",
       "    <tr>\n",
       "      <th>9</th>\n",
       "      <td>4</td>\n",
       "      <td>4</td>\n",
       "    </tr>\n",
       "  </tbody>\n",
       "</table>\n",
       "</div>"
      ],
      "text/plain": [
       "   actual  predict\n",
       "0       5        3\n",
       "1       0        0\n",
       "2       4        4\n",
       "3       1        1\n",
       "4       9        9\n",
       "5       2        2\n",
       "6       1        1\n",
       "7       3        3\n",
       "8       1        1\n",
       "9       4        4"
      ]
     },
     "execution_count": 35,
     "metadata": {},
     "output_type": "execute_result"
    }
   ],
   "source": [
    "# y의 예측치를 만들어냅니다.\n",
    "y_predict_hot = np.dot(w, X_train.T) + b\n",
    "y_predict_hot = sigmoid(y_predict_hot)\n",
    "    \n",
    "y_predict = np.argmax(y_predict_hot, axis = 0)\n",
    "\n",
    "# 새로운 DataFrame을 만들어 실제값과 예측치를 저장합니다.\n",
    "train_result = pd.DataFrame({'actual': y_train, 'predict': y_predict})\n",
    "\n",
    "# 정확도를 계산합니다.\n",
    "train_accuracy = (train_result[\"actual\"] == train_result[\"predict\"]).mean()\n",
    "\n",
    "print(\"Accuracy(train) = {0:.5f}\".format(train_accuracy))\n",
    "\n",
    "print(train_result.shape)\n",
    "train_result.head(10)"
   ]
  },
  {
   "cell_type": "markdown",
   "metadata": {
    "collapsed": true
   },
   "source": [
    "### Test\n",
    "\n",
    "Test 데이터는 학습 과정에서는 보지못한 새로운 데이터입니다. 이러한 데이터에 대해서도 정확하게 동작하는지 확인해봅시다."
   ]
  },
  {
   "cell_type": "code",
   "execution_count": 36,
   "metadata": {},
   "outputs": [
    {
     "name": "stdout",
     "output_type": "stream",
     "text": [
      "Accuracy(test) = 0.81470\n",
      "(10000, 2)\n"
     ]
    },
    {
     "name": "stderr",
     "output_type": "stream",
     "text": [
      "/Users/choehansol/opt/anaconda3/lib/python3.7/site-packages/ipykernel_launcher.py:2: RuntimeWarning: overflow encountered in exp\n",
      "  \n"
     ]
    },
    {
     "data": {
      "text/html": [
       "<div>\n",
       "<style scoped>\n",
       "    .dataframe tbody tr th:only-of-type {\n",
       "        vertical-align: middle;\n",
       "    }\n",
       "\n",
       "    .dataframe tbody tr th {\n",
       "        vertical-align: top;\n",
       "    }\n",
       "\n",
       "    .dataframe thead th {\n",
       "        text-align: right;\n",
       "    }\n",
       "</style>\n",
       "<table border=\"1\" class=\"dataframe\">\n",
       "  <thead>\n",
       "    <tr style=\"text-align: right;\">\n",
       "      <th></th>\n",
       "      <th>actual</th>\n",
       "      <th>predict</th>\n",
       "    </tr>\n",
       "  </thead>\n",
       "  <tbody>\n",
       "    <tr>\n",
       "      <th>0</th>\n",
       "      <td>7</td>\n",
       "      <td>7</td>\n",
       "    </tr>\n",
       "    <tr>\n",
       "      <th>1</th>\n",
       "      <td>2</td>\n",
       "      <td>2</td>\n",
       "    </tr>\n",
       "    <tr>\n",
       "      <th>2</th>\n",
       "      <td>1</td>\n",
       "      <td>1</td>\n",
       "    </tr>\n",
       "    <tr>\n",
       "      <th>3</th>\n",
       "      <td>0</td>\n",
       "      <td>0</td>\n",
       "    </tr>\n",
       "    <tr>\n",
       "      <th>4</th>\n",
       "      <td>4</td>\n",
       "      <td>4</td>\n",
       "    </tr>\n",
       "    <tr>\n",
       "      <th>5</th>\n",
       "      <td>1</td>\n",
       "      <td>1</td>\n",
       "    </tr>\n",
       "    <tr>\n",
       "      <th>6</th>\n",
       "      <td>4</td>\n",
       "      <td>4</td>\n",
       "    </tr>\n",
       "    <tr>\n",
       "      <th>7</th>\n",
       "      <td>9</td>\n",
       "      <td>9</td>\n",
       "    </tr>\n",
       "    <tr>\n",
       "      <th>8</th>\n",
       "      <td>5</td>\n",
       "      <td>0</td>\n",
       "    </tr>\n",
       "    <tr>\n",
       "      <th>9</th>\n",
       "      <td>9</td>\n",
       "      <td>9</td>\n",
       "    </tr>\n",
       "  </tbody>\n",
       "</table>\n",
       "</div>"
      ],
      "text/plain": [
       "   actual  predict\n",
       "0       7        7\n",
       "1       2        2\n",
       "2       1        1\n",
       "3       0        0\n",
       "4       4        4\n",
       "5       1        1\n",
       "6       4        4\n",
       "7       9        9\n",
       "8       5        0\n",
       "9       9        9"
      ]
     },
     "execution_count": 36,
     "metadata": {},
     "output_type": "execute_result"
    }
   ],
   "source": [
    "# y에 대한 예측값을 만들어냅니다.\n",
    "y_predict_hot = np.dot(w, X_test.T) + b\n",
    "y_predict_hot = sigmoid(y_predict_hot)\n",
    "    \n",
    "y_predict = np.argmax(y_predict_hot, axis = 0)\n",
    "\n",
    "# 위와 마찬가지로 결과를 저장합니다.\n",
    "test_result = pd.DataFrame({'actual': y_test, 'predict': y_predict})\n",
    "\n",
    "# 정확도를 계산합니다.\n",
    "test_accuracy = (test_result[\"actual\"] == test_result[\"predict\"]).mean()\n",
    "\n",
    "print(\"Accuracy(test) = {0:.5f}\".format(test_accuracy))\n",
    "\n",
    "print(test_result.shape)\n",
    "test_result.head(10)"
   ]
  },
  {
   "cell_type": "code",
   "execution_count": null,
   "metadata": {},
   "outputs": [],
   "source": []
  }
 ],
 "metadata": {
  "kernelspec": {
   "display_name": "Python 3",
   "language": "python",
   "name": "python3"
  },
  "language_info": {
   "codemirror_mode": {
    "name": "ipython",
    "version": 3
   },
   "file_extension": ".py",
   "mimetype": "text/x-python",
   "name": "python",
   "nbconvert_exporter": "python",
   "pygments_lexer": "ipython3",
   "version": "3.7.6"
  }
 },
 "nbformat": 4,
 "nbformat_minor": 1
}
