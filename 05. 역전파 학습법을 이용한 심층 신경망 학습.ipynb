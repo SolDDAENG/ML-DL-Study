{
 "cells": [
  {
   "cell_type": "markdown",
   "metadata": {},
   "source": [
    "## 수치 미분을 이용한 심층 신경망 학습"
   ]
  },
  {
   "cell_type": "code",
   "execution_count": 1,
   "metadata": {},
   "outputs": [],
   "source": [
    "import time\n",
    "import numpy as np"
   ]
  },
  {
   "cell_type": "markdown",
   "metadata": {},
   "source": [
    "## 유틸리티 함수"
   ]
  },
  {
   "cell_type": "code",
   "execution_count": 2,
   "metadata": {},
   "outputs": [],
   "source": [
    "def _t(x):\n",
    "    return np.transpose(x)\n",
    "\n",
    "def _m(A, B):\n",
    "    return np.matmul(A, B)"
   ]
  },
  {
   "cell_type": "markdown",
   "metadata": {},
   "source": [
    "## Sigmoid 구현"
   ]
  },
  {
   "cell_type": "code",
   "execution_count": 3,
   "metadata": {},
   "outputs": [],
   "source": [
    "class Sigmoid:\n",
    "    def __init__(self):\n",
    "        self.last_o = 1. # 초기값을 1로 하는 이유는 다른 값과 곱해야하기 때문이다. 0으로 하면 다른 값을 곱했을 때 0이 되기 때문.\n",
    "\n",
    "    def __call__(self, x):  # 순전파 연산\n",
    "        self.last_o = 1 / (1.0 + np.exp(-x))\n",
    "        return self.last_o\n",
    "\n",
    "    def grad(self):  # sigmoid(x)(1-sigmoid(x))  # 역전파 미분 연산\n",
    "        return self.last_o * (1 - self.last_o)"
   ]
  },
  {
   "cell_type": "markdown",
   "metadata": {},
   "source": [
    "## Mean Squared Error 구현"
   ]
  },
  {
   "cell_type": "code",
   "execution_count": 4,
   "metadata": {},
   "outputs": [],
   "source": [
    "class MeanSquaredError:\n",
    "    def __init__(self):\n",
    "        # gradient\n",
    "        self.dh = 1\n",
    "        self.last_diff = 1\n",
    "        \n",
    "    def __call__(self, h, y):  # 1/2 * mean((h - y)^2)\n",
    "        self.last_diff = h - y\n",
    "        return 1 / 2 * np.mean(np.square(h - y))\n",
    "\n",
    "    def grad(self):  # h - y\n",
    "        return self.last_diff"
   ]
  },
  {
   "cell_type": "markdown",
   "metadata": {},
   "source": [
    "## 뉴런 구현"
   ]
  },
  {
   "cell_type": "code",
   "execution_count": 5,
   "metadata": {},
   "outputs": [],
   "source": [
    "class Neuron:\n",
    "    def __init__(self, W, b, a_obj):\n",
    "        # Model parameters\n",
    "        self.W = W\n",
    "        self.b = b\n",
    "        self.a = a_obj()\n",
    "        \n",
    "        # gradient\n",
    "        self.dW = np.zeros_like(self.W)\n",
    "        self.db = np.zeros_like(self.b)\n",
    "        self.dh = np.zeros_like(_t(self.W))\n",
    "        \n",
    "        self.last_x = np.zeros((self.W.shape[0]))\n",
    "        self.last_h = np.zeros((self.W.shape[1]))\n",
    "        \n",
    "    def __call__(self, x):\n",
    "        self.last_x = x\n",
    "        self.last_h = _m(_t(self.W), x) + self.b\n",
    "        return self.a(self.last_h)\n",
    "\n",
    "    def grad(self):  # y = Wx + b ==> dy/dh = W  # layer의 출력과 입력 미분\n",
    "        return self.W * self.a.grad()\n",
    "\n",
    "    def grad_W(self, dh):  # loss_function을 W로 미분 한 것을 저장\n",
    "        grad = np.ones_like(self.W)\n",
    "        grad_a = self.a.grad()\n",
    "        for j in range(grad.shape[1]):  # dy/dW = x    # [1] : output dimension\n",
    "            grad[:, j] = dh[j] * grad_a[j] * self.last_x\n",
    "            # dh : 누적된 gradient 중 마지막 gradient\n",
    "            # grad_a : 현제 activation의 gradient\n",
    "            # self.last_x : w로 미분한 gradient : 마지막으로 입력받은 gradient\n",
    "        return grad\n",
    "        \n",
    "    def grad_b(self, dh):  # 지금까지의 미분을 다 곱한것을 입력으로 받아서 loss_function을 b로 미분\n",
    "        return dh * self.a.grad()  # dy/db = 1  # dh * self.a.grad() * 1"
   ]
  },
  {
   "cell_type": "markdown",
   "metadata": {},
   "source": [
    "## 심층신경망 구현"
   ]
  },
  {
   "cell_type": "code",
   "execution_count": 6,
   "metadata": {},
   "outputs": [],
   "source": [
    "class DNN:\n",
    "    def __init__(self, hidden_depth, num_neuron, input, output, activation=Sigmoid):\n",
    "        def init_var(i, o):\n",
    "            return np.random.normal(0.0, 0.01, (i, o)), np.zeros((o,))\n",
    "\n",
    "        self.sequence = list()\n",
    "        # First hidden layer\n",
    "        W, b = init_var(input, num_neuron)\n",
    "        self.sequence.append(Neuron(W, b, activation))\n",
    "\n",
    "        # Hidden Layers\n",
    "        for index in range(hidden_depth):\n",
    "            W, b = init_var(num_neuron, num_neuron)\n",
    "            self.sequence.append(Neuron(W, b, activation))\n",
    "\n",
    "        # Output Layer\n",
    "        W, b = init_var(num_neuron, output)\n",
    "        self.sequence.append(Neuron(W, b, activation))\n",
    "\n",
    "    def __call__(self, x):\n",
    "        for layer in self.sequence:\n",
    "            x = layer(x)\n",
    "        return x\n",
    "\n",
    "    def calc_gradient(self, loss_obj):  # 마지막 loss_function에 대한 gradient를 미리 계산해서 저장\n",
    "        loss_obj.dh = loss_obj.grad()\n",
    "        self.sequence.append(loss_obj)  # for문으로 loss_obj를 처리하기 위해 시퀀스에 넣어준다.\n",
    "        \n",
    "        # back-prop loop\n",
    "        for i in range(len(self.sequence) - 1, 0, -1):  # gradient를 반대로 하나씩 계산\n",
    "            l1 = self.sequence[i]\n",
    "            l0 = self.sequence[i - 1]\n",
    "            \n",
    "            l0.dh = _m(l0.grad(), l1.dh)  # l0.dh : loss를 현재 layer로 미분한 값. # l0.grad() : 이 다음 layer를 현재 layer로 미분하는 gradient\n",
    "            l0.dW = l0.grad_W(l1.dh)\n",
    "            l0.db = l0.grad_b(l1.dh)\n",
    "        \n",
    "        self.sequence.remove(loss_obj)  # 다 처리 후 다시 빼줘야 한다. 그렇지 않으면 나중에 이 함수를 call할때 losss_obj가 항상 들어있기 때문에 출력을 얻지 못하고 loss만 얻기 때문."
   ]
  },
  {
   "cell_type": "markdown",
   "metadata": {},
   "source": [
    "## 경사하강 학습법"
   ]
  },
  {
   "cell_type": "code",
   "execution_count": 7,
   "metadata": {},
   "outputs": [],
   "source": [
    "def gradient_descent(network, x, y, loss_obj, alpha=0.01):\n",
    "    loss = loss_obj(network(x), y)  # Forward inference\n",
    "    network.calc_gradient(loss_obj)  # Back-propagation\n",
    "    for layer in network.sequence:\n",
    "        layer.W += -alpha * layer.dW\n",
    "        layer.b += -alpha * layer.db\n",
    "    return loss"
   ]
  },
  {
   "cell_type": "markdown",
   "metadata": {},
   "source": [
    "## 동작 테스트"
   ]
  },
  {
   "cell_type": "code",
   "execution_count": 8,
   "metadata": {},
   "outputs": [
    {
     "name": "stdout",
     "output_type": "stream",
     "text": [
      "Epoch 0: Test loss 0.5797287879748814\n",
      "Epoch 1: Test loss 0.5732411988680092\n",
      "Epoch 2: Test loss 0.5668387705002067\n",
      "Epoch 3: Test loss 0.5605247717273485\n",
      "Epoch 4: Test loss 0.5543021396435517\n",
      "Epoch 5: Test loss 0.5481734804383686\n",
      "Epoch 6: Test loss 0.542141072922351\n",
      "Epoch 7: Test loss 0.5362068744865803\n",
      "Epoch 8: Test loss 0.5303725292407148\n",
      "Epoch 9: Test loss 0.5246393780607514\n",
      "Epoch 10: Test loss 0.519008470271563\n",
      "Epoch 11: Test loss 0.5134805766896638\n",
      "Epoch 12: Test loss 0.5080562037577893\n",
      "Epoch 13: Test loss 0.5027356085138507\n",
      "Epoch 14: Test loss 0.4975188141517355\n",
      "Epoch 15: Test loss 0.49240562594934323\n",
      "Epoch 16: Test loss 0.48739564735933516\n",
      "Epoch 17: Test loss 0.482488296079488\n",
      "Epoch 18: Test loss 0.4776828199416092\n",
      "Epoch 19: Test loss 0.47297831248003175\n",
      "Epoch 20: Test loss 0.46837372806227084\n",
      "Epoch 21: Test loss 0.463867896485062\n",
      "Epoch 22: Test loss 0.4594595369583895\n",
      "Epoch 23: Test loss 0.4551472714180391\n",
      "Epoch 24: Test loss 0.4509296371234953\n",
      "Epoch 25: Test loss 0.4468050985126039\n",
      "Epoch 26: Test loss 0.44277205829727573\n",
      "Epoch 27: Test loss 0.43882886779567576\n",
      "Epoch 28: Test loss 0.43497383650587623\n",
      "Epoch 29: Test loss 0.4312052409339241\n",
      "Epoch 30: Test loss 0.4275213326958414\n",
      "Epoch 31: Test loss 0.42392034591830885\n",
      "Epoch 32: Test loss 0.420400503966857\n",
      "Epoch 33: Test loss 0.41696002553340694\n",
      "Epoch 34: Test loss 0.41359713011711147\n",
      "Epoch 35: Test loss 0.41031004293375894\n",
      "Epoch 36: Test loss 0.40709699928964616\n",
      "Epoch 37: Test loss 0.4039562484559018\n",
      "Epoch 38: Test loss 0.4008860570788505\n",
      "Epoch 39: Test loss 0.3978847121612454\n",
      "Epoch 40: Test loss 0.3949505236481217\n",
      "Epoch 41: Test loss 0.39208182664974317\n",
      "Epoch 42: Test loss 0.3892769833326322\n",
      "Epoch 43: Test loss 0.38653438450811334\n",
      "Epoch 44: Test loss 0.3838524509461237\n",
      "Epoch 45: Test loss 0.3812296344403682\n",
      "Epoch 46: Test loss 0.378664418649185\n",
      "Epoch 47: Test loss 0.37615531973480826\n",
      "Epoch 48: Test loss 0.3737008868220626\n",
      "Epoch 49: Test loss 0.37129970229592946\n",
      "Epoch 50: Test loss 0.3689503819558844\n",
      "Epoch 51: Test loss 0.3666515750434427\n",
      "Epoch 52: Test loss 0.36440196415795867\n",
      "Epoch 53: Test loss 0.3622002650744091\n",
      "Epoch 54: Test loss 0.36004522647566817\n",
      "Epoch 55: Test loss 0.3579356296106204\n",
      "Epoch 56: Test loss 0.3558702878883994\n",
      "Epoch 57: Test loss 0.35384804641803314\n",
      "Epoch 58: Test loss 0.3518677815018733\n",
      "Epoch 59: Test loss 0.3499284000903288\n",
      "Epoch 60: Test loss 0.3480288392046501\n",
      "Epoch 61: Test loss 0.34616806533380073\n",
      "Epoch 62: Test loss 0.3443450738107944\n",
      "Epoch 63: Test loss 0.3425588881732887\n",
      "Epoch 64: Test loss 0.3408085595126787\n",
      "Epoch 65: Test loss 0.3390931658154456\n",
      "Epoch 66: Test loss 0.33741181130006725\n",
      "Epoch 67: Test loss 0.33576362575239865\n",
      "Epoch 68: Test loss 0.33414776386205636\n",
      "Epoch 69: Test loss 0.33256340456202454\n",
      "Epoch 70: Test loss 0.33100975037339414\n",
      "Epoch 71: Test loss 0.32948602675688515\n",
      "Epoch 72: Test loss 0.32799148147256696\n",
      "Epoch 73: Test loss 0.3265253839489708\n",
      "Epoch 74: Test loss 0.32508702466260453\n",
      "Epoch 75: Test loss 0.32367571452870836\n",
      "Epoch 76: Test loss 0.32229078430393643\n",
      "Epoch 77: Test loss 0.3209315840015187\n",
      "Epoch 78: Test loss 0.319597482319337\n",
      "Epoch 79: Test loss 0.3182878660812427\n",
      "Epoch 80: Test loss 0.3170021396918552\n",
      "Epoch 81: Test loss 0.3157397246049931\n",
      "Epoch 82: Test loss 0.314500058805826\n",
      "Epoch 83: Test loss 0.31328259630676414\n",
      "Epoch 84: Test loss 0.31208680665705796\n",
      "Epoch 85: Test loss 0.31091217446602626\n",
      "Epoch 86: Test loss 0.30975819893979334\n",
      "Epoch 87: Test loss 0.308624393431384\n",
      "Epoch 88: Test loss 0.30751028500398964\n",
      "Epoch 89: Test loss 0.30641541400720285\n",
      "Epoch 90: Test loss 0.3053393336659858\n",
      "Epoch 91: Test loss 0.3042816096821341\n",
      "Epoch 92: Test loss 0.30324181984797116\n",
      "Epoch 93: Test loss 0.302219553672008\n",
      "Epoch 94: Test loss 0.30121441201628685\n",
      "Epoch 95: Test loss 0.30022600674512606\n",
      "Epoch 96: Test loss 0.29925396038497637\n",
      "Epoch 97: Test loss 0.2982979057950983\n",
      "Epoch 98: Test loss 0.29735748584876737\n",
      "Epoch 99: Test loss 0.29643235312471566\n",
      "0.11427783966064453 seconds elapsed.\n"
     ]
    }
   ],
   "source": [
    "x = np.random.normal(0.0, 1.0, (10,))\n",
    "y = np.random.normal(0.0, 1.0, (2,))\n",
    "\n",
    "t = time.time()\n",
    "dnn = DNN(hidden_depth=5, num_neuron=32, input=10, output=2, activation=Sigmoid)\n",
    "loss_obj = MeanSquaredError()\n",
    "for epoch in range(100):\n",
    "    loss = gradient_descent(dnn, x, y, loss_obj, alpha=0.01)\n",
    "    print('Epoch {}: Test loss {}'.format(epoch, loss))\n",
    "print('{} seconds elapsed.'.format(time.time() - t))"
   ]
  },
  {
   "cell_type": "code",
   "execution_count": null,
   "metadata": {},
   "outputs": [],
   "source": []
  }
 ],
 "metadata": {
  "kernelspec": {
   "display_name": "Python 3",
   "language": "python",
   "name": "python3"
  },
  "language_info": {
   "codemirror_mode": {
    "name": "ipython",
    "version": 3
   },
   "file_extension": ".py",
   "mimetype": "text/x-python",
   "name": "python",
   "nbconvert_exporter": "python",
   "pygments_lexer": "ipython3",
   "version": "3.7.6"
  }
 },
 "nbformat": 4,
 "nbformat_minor": 2
}
